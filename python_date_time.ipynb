{
 "cells": [
  {
   "cell_type": "markdown",
   "id": "e5a3a641",
   "metadata": {},
   "source": [
    "🔤 What do the % codes mean?\n",
    "| Code | Meaning                     | Example  |\n",
    "| ---- | --------------------------- | -------- |\n",
    "| `%Y` | Year (4 digits)             | `2025`   |\n",
    "| `%y` | Year (last 2 digits)        | `25`     |\n",
    "| `%m` | Month (01-12)               | `07`     |\n",
    "| `%d` | Day (01-31)                 | `07`     |\n",
    "| `%H` | Hour (00-23, 24-hour clock) | `13`     |\n",
    "| `%I` | Hour (01-12, 12-hour clock) | `01`     |\n",
    "| `%p` | AM or PM                    | `PM`     |\n",
    "| `%M` | Minutes (00-59)             | `45`     |\n",
    "| `%S` | Seconds (00-59)             | `30`     |\n",
    "| `%A` | Weekday (full name)         | `Monday` |\n",
    "| `%a` | Weekday (short)             | `Mon`    |\n",
    "| `%B` | Month name (full)           | `July`   |\n",
    "| `%b` | Month name (short)          | `Jul`    |\n"
   ]
  },
  {
   "cell_type": "markdown",
   "id": "fc9e6f57",
   "metadata": {},
   "source": [
    "Use datetime module"
   ]
  },
  {
   "cell_type": "code",
   "execution_count": 3,
   "id": "223fa7d5",
   "metadata": {},
   "outputs": [
    {
     "name": "stdout",
     "output_type": "stream",
     "text": [
      "date and time 2025-07-08 15:34:32.037546\n",
      "15:34:32.037546\n"
     ]
    }
   ],
   "source": [
    "import datetime\n",
    "\n",
    "print(\"date and time\",datetime.datetime.now())\n",
    "\n",
    "# only time\n",
    "print(datetime.datetime.now().time())"
   ]
  },
  {
   "cell_type": "markdown",
   "id": "9363b8a7",
   "metadata": {},
   "source": [
    "Solution 2 using time.strftime()"
   ]
  },
  {
   "cell_type": "code",
   "execution_count": 8,
   "id": "76537f6a",
   "metadata": {},
   "outputs": [
    {
     "name": "stdout",
     "output_type": "stream",
     "text": [
      "2025-07-08 10:13:14\n",
      "2025-07-08 15:43:14\n"
     ]
    }
   ],
   "source": [
    "from time import gmtime,strftime ,localtime\n",
    "\n",
    "print(strftime(\"%Y-%m-%d %H:%M:%S\",gmtime()))\n",
    "print(strftime(\"%Y-%m-%d %H:%M:%S\",localtime()))"
   ]
  },
  {
   "cell_type": "code",
   "execution_count": 14,
   "id": "b0bc7091",
   "metadata": {},
   "outputs": [
    {
     "name": "stdout",
     "output_type": "stream",
     "text": [
      "2020-02-25 00:00:00\n",
      "New Date\n",
      "2020-02-18 00:00:00\n"
     ]
    }
   ],
   "source": [
    "# Exercise 2: Convert String Into Datetime Object \n",
    "# input -->date_string = \"Feb 25 2020 4:20PM\" \n",
    "# output --> 2020-02-25 16:20:00\n",
    "from datetime import datetime, timedelta\n",
    "given_date=datetime(2020,2,25)\n",
    "print(given_date)\n",
    "days_to_subtract = 7\n",
    "res_date = given_date - timedelta(days=days_to_subtract)\n",
    "print(\"New Date\")\n",
    "print(res_date)"
   ]
  },
  {
   "cell_type": "markdown",
   "id": "42dbb497",
   "metadata": {},
   "source": [
    "Exercise 3: Subtract a Week From a Given Date"
   ]
  },
  {
   "cell_type": "code",
   "execution_count": 5,
   "id": "4ff0b41b",
   "metadata": {},
   "outputs": [
    {
     "name": "stdout",
     "output_type": "stream",
     "text": [
      "old date: 2020-02-25 00:00:00\n",
      "new_date: 2020-02-18 00:00:00\n"
     ]
    }
   ],
   "source": [
    "from datetime import datetime ,timedelta\n",
    "given_date = datetime(2020, 2, 25)\n",
    "print(\"old date:\",given_date)\n",
    "# Expected output :2020-02-18 \n",
    "days_of_subtract = 7\n",
    "res_date=given_date - timedelta(days=days_of_subtract) \n",
    "print(\"new_date:\",res_date)"
   ]
  },
  {
   "cell_type": "code",
   "execution_count": null,
   "id": "5307add8",
   "metadata": {},
   "outputs": [],
   "source": []
  },
  {
   "cell_type": "markdown",
   "id": "72619b89",
   "metadata": {},
   "source": [
    "Exercise 4: Format DateTime"
   ]
  },
  {
   "cell_type": "code",
   "execution_count": 6,
   "id": "2f41535a",
   "metadata": {},
   "outputs": [
    {
     "name": "stdout",
     "output_type": "stream",
     "text": [
      "Tuesday 25 February 2020\n"
     ]
    }
   ],
   "source": [
    "# <!-- Day_name  Day_number  Month_name  Year --> \n",
    "# <!-- Given:   given_date = datetime(2020, 2, 25) -->\n",
    "# <!-- Expected output: Tuesday 25 February 2020 --> \n",
    "from datetime import datetime\n",
    "given_date = datetime(2020, 2, 25) \n",
    "res=given_date.strftime('%A %d %B %Y')\n",
    "print(res)"
   ]
  },
  {
   "cell_type": "markdown",
   "id": "b3d3daff",
   "metadata": {},
   "source": [
    "Exercise 5: Find Day of Week"
   ]
  },
  {
   "cell_type": "code",
   "execution_count": 7,
   "id": "12fe86c1",
   "metadata": {},
   "outputs": [
    {
     "name": "stdout",
     "output_type": "stream",
     "text": [
      "Sunday\n"
     ]
    }
   ],
   "source": [
    "from datetime import datetime \n",
    "# Given: \n",
    "given_date = datetime(2020, 7, 26) \n",
    "# Expected output: Sunday \n",
    "\n",
    "print(given_date.strftime('%A'))"
   ]
  },
  {
   "cell_type": "markdown",
   "id": "1c5a9f06",
   "metadata": {},
   "source": [
    "Exercise 6: Add Week to Given Date \n",
    "Write a code to add a week (7 days) and 12 hours to a given date.\n",
    "\n",
    "Given:\n",
    "\n",
    "# 2020-03-22 10:00:00\n",
    "given_date = datetime(2020, 3, 22, 10, 0, 0)\n",
    "Expected output:\n",
    "\n",
    "2020-03-29 22:00:00"
   ]
  },
  {
   "cell_type": "code",
   "execution_count": 1,
   "id": "62166482",
   "metadata": {},
   "outputs": [
    {
     "name": "stdout",
     "output_type": "stream",
     "text": [
      "new_date 2020-03-29 22:00:00\n"
     ]
    }
   ],
   "source": [
    "from datetime import datetime ,timedelta\n",
    "given_date = datetime(2020, 3, 22, 10, 0, 0)\n",
    "days_of_add=7\n",
    "res_date=given_date+timedelta(days=days_of_add,hours=12)\n",
    "\n",
    "print(\"new_date\",res_date)"
   ]
  },
  {
   "cell_type": "markdown",
   "id": "e853f8b1",
   "metadata": {},
   "source": [
    "Exercise 7: Print Current Time in Milliseconds"
   ]
  },
  {
   "cell_type": "code",
   "execution_count": 4,
   "id": "8ebef987",
   "metadata": {},
   "outputs": [
    {
     "name": "stdout",
     "output_type": "stream",
     "text": [
      "1752132097774\n"
     ]
    }
   ],
   "source": [
    "import time \n",
    "miliseconds=int(round(time.time()*1000))\n",
    "print(miliseconds)"
   ]
  },
  {
   "cell_type": "markdown",
   "id": "bc1cb216",
   "metadata": {},
   "source": [
    "Exercise 8: Convert Datetime into String"
   ]
  },
  {
   "cell_type": "code",
   "execution_count": 6,
   "id": "a13691ba",
   "metadata": {},
   "outputs": [
    {
     "name": "stdout",
     "output_type": "stream",
     "text": [
      "2020-02-25 00:00:00\n"
     ]
    }
   ],
   "source": [
    "from datetime import  datetime \n",
    "given_date = datetime(2020, 2, 25)\n",
    "# expected output:-\"2020-02-25 00:00:00\"\n",
    "string_date=given_date.strftime(\"%Y-%m-%d %H:%M:%S\")\n",
    "print(string_date)"
   ]
  },
  {
   "cell_type": "markdown",
   "id": "4ba2622e",
   "metadata": {},
   "source": [
    "Exercise 9: Calculate the date 4 months from the current date"
   ]
  },
  {
   "cell_type": "code",
   "execution_count": 14,
   "id": "9793db12",
   "metadata": {},
   "outputs": [
    {
     "name": "stdout",
     "output_type": "stream",
     "text": [
      "old date:  2020-02-25\n",
      "new date:  2020-06-25\n"
     ]
    }
   ],
   "source": [
    "from datetime import datetime \n",
    "from dateutil.relativedelta import relativedelta \n",
    "given_date = datetime(2020, 2, 25).date()\n",
    "print(\"old date: \",given_date)\n",
    "months_to_add=4\n",
    "new_date = given_date + relativedelta(months= months_to_add)\n",
    "print(\"new date: \",new_date)"
   ]
  },
  {
   "cell_type": "markdown",
   "id": "b74d31f0",
   "metadata": {},
   "source": [
    "Exercise 10: Calculate Days Between Two Dates\n"
   ]
  },
  {
   "cell_type": "code",
   "execution_count": 18,
   "id": "68013408",
   "metadata": {},
   "outputs": [
    {
     "name": "stdout",
     "output_type": "stream",
     "text": [
      "date_2 is greater\n",
      "Difference is  205 days\n"
     ]
    }
   ],
   "source": [
    "from datetime  import timedelta\n",
    "date_1 = datetime(2020, 2, 25)\n",
    "date_2 = datetime(2020, 9, 17)\n",
    "\n",
    "# Expected output: 205 days \n",
    "\n",
    "delta=None\n",
    "if date_1>date_2:\n",
    "    print(\"date_1 is greater \")\n",
    "    delta=date_1-date_2\n",
    "    print(\"Difference is \",delta.days,\"days\") \n",
    "else:\n",
    "    print(\"date_2 is greater\")\n",
    "    delta=date_2-date_1 \n",
    "    print(\"Difference is \",delta.days,\"days\")    "
   ]
  }
 ],
 "metadata": {
  "kernelspec": {
   "display_name": "Python 3",
   "language": "python",
   "name": "python3"
  },
  "language_info": {
   "codemirror_mode": {
    "name": "ipython",
    "version": 3
   },
   "file_extension": ".py",
   "mimetype": "text/x-python",
   "name": "python",
   "nbconvert_exporter": "python",
   "pygments_lexer": "ipython3",
   "version": "3.11.4"
  }
 },
 "nbformat": 4,
 "nbformat_minor": 5
}
