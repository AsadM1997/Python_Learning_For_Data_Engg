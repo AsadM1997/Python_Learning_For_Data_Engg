{
 "cells": [
  {
   "cell_type": "code",
   "execution_count": 1,
   "id": "0da14e98",
   "metadata": {},
   "outputs": [
    {
     "name": "stdout",
     "output_type": "stream",
     "text": [
      "10\n"
     ]
    }
   ],
   "source": [
    "n1=7\n",
    "n2=3\n",
    "sum=n1+n2\n",
    "print(sum)\n"
   ]
  },
  {
   "cell_type": "code",
   "execution_count": null,
   "id": "af51bb61",
   "metadata": {},
   "outputs": [],
   "source": []
  },
  {
   "cell_type": "code",
   "execution_count": 5,
   "id": "a60c3730",
   "metadata": {},
   "outputs": [
    {
     "name": "stdout",
     "output_type": "stream",
     "text": [
      "Invalid input! Please enter valid numbers.\n"
     ]
    }
   ],
   "source": [
    "try:\n",
    "    n1 = float(input(\"Enter n1: \"))\n",
    "    n2 = float(input(\"Enter n2: \"))\n",
    "    sum_result = n1 + n2\n",
    "    print(\"Sum:\", sum_result)\n",
    "except ValueError:\n",
    "    print(\"Invalid input! Please enter valid numbers.\")\n"
   ]
  },
  {
   "cell_type": "code",
   "execution_count": 6,
   "id": "ae8eaca6",
   "metadata": {},
   "outputs": [
    {
     "name": "stdout",
     "output_type": "stream",
     "text": [
      "hello world\n"
     ]
    }
   ],
   "source": [
    "print(\"hello world\")"
   ]
  },
  {
   "cell_type": "code",
   "execution_count": 7,
   "id": "3e0b6c99",
   "metadata": {},
   "outputs": [
    {
     "name": "stdout",
     "output_type": "stream",
     "text": [
      "2.0\n"
     ]
    }
   ],
   "source": [
    "n1 = float(input(\"Enter n1: \"))\n",
    "sr=n1**(0.5)\n",
    "print(sr)\n"
   ]
  },
  {
   "cell_type": "code",
   "execution_count": null,
   "id": "481e1b50",
   "metadata": {},
   "outputs": [],
   "source": [
    "import math \n",
    "n1 = float(input(\"Enter n1: \"))\n",
    "sr=math.sqrt(n1)"
   ]
  },
  {
   "cell_type": "code",
   "execution_count": 1,
   "id": "65d0b6f3",
   "metadata": {},
   "outputs": [
    {
     "ename": "ValueError",
     "evalue": "could not convert string to float: ''",
     "output_type": "error",
     "traceback": [
      "\u001b[31m---------------------------------------------------------------------------\u001b[39m",
      "\u001b[31mValueError\u001b[39m                                Traceback (most recent call last)",
      "\u001b[36mCell\u001b[39m\u001b[36m \u001b[39m\u001b[32mIn[1]\u001b[39m\u001b[32m, line 1\u001b[39m\n\u001b[32m----> \u001b[39m\u001b[32m1\u001b[39m height=\u001b[38;5;28;43mfloat\u001b[39;49m\u001b[43m(\u001b[49m\u001b[38;5;28;43minput\u001b[39;49m\u001b[43m(\u001b[49m\u001b[33;43m\"\u001b[39;49m\u001b[33;43mheight\u001b[39;49m\u001b[33;43m\"\u001b[39;49m\u001b[43m)\u001b[49m\u001b[43m)\u001b[49m\n\u001b[32m      2\u001b[39m weight =\u001b[38;5;28mfloat\u001b[39m(\u001b[38;5;28minput\u001b[39m(\u001b[33m\"\u001b[39m\u001b[33mweight\u001b[39m\u001b[33m\"\u001b[39m))\n\u001b[32m      3\u001b[39m area=height*weight*(\u001b[32m0.5\u001b[39m)\n",
      "\u001b[31mValueError\u001b[39m: could not convert string to float: ''"
     ]
    }
   ],
   "source": [
    "\n",
    "height=float(input(\"height\"))\n",
    "weight =float(input(\"weight\"))\n",
    "area=height*weight*(0.5)\n",
    "print('area is', area)"
   ]
  },
  {
   "cell_type": "code",
   "execution_count": null,
   "id": "c7c9ea63",
   "metadata": {},
   "outputs": [],
   "source": [
    "x=4\n",
    "y=3\n",
    "\n",
    "z=x\n",
    "x=y\n",
    "y=z\n",
    "print(x,y)"
   ]
  },
  {
   "cell_type": "code",
   "execution_count": null,
   "id": "a8578565",
   "metadata": {},
   "outputs": [],
   "source": [
    "# without temp variable \n",
    "x=4\n",
    "y=3\n",
    "\n",
    "x,y=y,x\n",
    "print(x,y)"
   ]
  },
  {
   "cell_type": "markdown",
   "id": "3600e42e",
   "metadata": {},
   "source": [
    "km=float(input(\"enter km: \"))\n",
    "into_miles=km*(0.621371)\n",
    "print(km,\"kilometer into miles will be\", into_miles, \"miles\")"
   ]
  },
  {
   "cell_type": "code",
   "execution_count": null,
   "id": "8f208f7a",
   "metadata": {},
   "outputs": [],
   "source": [
    "number=float(input(\"enter number \"))\n",
    "if number >0:\n",
    "    print(\"number is positive: \",number)\n",
    "elif number <0:\n",
    "     print(\"number is negative: \",number)\n",
    "else:\n",
    "    print(\"number is zero\")"
   ]
  },
  {
   "cell_type": "code",
   "execution_count": 1,
   "id": "b44f6cdf",
   "metadata": {},
   "outputs": [
    {
     "ename": "ValueError",
     "evalue": "could not convert string to float: ''",
     "output_type": "error",
     "traceback": [
      "\u001b[1;31m---------------------------------------------------------------------------\u001b[0m",
      "\u001b[1;31mValueError\u001b[0m                                Traceback (most recent call last)",
      "Cell \u001b[1;32mIn[1], line 1\u001b[0m\n\u001b[1;32m----> 1\u001b[0m n1\u001b[38;5;241m=\u001b[39m\u001b[38;5;28;43mfloat\u001b[39;49m\u001b[43m(\u001b[49m\u001b[38;5;28;43minput\u001b[39;49m\u001b[43m(\u001b[49m\u001b[38;5;124;43m\"\u001b[39;49m\u001b[38;5;124;43menter number: \u001b[39;49m\u001b[38;5;124;43m\"\u001b[39;49m\u001b[43m)\u001b[49m\u001b[43m)\u001b[49m\n\u001b[0;32m      2\u001b[0m \u001b[38;5;28;01mif\u001b[39;00m n1\u001b[38;5;241m%\u001b[39m\u001b[38;5;241m2\u001b[39m\u001b[38;5;241m==\u001b[39m\u001b[38;5;241m0\u001b[39m:\n\u001b[0;32m      3\u001b[0m     \u001b[38;5;28mprint\u001b[39m(\u001b[38;5;124m\"\u001b[39m\u001b[38;5;124mnumber is even: \u001b[39m\u001b[38;5;124m\"\u001b[39m,n1)\n",
      "\u001b[1;31mValueError\u001b[0m: could not convert string to float: ''"
     ]
    }
   ],
   "source": [
    "n1=float(input(\"enter number: \"))\n",
    "if n1%2==0:\n",
    "    print(\"number is even: \",n1)\n",
    "else:\n",
    "    print(\"odd\", n1)"
   ]
  },
  {
   "cell_type": "code",
   "execution_count": null,
   "id": "43c21996",
   "metadata": {},
   "outputs": [],
   "source": []
  },
  {
   "cell_type": "code",
   "execution_count": null,
   "id": "8517f3d1",
   "metadata": {},
   "outputs": [],
   "source": [
    "year=float(input(\"enter year: \"))\n",
    "if (year%400==0) and (year%100 ==0):\n",
    "    print(year,\"is a leap year: \")\n",
    "elif (year%4==0) and (year%100 !=0):\n",
    "    print(year,\"is a leap year: \")\n",
    "else:\n",
    "    print(year,\"it is not a leap year\")"
   ]
  },
  {
   "cell_type": "code",
   "execution_count": null,
   "id": "dbb8b0bc",
   "metadata": {},
   "outputs": [],
   "source": [
    "num=int(input(\"enter number: \"))\n",
    "\n",
    "if (num==1):\n",
    "    print(\"it is not a prime number\",num)\n",
    "if (num>1):\n",
    "    for i in range(2,num):\n",
    "        if num%i==0:\n",
    "            print(\"it is not a prime Number\",num)\n",
    "            break\n",
    "    else:\n",
    "        print(\"it is prime number\",num)"
   ]
  },
  {
   "cell_type": "code",
   "execution_count": null,
   "id": "4a9c09a5",
   "metadata": {},
   "outputs": [],
   "source": [
    "import random\n",
    "n=random.randint(1,9)\n",
    "print(n)"
   ]
  },
  {
   "cell_type": "code",
   "execution_count": null,
   "id": "6c70b3e5",
   "metadata": {},
   "outputs": [],
   "source": [
    "celcius=int(input(\"enter tempreture in celcicus: \"))\n",
    "\n",
    "farenhite=(celcius*1.8)+32\n",
    "print(\"celcicus to farenhite\" ,farenhite,\"F\")"
   ]
  },
  {
   "cell_type": "code",
   "execution_count": null,
   "id": "cdf0c0e9",
   "metadata": {},
   "outputs": [],
   "source": [
    "# using range \n",
    "num=int(input(\"enter number: \"))\n",
    "factorial= 1\n",
    "if num==0:\n",
    "    print(\"factorial is \",1)\n",
    "if num<0:\n",
    "    print(\"factorial of 0 or negative number  does'nt exist\")\n",
    "if num>0:\n",
    "    for i in range(1,num+1):\n",
    "        factorial=factorial*i\n",
    "    print(factorial,\"is a factorial\")"
   ]
  },
  {
   "cell_type": "code",
   "execution_count": null,
   "id": "ae0080e2",
   "metadata": {},
   "outputs": [],
   "source": [
    "# using recurrsion\n",
    "def fact(n):\n",
    "    if n==0:\n",
    "        return 1 \n",
    "    else:\n",
    "        return (n*fact(n-1))\n",
    "        \n",
    "        \n",
    "num=int(input(\"enter number to find factorial:\"))\n",
    "factorial_is=fact(num)\n",
    "print(\"factorial of a number is :\",factorial_is)"
   ]
  },
  {
   "cell_type": "code",
   "execution_count": null,
   "id": "f61c2c1a",
   "metadata": {},
   "outputs": [],
   "source": [
    "n=int(input(\"enter number: \"))\n",
    "\n",
    "for  i in range(1,11):\n",
    "    print(n ,\"*\",i,\"=\",n*i)"
   ]
  },
  {
   "cell_type": "code",
   "execution_count": null,
   "id": "35da039d",
   "metadata": {},
   "outputs": [],
   "source": [
    "# fibbonaci number\n",
    "number=int(input(\"enter number\"))\n",
    "a=0\n",
    "b=1 \n",
    "\n",
    "if number==1:\n",
    "    print(a)\n",
    "else:\n",
    "    print(a)\n",
    "    print(b)\n",
    "for i in range(2,number):\n",
    "    c=a+b\n",
    "    a=b\n",
    "    b=c\n",
    "    print(c)\n"
   ]
  },
  {
   "cell_type": "code",
   "execution_count": null,
   "id": "9bf1488e",
   "metadata": {},
   "outputs": [],
   "source": [
    "# armstrong number\n",
    "n=int(input(\"enter number\"))\n",
    "order =len(str(n))\n",
    "sum=0\n",
    "temp=n \n",
    "while temp>0:\n",
    "    digit=temp%10\n",
    "    cube=digit**order\n",
    "    sum+=cube\n",
    "    temp//=10\n",
    "if sum == n:\n",
    "    print(\"number is armstrong \",sum)\n",
    "else:\n",
    "      print(\"number is not armstrong \",sum)"
   ]
  },
  {
   "cell_type": "code",
   "execution_count": null,
   "id": "f619f121",
   "metadata": {},
   "outputs": [],
   "source": [
    "# sum of n natural numbers\n",
    "n=int(input(\"enter number:\"))\n",
    "if n<0:\n",
    "    print(\"please enter positive number\")\n",
    "else:\n",
    "    sum=0\n",
    "    while(n>0):\n",
    "        sum+=n\n",
    "        n-= 1 \n",
    "    print(sum)"
   ]
  },
  {
   "cell_type": "code",
   "execution_count": null,
   "id": "3c2273c6",
   "metadata": {},
   "outputs": [],
   "source": [
    "nterms=int(input(\"enter number:\"))\n",
    "\n",
    "\n",
    "result=list(map(lambda x:2**x,range(nterms+1)))\n",
    "# print(result)\n",
    "for i in range(nterms+1):\n",
    "    print(\"the value of 2 raised to power\",i,\"is\",result[i])"
   ]
  },
  {
   "cell_type": "code",
   "execution_count": null,
   "id": "550b73cf",
   "metadata": {},
   "outputs": [],
   "source": [
    "# if number divisible by any other number using loop\n",
    "\n",
    "lower=int(input(\"enter lower limit\"))\n",
    "upper=int(input(\"enter upper limit\"))\n",
    "num=int(input(\"enter number\"))\n",
    "\n",
    "print()\n",
    "for i in range(lower,upper+1):\n",
    "   if i%num==0:\n",
    "       print(i)"
   ]
  },
  {
   "cell_type": "code",
   "execution_count": null,
   "id": "d923a776",
   "metadata": {},
   "outputs": [],
   "source": [
    "# using lambda function\n",
    "num=int(input(\"enter number\"))\n",
    "list_1=[1,23,12,13,44,26]\n",
    "result=list(filter(lambda x:x%num==0 ,list_1))\n",
    "print(\"the num divisible by are\",result)"
   ]
  },
  {
   "cell_type": "code",
   "execution_count": null,
   "id": "90a4505a",
   "metadata": {},
   "outputs": [],
   "source": [
    "\n",
    "decimal=int(input(\"enter a number\"))\n",
    "print(\"the coversion decimal number \", decimal,\"is :\")\n",
    "\n",
    "print(bin(decimal),\"in binary\")\n",
    "print(oct(decimal),\"in octal\")\n",
    "print(hex(decimal),\"in hexadecimal\")"
   ]
  },
  {
   "cell_type": "code",
   "execution_count": null,
   "id": "abab9429",
   "metadata": {},
   "outputs": [],
   "source": [
    "\n",
    "char=\"%\"\n",
    "print(\"the ASCII VALUE OF\",char,\"is\",ord(char))"
   ]
  },
  {
   "cell_type": "code",
   "execution_count": null,
   "id": "c953f3a7",
   "metadata": {},
   "outputs": [],
   "source": [
    "def find_hcf(x,y):\n",
    "    smaller=0\n",
    "    \n",
    "    if x>y:\n",
    "        smaller=y \n",
    "    else:\n",
    "        smaller=x\n",
    "        \n",
    "    for i in range(1,smaller+1):\n",
    "        if ((x%i==0)and (y%i==0)):\n",
    "            hcf=i\n",
    "    return hcf\n",
    "\n",
    "print(\"the hcf of two given number is: \",find_hcf(12,30))"
   ]
  },
  {
   "cell_type": "code",
   "execution_count": null,
   "id": "a02cdf3a",
   "metadata": {},
   "outputs": [],
   "source": [
    "# factor of a number\n",
    "num=int(input(\"enter number: \"))\n",
    "for i in range(1,num+1):\n",
    "    if num%i==0:\n",
    "        print(i)"
   ]
  },
  {
   "cell_type": "code",
   "execution_count": null,
   "id": "930445ab",
   "metadata": {},
   "outputs": [],
   "source": [
    "# mini calulator\n",
    "num1=float(input(\"enter first number: \"))\n",
    "num2=float(input(\"enter 2nd number: \"))\n",
    "\n",
    "print(\"press 1 for addition \\n press 2 for subtraction \\n press 3 for multiplication \\n press 4 for division\")\n",
    "\n",
    "choice=int(input(\"enter your choice from 1-4:\"))\n",
    "\n",
    "if choice==1:\n",
    "    print(num1+num2)\n",
    "elif choice == 2:\n",
    "    print(num1-num2)\n",
    "elif choice == 3:\n",
    "    print(num1*num2)\n",
    "elif choice == 4:\n",
    "    if num2!=0:\n",
    "        print(num1/num2)\n",
    "else:\n",
    "    print(\"please enter right choice\")"
   ]
  },
  {
   "cell_type": "code",
   "execution_count": null,
   "id": "58475b50",
   "metadata": {},
   "outputs": [],
   "source": [
    "import random,itertools\n",
    "\n",
    "deck=list(itertools.product(range(1,14),[\"spade\",\"club\",\"heart\",\"diamond\"]))\n",
    "# print(deck)\n",
    "random.shuffle(deck)\n",
    "# print(deck)\n",
    "\n",
    "for i in range(5):\n",
    "    print(deck[i],[0],\"of\",deck[i],[1])"
   ]
  },
  {
   "cell_type": "code",
   "execution_count": null,
   "id": "6c1ba186",
   "metadata": {},
   "outputs": [],
   "source": [
    "import calendar\n",
    "\n",
    "year=int(input(\"enter year\"))\n",
    "month=int(input(\"enter month: \"))\n",
    "\n",
    "calender=calendar.month(year,month)\n",
    "print(calender)"
   ]
  },
  {
   "cell_type": "code",
   "execution_count": null,
   "id": "7d3b580b",
   "metadata": {},
   "outputs": [],
   "source": [
    "def fibonacci(n):\n",
    "    if n <= 0:\n",
    "        return 0\n",
    "    elif n == 1:\n",
    "        return 1\n",
    "    else:\n",
    "        return fibonacci(n-1) + fibonacci(n-2)\n",
    "# Get the number of terms from user\n",
    "terms = int(input(\"Enter the number of terms: \"))\n",
    "print(\"Fibonacci sequence:\")\n",
    "for i in range(terms):\n",
    "    print(fibonacci(i), end=' ')"
   ]
  },
  {
   "cell_type": "code",
   "execution_count": null,
   "id": "9de157c8",
   "metadata": {},
   "outputs": [],
   "source": [
    "# fibboncci using recursion \n",
    "def fibonacci(n):\n",
    "    if n <= 0:\n",
    "        return 0\n",
    "    elif n == 1:\n",
    "        return 1\n",
    "    else:\n",
    "        return fibonacci(n-1) + fibonacci(n-2)\n",
    "# Get the number of terms from user\n",
    "terms = int(input(\"Enter the number of terms: \"))\n",
    "print(\"Fibonacci sequence:\")\n",
    "for i in range(terms):\n",
    "    print(fibonacci(i), end=' ')"
   ]
  },
  {
   "cell_type": "code",
   "execution_count": null,
   "id": "957141ef",
   "metadata": {},
   "outputs": [],
   "source": [
    "def recursive_sum(n):\n",
    "    if n<=0:\n",
    "        return 0\n",
    "    else:\n",
    "        return n + recursive_sum(n-1)\n",
    "        \n",
    "num=int(input(\"enter a positive integer: \"))\n",
    "\n",
    "if num<0:\n",
    "    print(\"please enter positive integer: \")\n",
    "else:\n",
    "    print(f\"The sum of natural numbers up to {num} is:{recursive_sum(num)}\")"
   ]
  },
  {
   "cell_type": "code",
   "execution_count": null,
   "id": "46c4ca4b",
   "metadata": {},
   "outputs": [],
   "source": [
    "def recursive_fact(n):\n",
    "    if n==0 or n==1:\n",
    "        return 1\n",
    "    else:\n",
    "        return n * recursive_fact(n-1)\n",
    "        \n",
    "num=int(input(\"enter a positive integer: \"))\n",
    "\n",
    "if num<0:\n",
    "    print(\"please enter positive integer: \")\n",
    "else:\n",
    "    print(f\"The sum of natural numbers up to {num} is:{recursive_fact(num)}\")"
   ]
  },
  {
   "cell_type": "code",
   "execution_count": null,
   "id": "5d70c26a",
   "metadata": {},
   "outputs": [],
   "source": [
    "# Define two matrices\n",
    "matrix1 = [\n",
    "    [1, 2, 3],\n",
    "    [4, 5, 6],\n",
    "    [7, 8, 9]\n",
    "]\n",
    "\n",
    "matrix2 = [\n",
    "    [9, 8, 7],\n",
    "    [6, 5, 4],\n",
    "    [3, 2, 1]\n",
    "]\n",
    "# Initialize result matrix with zeros\n",
    "result = [\n",
    "    [0, 0, 0],\n",
    "    [0, 0, 0],\n",
    "    [0, 0, 0]\n",
    "]\n",
    "\n",
    "for i in range(len(matrix1)):\n",
    "    for j in range(len(matrix2)):\n",
    "        result[i][j]=matrix1[i][j]+matrix2[i][j]\n",
    "print(\"Resultant Matrix after Addition:\")\n",
    "print(result)\n",
    "\n",
    "for row in result:\n",
    "    print(row)\n"
   ]
  },
  {
   "cell_type": "code",
   "execution_count": null,
   "id": "4d9d2a44",
   "metadata": {},
   "outputs": [],
   "source": [
    "# transpose of a metrix\n",
    "# Define two matrices\n",
    "row_matrix= [\n",
    "    [1, 2, 3],\n",
    "    [4, 5, 6]\n",
    "]\n",
    "\n",
    "\n",
    "# Initialize result matrix with zeros\n",
    "col_matrix = [\n",
    "    [0, 0],\n",
    "    [0, 0],\n",
    "    [0,0]\n",
    "]\n",
    "\n",
    "for i in range(len(row_matrix)):\n",
    "    for j in range(len(row_matrix[0])):\n",
    "        col_matrix[j][i]=row_matrix[i][j]\n",
    "print(\"Resultant Matrix after Addition:\")\n",
    "print(col_matrix)\n",
    "\n",
    "for row in col_matrix:\n",
    "    print(row)\n"
   ]
  },
  {
   "cell_type": "code",
   "execution_count": null,
   "id": "a53da413",
   "metadata": {},
   "outputs": [],
   "source": [
    "word =input(\"enter word here: \")\n",
    "\n",
    "reverse=word[::-1]\n",
    "\n",
    "if word==reverse:\n",
    "    print(\"plindrom\")\n",
    "else:\n",
    "    print(\"not palindrom\")"
   ]
  },
  {
   "cell_type": "code",
   "execution_count": null,
   "id": "dcef3ed3",
   "metadata": {},
   "outputs": [],
   "source": [
    "punc='''!\"#$%&'()*+,-./:;<=>?@[\\]^_`{|}~'''\n",
    "\n",
    "string=input(\"enter string: \")\n",
    "empty_string=\"\"\n",
    "for i in string:\n",
    "    if i not in punc:\n",
    "        empty_string+=i \n",
    "print(empty_string)"
   ]
  },
  {
   "cell_type": "code",
   "execution_count": null,
   "id": "9f3c86e2",
   "metadata": {},
   "outputs": [],
   "source": [
    "a=\"Harry potter and globlet of fire\"\n",
    "\n",
    "word=a.split()\n",
    "print(word)\n",
    "\n",
    "for i in range(len(word)):\n",
    "    word[i]=word[i].lower()\n",
    "print(word)\n",
    "word.sort()\n",
    "print(word)"
   ]
  },
  {
   "cell_type": "code",
   "execution_count": null,
   "id": "d33403d6",
   "metadata": {},
   "outputs": [],
   "source": [
    "a={1,2,4,5,6,7}\n",
    "b={3,4,5,8,9,0}\n",
    "\n",
    "print(\"The union is: \",a|b)\n",
    "print(\"The intersection is: \",a&b)\n",
    "print(\"The difference is: \",a-b)\n",
    "print(\"The symmetric difference is: \",a^b)\n",
    "\n"
   ]
  },
  {
   "cell_type": "code",
   "execution_count": null,
   "id": "585554cb",
   "metadata": {},
   "outputs": [],
   "source": [
    "a=input(\"Harry Potter and prisnors of the Azkaban\")\n",
    "vowels=\"aeiou\"\n",
    "a=a.lower()\n",
    "print(a)\n",
    "\n",
    "count={}.fromkeys(vowels,0)\n",
    "for char in a:\n",
    "    if char in count:\n",
    "        count[char]+=1 \n",
    "print(count)"
   ]
  },
  {
   "cell_type": "code",
   "execution_count": null,
   "id": "18956106",
   "metadata": {},
   "outputs": [],
   "source": [
    "dict1={\"mohd\":99,\"asad\":27}\n",
    "dict2={\"asad\":97,\"abubakr\":99}\n",
    "print(dict1 | dict2)\n",
    "print({**dict1,**dict2})"
   ]
  },
  {
   "cell_type": "code",
   "execution_count": null,
   "id": "648f51c6",
   "metadata": {},
   "outputs": [],
   "source": [
    "# solution 1 using enumerate method \n",
    "lst=[1,2,3,4,5,6,7,7,8,9,0]\n",
    "for index,value in enumerate(lst):\n",
    "    print(index,value)"
   ]
  },
  {
   "cell_type": "code",
   "execution_count": null,
   "id": "5491f75e",
   "metadata": {},
   "outputs": [],
   "source": [
    "# solution 2 not using enumerate method \n",
    "lst=[1,2,3,4,5,6,7,7,8,9,0]\n",
    "for index in range(len(lst)):\n",
    "    value=lst[index]\n",
    "    print(index,value)"
   ]
  },
  {
   "cell_type": "code",
   "execution_count": null,
   "id": "477dcf50",
   "metadata": {},
   "outputs": [],
   "source": [
    "friends={\"Mohd\":\"Sabir\",\"Talib\":\"Saeed\",\"Abubakr\":\"Abuummamah\",\"Mohammad\":\"Asad\"}\n",
    "# print(\"all friends key value: \",friends)\n",
    "# print(friends[\"Mohd\"])\n",
    "# soln 1 with .items\n",
    "# for key,value in friends.items():\n",
    "#     print(key,\"-\",value)\n",
    "# soln 2 with keys\n",
    "# for key in friends:\n",
    "#     print(key,\":\",friends[key])\n",
    "\n",
    "# soln 3 with keys and value\n",
    "for key in friends.keys():\n",
    "    print(key)\n",
    "    \n",
    "for val in friends.values():\n",
    "    print(val)"
   ]
  },
  {
   "cell_type": "code",
   "execution_count": null,
   "id": "344d50de",
   "metadata": {},
   "outputs": [],
   "source": [
    "# soln 1 \n",
    "marks={\"jhon\":23,\"lisa\":56,\"sid\":48}\n",
    "print(marks)\n",
    "\n",
    "# sort the dictionaries based on values using list of tuples\n",
    "sorted_lst=sorted(marks.items(),key=lambda x:x[1])\n",
    "print(sorted_lst)\n",
    "\n",
    "# soln 2 mey list of values per sort karenge\n",
    "val_sorted=sorted(marks.values())\n",
    "print(val_sorted)"
   ]
  },
  {
   "cell_type": "code",
   "execution_count": null,
   "id": "aa84af4a",
   "metadata": {},
   "outputs": [],
   "source": [
    "# soln 1 using boolean operation\n",
    "my_lst=[]\n",
    "\n",
    "# if not my_lst:\n",
    "#     print(\"the list is empty\")\n",
    "    \n",
    "# soln 2 using lenth function\n",
    "# my_lst=[]\n",
    "# my_lst=[1,3,4,5,7]\n",
    "# print(len(lst))\n",
    "if len(my_lst)==0:\n",
    "    print(\"lst is empty\")\n",
    "    \n",
    "# soln 3 using []\n",
    "my_lst=[]\n",
    "if my_lst==[]:\n",
    "    print(\"this list is empty\")"
   ]
  },
  {
   "cell_type": "code",
   "execution_count": null,
   "id": "5edc38f2",
   "metadata": {},
   "outputs": [],
   "source": [
    "string=input(\"enter something here: \")\n",
    "num=int(input(\"enter a number here: \"))\n",
    "try:\n",
    "    print(string+num)\n",
    "except (ValueError,TypeError) as a:\n",
    "    print(a)\n",
    "    \n",
    "print(\"thank you\")"
   ]
  },
  {
   "cell_type": "code",
   "execution_count": null,
   "id": "ac74016d",
   "metadata": {},
   "outputs": [],
   "source": [
    "# soln 1 using + operator\n",
    "lst1=[1,2,3,4,5,'hi','by']\n",
    "lst2=[9,2,11,\"yeyeye\",'ola']\n",
    "\n",
    "lst=lst1+lst2\n",
    "print(lst)\n",
    "\n",
    "# soln 2 using sets \n",
    "lst_using_set=list(set(lst1+lst2))\n",
    "print(lst_using_set)\n",
    "\n",
    "# soln 2 using .extend function\n",
    "\n",
    "lst1.extend(lst2)\n",
    "print(lst1)\n"
   ]
  },
  {
   "cell_type": "code",
   "execution_count": null,
   "id": "94acf840",
   "metadata": {},
   "outputs": [],
   "source": [
    "friends={\"Mohd\":\"Sabir\",\"Talib\":\"Saeed\",\"Abubakr\":\"Abuummamah\",\"Mohammad\":\"Asad\"}\n",
    "\n",
    "input_key=input(\"enter key here: \")\n",
    "\n",
    "if input_key in friends.keys():\n",
    "    print(\"present\",input_key)"
   ]
  },
  {
   "cell_type": "code",
   "execution_count": null,
   "id": "c3c85983",
   "metadata": {},
   "outputs": [],
   "source": [
    "#  parse string into integer\n",
    "\n",
    "string='12345'\n",
    "print(type(string))\n",
    "print(\"it is string\",string)\n",
    "int_string=int(string)\n",
    "print(type(int_string))\n",
    "print(int_string)\n",
    "float_string=float(int_string)\n",
    "print(type(float_string))\n",
    "print(float_string)"
   ]
  },
  {
   "cell_type": "code",
   "execution_count": null,
   "id": "c82e5d48",
   "metadata": {},
   "outputs": [],
   "source": [
    "# from datetime import datetime\n",
    "\n",
    "# date=\"jan 20  1997 3:15 AM\"\n",
    "# print(type(date))\n",
    "\n",
    "# date_time=datetime.strptime(date,'%b %d %Y %I:%M %p')\n",
    "# print(date_time)\n",
    "# print(type(date_time))\n",
    "\n",
    "# soln 2 using dateutil module\n",
    "from dateutil import parser\n",
    "date_time=parser.parse(\"jan 20  1997 3:15 AM\")\n",
    "print(date_time)\n",
    "print(type(date_time))\n"
   ]
  }
 ],
 "metadata": {
  "kernelspec": {
   "display_name": ".venv",
   "language": "python",
   "name": "python3"
  },
  "language_info": {
   "codemirror_mode": {
    "name": "ipython",
    "version": 3
   },
   "file_extension": ".py",
   "mimetype": "text/x-python",
   "name": "python",
   "nbconvert_exporter": "python",
   "pygments_lexer": "ipython3",
   "version": "3.11.4"
  }
 },
 "nbformat": 4,
 "nbformat_minor": 5
}
