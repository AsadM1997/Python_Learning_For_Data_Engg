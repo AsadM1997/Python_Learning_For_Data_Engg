{
 "cells": [
  {
   "cell_type": "code",
   "execution_count": null,
   "id": "4403159e",
   "metadata": {},
   "outputs": [],
   "source": []
  },
  {
   "cell_type": "markdown",
   "id": "1121fed4",
   "metadata": {},
   "source": [
    " 1. Local Scope (inside a function)\n",
    "Variables created inside a function can only be used inside that function."
   ]
  },
  {
   "cell_type": "code",
   "execution_count": 27,
   "id": "274c857c",
   "metadata": {},
   "outputs": [
    {
     "name": "stdout",
     "output_type": "stream",
     "text": [
      "5\n"
     ]
    }
   ],
   "source": [
    "def my_func():\n",
    "    x = 5      # x is local to this function\n",
    "    print(x)\n",
    "\n",
    "my_func()\n",
    "# print(x)  # ❌ Error: x is not defined here (outside the function)\n"
   ]
  },
  {
   "cell_type": "markdown",
   "id": "a9478e63",
   "metadata": {},
   "source": [
    "x = 10    # Global variable\n",
    "\n",
    "def show():\n",
    "    print(x)  # ✅ Can access global variable\n",
    "\n",
    "show()\n",
    "print(x)     # ✅ Can access global variable here too\n"
   ]
  },
  {
   "cell_type": "code",
   "execution_count": 28,
   "id": "541a6166",
   "metadata": {},
   "outputs": [
    {
     "name": "stdout",
     "output_type": "stream",
     "text": [
      "20\n"
     ]
    }
   ],
   "source": [
    "x = 5\n",
    "\n",
    "def change():\n",
    "    global x\n",
    "    x = 20   # modifies global x\n",
    "\n",
    "change()\n",
    "print(x)    # Output: 20\n"
   ]
  },
  {
   "cell_type": "code",
   "execution_count": null,
   "id": "5c6c34ad",
   "metadata": {},
   "outputs": [],
   "source": [
    "x = 10\n",
    "\n",
    "def change():\n",
    "    global x\n",
    "    x = 20  # ✅ Changes the global variable\n",
    "\n",
    "change()\n",
    "print(x)   # Output: 20\n"
   ]
  },
  {
   "cell_type": "code",
   "execution_count": 29,
   "id": "47ea6b4c",
   "metadata": {},
   "outputs": [
    {
     "ename": "SyntaxError",
     "evalue": "non-default argument follows default argument (61270647.py, line 1)",
     "output_type": "error",
     "traceback": [
      "\u001b[1;36m  Cell \u001b[1;32mIn[29], line 1\u001b[1;36m\u001b[0m\n\u001b[1;33m    def greet(name=\"Guest\", age):  # ❌ Error\u001b[0m\n\u001b[1;37m                            ^\u001b[0m\n\u001b[1;31mSyntaxError\u001b[0m\u001b[1;31m:\u001b[0m non-default argument follows default argument\n"
     ]
    }
   ],
   "source": [
    "def greet(name=\"Guest\", age):  # ❌ Error\n",
    "    pass\n",
    "def greet(age, name=\"Guest\"):  # ✅\n",
    "    pass\n"
   ]
  },
  {
   "cell_type": "markdown",
   "id": "8d2a4814",
   "metadata": {},
   "source": [
    "❗ Problem: Mutable Default Arguments\n",
    "In Python, mutable objects like lists, dictionaries, or sets remember changes between function calls if used as default arguments."
   ]
  },
  {
   "cell_type": "markdown",
   "id": "4b14519b",
   "metadata": {},
   "source": [
    "🔹 What is a mutable object?\n",
    "Can be changed in-place.\n",
    "\n",
    "Examples: list, dict, set\n",
    "\n"
   ]
  },
  {
   "cell_type": "code",
   "execution_count": 35,
   "id": "d75e32d9",
   "metadata": {},
   "outputs": [
    {
     "name": "stdout",
     "output_type": "stream",
     "text": [
      "['apple']\n",
      "(['apple'],)\n",
      "['apple', 'banana']\n",
      "(['apple', 'banana'],)\n",
      "['apple', 'banana', 'orange']\n",
      "(['apple', 'banana', 'orange'],)\n"
     ]
    }
   ],
   "source": [
    "def add_item(item, item_list=[]):\n",
    "    item_list.append(item)\n",
    "    return item_list\n",
    "\n",
    "print(add_item(\"apple\"))  # ['apple']\n",
    "print(add_item.__defaults__)\n",
    "print(add_item(\"banana\"))     # ['apple', 'banana'] ❗\n",
    "print(add_item.__defaults__)\n",
    "\n",
    "print(add_item(\"orange\"))     # ['apple', 'banana', 'orange'] ❗\n",
    "print(add_item.__defaults__)\n",
    "\n"
   ]
  },
  {
   "cell_type": "code",
   "execution_count": 31,
   "id": "8a46de33",
   "metadata": {},
   "outputs": [
    {
     "name": "stdout",
     "output_type": "stream",
     "text": [
      "['apple']\n",
      "['banana']\n",
      "['orange']\n"
     ]
    }
   ],
   "source": [
    "def add_item(item, item_list=None):\n",
    "    if item_list is None:\n",
    "        item_list = []\n",
    "    item_list.append(item)\n",
    "    return item_list\n",
    "\n",
    "print(add_item(\"apple\"))      # ['apple']\n",
    "print(add_item(\"banana\"))     # ['banana']\n",
    "print(add_item(\"orange\"))     # ['orange']\n"
   ]
  },
  {
   "cell_type": "markdown",
   "id": "b2958e09",
   "metadata": {},
   "source": [
    "✅ What are Variable-Length Arguments in Python?\n",
    "Sometimes, you don’t know how many arguments a user will pass to your function. Python lets you handle that using:\n",
    "\n",
    "🔹 1. *args → Variable number of positional arguments\n",
    "Allows you to pass any number of values.\n",
    "\n",
    "Python collects them into a tuple.\n",
    "\n",
    "✅ Example:"
   ]
  },
  {
   "cell_type": "markdown",
   "id": "7880b2c0",
   "metadata": {},
   "source": [
    "🔁 You can combine them:"
   ]
  },
  {
   "cell_type": "code",
   "execution_count": 38,
   "id": "7028b1e3",
   "metadata": {},
   "outputs": [
    {
     "name": "stdout",
     "output_type": "stream",
     "text": [
      "a = 1\n",
      "args = (2, 3)\n",
      "kwargs = {'name': 'Asad', 'age': 25}\n"
     ]
    }
   ],
   "source": [
    "def demo(a, *args, **kwargs):\n",
    "    print(\"a =\", a)\n",
    "    print(\"args =\", args)\n",
    "    print(\"kwargs =\", kwargs)\n",
    "\n",
    "demo(1, 2, 3, name=\"Asad\", age=25)\n"
   ]
  },
  {
   "cell_type": "markdown",
   "id": "ad661b14",
   "metadata": {},
   "source": [
    "🔹 2. **kwargs → Variable number of keyword arguments\n",
    "Accepts key=value pairs.\n",
    "\n",
    "Python collects them into a dictionary."
   ]
  },
  {
   "cell_type": "code",
   "execution_count": 37,
   "id": "e6e98ef9",
   "metadata": {},
   "outputs": [
    {
     "name": "stdout",
     "output_type": "stream",
     "text": [
      "name = Asad\n",
      "age = 25\n",
      "city = Delhi\n"
     ]
    }
   ],
   "source": [
    "def print_info(**kwargs):\n",
    "    for key, value in kwargs.items():\n",
    "        print(f\"{key} = {value}\")\n",
    "\n",
    "print_info(name=\"Asad\", age=25, city=\"Delhi\")\n"
   ]
  },
  {
   "cell_type": "code",
   "execution_count": 36,
   "id": "55abab2d",
   "metadata": {},
   "outputs": [
    {
     "name": "stdout",
     "output_type": "stream",
     "text": [
      "Total: 6\n",
      "Total: 50\n"
     ]
    }
   ],
   "source": [
    "def add_all(*numbers):\n",
    "    total = sum(numbers)\n",
    "    print(\"Total:\", total)\n",
    "\n",
    "add_all(1, 2, 3)             # Total: 6\n",
    "add_all(5, 10, 15, 20)       # Total: 50\n"
   ]
  },
  {
   "cell_type": "markdown",
   "id": "a80d5fa3",
   "metadata": {},
   "source": [
    "ChatGPT said:\n",
    "✅ What is a Lambda Function in Python?\n",
    "A lambda function is a small, anonymous function defined using the lambda keyword.\n",
    "\n",
    "It's used when you need a quick function for short tasks.\n",
    "\n",
    "It can have any number of arguments, but only one expression.\n",
    "\n",
    "It returns the result of that expression automatically."
   ]
  },
  {
   "cell_type": "markdown",
   "id": "18069794",
   "metadata": {},
   "source": [
    "✅ When to use lambda:\n",
    "When the function is simple.\n",
    "\n",
    "When you don’t need to reuse the function elsewhere."
   ]
  },
  {
   "cell_type": "code",
   "execution_count": null,
   "id": "77ed351b",
   "metadata": {},
   "outputs": [],
   "source": [
    "# lambda arguments: expression\n",
    "add = lambda a, b: a + b\n",
    "print(add(5, 3))  # Output: 8\n",
    "\n",
    "square = lambda x: x * x\n",
    "print(square(4))  # Output: 16\n"
   ]
  },
  {
   "cell_type": "markdown",
   "id": "017fdc56",
   "metadata": {},
   "source": [
    "✅ What is map() in Python?\n",
    "The map() function is used to apply a function to each item in an iterable (like a list, tuple, etc.) and returns a new map object (which you can convert to a list, tuple, etc.).\n",
    "\n",
    "🔹 Syntax:\n",
    "python\n",
    "Copy\n",
    "Edit\n",
    "map(function, iterable)\n",
    "function: a function that processes each item\n",
    "\n",
    "iterable: a list, tuple, etc."
   ]
  },
  {
   "cell_type": "code",
   "execution_count": 39,
   "id": "007a04c0",
   "metadata": {},
   "outputs": [
    {
     "name": "stdout",
     "output_type": "stream",
     "text": [
      "[1, 4, 9, 16]\n"
     ]
    }
   ],
   "source": [
    "nums = [1, 2, 3, 4]\n",
    "squares = list(map(lambda x: x**2, nums))\n",
    "print(squares)  # [1, 4, 9, 16]\n"
   ]
  },
  {
   "cell_type": "code",
   "execution_count": null,
   "id": "531f89b8",
   "metadata": {},
   "outputs": [],
   "source": [
    "a = [1, 2, 3]\n",
    "b = [4, 5, 6]\n",
    "result = map(lambda x, y: x + y, a, b)\n",
    "print(list(result))  # Output: [5, 7, 9]\n"
   ]
  },
  {
   "cell_type": "markdown",
   "id": "ef32273f",
   "metadata": {},
   "source": [
    "✅ What is filter() in Python?\n",
    "The filter() function is used to filter out elements from an iterable (like a list) based on a condition.\n",
    "\n",
    "It returns only those elements for which the function returns True.\n",
    "\n",
    "🔹 Syntax:\n",
    "python\n",
    "Copy\n",
    "Edit\n",
    "filter(function, iterable)\n",
    "function: returns True or False\n",
    "\n",
    "iterable: list, tuple, etc."
   ]
  },
  {
   "cell_type": "code",
   "execution_count": null,
   "id": "d0a6a043",
   "metadata": {},
   "outputs": [],
   "source": [
    "\n",
    "nums = [1, 2, 3, 4, 5, 6]\n",
    "\n",
    "# Function to check even\n",
    "even = filter(lambda x: x % 2 == 0, nums)\n",
    "\n",
    "print(list(even))  # Output: [2, 4, 6]\n"
   ]
  },
  {
   "cell_type": "code",
   "execution_count": null,
   "id": "be368fa0",
   "metadata": {},
   "outputs": [],
   "source": [
    "words = [\"hi\", \"hello\", \"bye\", \"good\", \"ok\"]\n",
    "\n",
    "result = filter(lambda word: len(word) > 3, words)\n",
    "print(list(result))  # Output: ['hello', 'good']\n"
   ]
  },
  {
   "cell_type": "code",
   "execution_count": null,
   "id": "67fb0a2b",
   "metadata": {},
   "outputs": [],
   "source": [
    "data = [\"\", \"apple\", None, \"banana\", 0, \"cherry\"]\n",
    "\n",
    "filtered = filter(bool, data)\n",
    "print(list(filtered))  # Output: ['apple', 'banana', 'cherry']\n"
   ]
  },
  {
   "cell_type": "markdown",
   "id": "0e4800db",
   "metadata": {},
   "source": [
    "When you need a function that returns another function\n",
    "\n",
    "When doing function chaining, functional programming, or creating closures"
   ]
  },
  {
   "cell_type": "code",
   "execution_count": null,
   "id": "990b93c2",
   "metadata": {},
   "outputs": [],
   "source": [
    "nested = lambda x: (lambda y: x + y)\n",
    "\n",
    "add_5 = nested(5)   # returns lambda y: 5 + y\n",
    "print(add_5(3))     # Output: 8\n"
   ]
  },
  {
   "cell_type": "markdown",
   "id": "0a9dc613",
   "metadata": {},
   "source": [
    "✅ 1. Lambda Function with if-else\n",
    "You can use conditional expressions (if-else) inside a lambda function — but not regular if statements (because lambdas only allow one expression)."
   ]
  },
  {
   "cell_type": "code",
   "execution_count": null,
   "id": "81ff5ae8",
   "metadata": {},
   "outputs": [],
   "source": [
    "# lambda args: value_if_true if condition else value_if_false\n",
    "check_even = lambda x: \"Even\" if x % 2 == 0 else \"Odd\"\n",
    "print(check_even(4))  # Output: Even\n",
    "print(check_even(7))  # Output: Odd\n",
    "\n"
   ]
  },
  {
   "cell_type": "code",
   "execution_count": 40,
   "id": "77c8f6bf",
   "metadata": {},
   "outputs": [
    {
     "name": "stdout",
     "output_type": "stream",
     "text": [
      "10\n"
     ]
    }
   ],
   "source": [
    "greater = lambda a, b: a if a > b else b\n",
    "print(greater(10, 5))  # Output: 10\n"
   ]
  },
  {
   "cell_type": "markdown",
   "id": "f57293ca",
   "metadata": {},
   "source": [
    "✅ Example 1: Square each number using lambda inside list comprehension"
   ]
  },
  {
   "cell_type": "code",
   "execution_count": 41,
   "id": "03866ed5",
   "metadata": {},
   "outputs": [
    {
     "name": "stdout",
     "output_type": "stream",
     "text": [
      "[1, 4, 9, 16]\n"
     ]
    }
   ],
   "source": [
    "nums = [1, 2, 3, 4]\n",
    "squares = [(lambda x: x**2)(n) for n in nums]\n",
    "print(squares)  # Output: [1, 4, 9, 16]\n"
   ]
  },
  {
   "cell_type": "markdown",
   "id": "41523e07",
   "metadata": {},
   "source": [
    "First-class function means functions can be created, passed, and returned just like variables (integers, strings, lists, etc.)."
   ]
  },
  {
   "cell_type": "code",
   "execution_count": 42,
   "id": "ea9c77ec",
   "metadata": {},
   "outputs": [
    {
     "name": "stdout",
     "output_type": "stream",
     "text": [
      "Hello, Asad!\n"
     ]
    }
   ],
   "source": [
    "def greet(name):\n",
    "    return f\"Hello, {name}!\"\n",
    "\n",
    "say_hello = greet  # assign function to another variable\n",
    "print(say_hello(\"Asad\"))  # Output: Hello, Asad!\n"
   ]
  },
  {
   "cell_type": "markdown",
   "id": "add8b8bc",
   "metadata": {},
   "source": [
    "✅ 2. Passing a function as an argument"
   ]
  },
  {
   "cell_type": "code",
   "execution_count": 43,
   "id": "ed4e0282",
   "metadata": {},
   "outputs": [
    {
     "name": "stdout",
     "output_type": "stream",
     "text": [
      "HELLO\n",
      "hello\n"
     ]
    }
   ],
   "source": [
    "def shout(text):\n",
    "    return text.upper()\n",
    "\n",
    "def whisper(text):\n",
    "    return text.lower()\n",
    "\n",
    "def speak(func):\n",
    "    return func(\"Hello\")\n",
    "\n",
    "print(speak(shout))   # Output: HELLO\n",
    "print(speak(whisper)) # Output: hello\n"
   ]
  },
  {
   "cell_type": "markdown",
   "id": "46c40755",
   "metadata": {},
   "source": [
    "✅ 3. Returning a function from another function"
   ]
  },
  {
   "cell_type": "markdown",
   "id": "4bff8d83",
   "metadata": {},
   "source": [
    "✅ This is what makes decorators, higher-order functions, and functional programming possible in Python."
   ]
  },
  {
   "cell_type": "code",
   "execution_count": 44,
   "id": "1c881a44",
   "metadata": {},
   "outputs": [
    {
     "name": "stdout",
     "output_type": "stream",
     "text": [
      "I’m inner!\n"
     ]
    }
   ],
   "source": [
    "def outer():\n",
    "    def inner():\n",
    "        return \"I’m inner!\"\n",
    "    return inner  # return the function, not the result\n",
    "\n",
    "my_func = outer()\n",
    "print(my_func())  # Output: I’m inner!\n"
   ]
  },
  {
   "cell_type": "markdown",
   "id": "4f8c6d36",
   "metadata": {},
   "source": [
    "Function as an Argument"
   ]
  },
  {
   "cell_type": "markdown",
   "id": "f4f47848",
   "metadata": {},
   "source": [
    " What it does:\n",
    "is_even(n) returns True if the number is even.\n",
    "\n",
    "my_filter(func, data) takes a function and a list.\n",
    "\n",
    "It applies func(x) to each x in data.\n",
    "\n",
    "Only values where func(x) is True are kept.\n",
    "\n"
   ]
  },
  {
   "cell_type": "markdown",
   "id": "4a4afd00",
   "metadata": {},
   "source": [
    "✅ Yes! Your code is absolutely correct and it works just like Python's built-in filter() function.\n",
    "\n",
    "Let’s break it down to make sure you understand everything clearly:\n",
    "\n"
   ]
  },
  {
   "cell_type": "code",
   "execution_count": null,
   "id": "fb10ffff",
   "metadata": {},
   "outputs": [],
   "source": []
  },
  {
   "cell_type": "code",
   "execution_count": null,
   "id": "ae0ae475",
   "metadata": {},
   "outputs": [],
   "source": [
    "# ✅ Example 3: Custom filter-like behavior\n",
    "def is_even(n):\n",
    "    return n % 2 == 0\n",
    "\n",
    "def my_filter(func, data):\n",
    "    return [x for x in data if func(x)]\n",
    "\n",
    "nums = [1, 2, 3, 4, 5, 6]\n",
    "print(my_filter(is_even, nums))  # Output: [2, 4, 6]\n"
   ]
  },
  {
   "cell_type": "markdown",
   "id": "3e627bca",
   "metadata": {},
   "source": [
    "✅ reduce() Function in Python\n",
    "The reduce() function is used to apply a function to all elements in a sequence, reducing the sequence to a single value.\n",
    "\n",
    "🔹 It is part of the functools module:\n",
    "python\n",
    "Copy\n",
    "Edit\n"
   ]
  },
  {
   "cell_type": "markdown",
   "id": "f9c94d1b",
   "metadata": {},
   "source": [
    "reduce(function, iterable)\n"
   ]
  },
  {
   "cell_type": "markdown",
   "id": "2e9c4b6c",
   "metadata": {},
   "source": [
    "➡️ Explanation:\n",
    "\n",
    "Step 1: 1 + 2 → 3\n",
    "\n",
    "Step 2: 3 + 3 → 6\n",
    "\n",
    "Step 3: 6 + 4 → 10\n",
    "\n",
    "Step 4: 10 + 5 → 15\n",
    "\n"
   ]
  },
  {
   "cell_type": "code",
   "execution_count": null,
   "id": "a572fbbe",
   "metadata": {},
   "outputs": [],
   "source": [
    "from functools import reduce\n",
    "\n",
    "nums = [1, 2, 3, 4, 5]\n",
    "\n",
    "result = reduce(lambda a, b: a + b, nums)\n",
    "print(result)  # Output: 15\n"
   ]
  },
  {
   "cell_type": "markdown",
   "id": "e2ec84ec",
   "metadata": {},
   "source": [
    "✅ Example 2: Find maximum number"
   ]
  },
  {
   "cell_type": "code",
   "execution_count": 45,
   "id": "1e607c9e",
   "metadata": {},
   "outputs": [
    {
     "name": "stdout",
     "output_type": "stream",
     "text": [
      "10\n"
     ]
    }
   ],
   "source": [
    "from functools import reduce\n",
    "\n",
    "nums = [3, 8, 2, 5, 10]\n",
    "\n",
    "max_num = reduce(lambda a, b: a if a > b else b, nums)\n",
    "print(max_num)  # Output: 10\n"
   ]
  },
  {
   "cell_type": "markdown",
   "id": "d190a092",
   "metadata": {},
   "source": [
    "✅ Example 3: Multiply all numbers\n"
   ]
  },
  {
   "cell_type": "code",
   "execution_count": null,
   "id": "8e090cfd",
   "metadata": {},
   "outputs": [],
   "source": [
    "from functools import reduce\n",
    "\n",
    "nums = [1, 2, 3, 4]\n",
    "\n",
    "product = reduce(lambda a, b: a * b, nums)\n",
    "print(product)  # Output: 24\n"
   ]
  },
  {
   "cell_type": "markdown",
   "id": "7904a26e",
   "metadata": {},
   "source": [
    "\n",
    "Partial Function in Python"
   ]
  },
  {
   "cell_type": "code",
   "execution_count": 46,
   "id": "264b00c8",
   "metadata": {},
   "outputs": [
    {
     "name": "stdout",
     "output_type": "stream",
     "text": [
      "10\n"
     ]
    }
   ],
   "source": [
    "from functools import partial\n",
    "\n",
    "def multiply(x, y):\n",
    "    return x * y\n",
    "\n",
    "double = partial(multiply, 2)  # x is fixed to 2\n",
    "print(double(5))               # Output: 10\n"
   ]
  },
  {
   "cell_type": "code",
   "execution_count": null,
   "id": "31926b5c",
   "metadata": {},
   "outputs": [
    {
     "name": "stdout",
     "output_type": "stream",
     "text": [
      "4\n"
     ]
    }
   ],
   "source": [
    "def lenOfList(lst):\n",
    "    return len(lst)\n",
    "\n",
    "\n",
    "print(lenOfList([1,3,4,5]))"
   ]
  },
  {
   "cell_type": "code",
   "execution_count": 4,
   "id": "f69d6aab",
   "metadata": {},
   "outputs": [
    {
     "name": "stdout",
     "output_type": "stream",
     "text": [
      "1 2 3 4 5 6 7 "
     ]
    }
   ],
   "source": [
    "def printListElementInSingleLIne(lst):\n",
    "    for ele in lst:\n",
    "        print(ele,end=\" \") \n",
    "        \n",
    "printListElementInSingleLIne([1,2,3,4,5,6,7])        "
   ]
  },
  {
   "cell_type": "code",
   "execution_count": 19,
   "id": "0459379c",
   "metadata": {},
   "outputs": [
    {
     "name": "stdout",
     "output_type": "stream",
     "text": [
      "12\n"
     ]
    }
   ],
   "source": [
    "def factorial(n):\n",
    "    if n == 0 and n == 1:\n",
    "        return 1 \n",
    "    return n*(n-1) \n",
    "print(factorial(4))   "
   ]
  },
  {
   "cell_type": "code",
   "execution_count": 13,
   "id": "3695ca38",
   "metadata": {},
   "outputs": [
    {
     "name": "stdout",
     "output_type": "stream",
     "text": [
      "850\n"
     ]
    }
   ],
   "source": [
    "\n",
    "def usdtoInr(usd,conversion_rate):\n",
    "    sum=usd*conversion_rate\n",
    "    print(sum)\n",
    "usd=10 \n",
    "conversion_rate=85 \n",
    "\n",
    "usdtoInr(usd,conversion_rate)"
   ]
  },
  {
   "cell_type": "code",
   "execution_count": 17,
   "id": "06e6c891",
   "metadata": {},
   "outputs": [
    {
     "name": "stdout",
     "output_type": "stream",
     "text": [
      "6\n"
     ]
    }
   ],
   "source": [
    "def sumOf_natural_num(n):\n",
    "    if n == 1:\n",
    "        return 1 \n",
    "    return sumOf_natural_num(n-1)+n \n",
    "print(sumOf_natural_num(3))   "
   ]
  },
  {
   "cell_type": "code",
   "execution_count": 26,
   "id": "e7f23367",
   "metadata": {},
   "outputs": [
    {
     "name": "stdout",
     "output_type": "stream",
     "text": [
      "Apple\n",
      "orange\n",
      "Bnana\n",
      "pineapple\n",
      "mango\n",
      "papaya\n",
      "stawberry\n"
     ]
    }
   ],
   "source": [
    "def lenOfListUsingRecursion(lst, idx=0):\n",
    "    if idx == len(lst):\n",
    "        return\n",
    "    print(lst[idx])\n",
    "    lenOfListUsingRecursion(lst, idx + 1)\n",
    "\n",
    "fruits = [\"Apple\", \"orange\", \"Bnana\", \"pineapple\", \"mango\", \"papaya\", \"stawberry\"]\n",
    "lenOfListUsingRecursion(fruits)\n"
   ]
  },
  {
   "cell_type": "markdown",
   "id": "c5eb5954",
   "metadata": {},
   "source": [
    "🧠 What is a Namespace in Python?\n",
    "A namespace in Python is like a container or labeling system where names (identifiers) are mapped to objects (values).\n",
    "\n",
    "In simple words:\n",
    "👉 Namespace = name + value mapping\n",
    "\n",
    "📦 Why is Namespace Important?\n",
    "It helps organize variables so that you don’t have name conflicts in large programs.\n",
    "\n",
    "✅ Types of Namespaces in Python:\n",
    "Type\tDescription\tExample\n",
    "Built-in\tAutomatically created with Python\tprint(), len(), int, etc.\n",
    "Global\tCreated when a script/module runs\tVariables declared outside all functions\n",
    "Local\tCreated inside functions\tVariables inside a function\n",
    "Enclosing\tUsed in nested functions (nonlocal)\tFunction within a function"
   ]
  },
  {
   "cell_type": "markdown",
   "id": "a80cdbee",
   "metadata": {},
   "source": [
    "📚 Namespace Hierarchy (LEGB Rule):\n",
    "Python searches for a variable in the following order:\n",
    "\n",
    "L – Local\n",
    "E – Enclosing (nested function)\n",
    "G – Global\n",
    "B – Built-in\n",
    "\n"
   ]
  },
  {
   "cell_type": "code",
   "execution_count": 3,
   "id": "e5b8706d",
   "metadata": {},
   "outputs": [
    {
     "name": "stdout",
     "output_type": "stream",
     "text": [
      "x: 10\n",
      "y: 5\n"
     ]
    }
   ],
   "source": [
    "x = 10  # Global Namespace\n",
    "\n",
    "def my_func():\n",
    "    y = 5  # Local Namespace\n",
    "    print(\"x:\", x)  # Accesses global\n",
    "    print(\"y:\", y)  # Accesses local\n",
    "\n",
    "my_func()\n",
    "# print(globals())  # Shows all global names\n",
    "# print(locals())   # Shows local names (inside a function)\n",
    "\n"
   ]
  },
  {
   "cell_type": "markdown",
   "id": "eb4315b2",
   "metadata": {},
   "source": [
    "✅ What is a Nonlocal Variable?\n",
    "A nonlocal variable is used inside a nested function to refer to a variable in the enclosing (outer) function’s scope, not global or local.\n",
    "\n",
    "It lets you modify a variable from the outer (but not global) scope."
   ]
  },
  {
   "cell_type": "code",
   "execution_count": null,
   "id": "e62ddfb0",
   "metadata": {},
   "outputs": [],
   "source": [
    "def outer():\n",
    "    count = 0  # Enclosing scope variable\n",
    "\n",
    "    def inner():\n",
    "        nonlocal count  # Tell Python: use 'count' from outer()\n",
    "        count += 1\n",
    "        print(\"Inner count:\", count)\n",
    "\n",
    "    inner()\n",
    "    inner()\n",
    "    print(\"Outer count:\", count)\n",
    "\n",
    "outer()\n"
   ]
  },
  {
   "cell_type": "code",
   "execution_count": null,
   "id": "7c65a25a",
   "metadata": {},
   "outputs": [],
   "source": [
    "def outer():\n",
    "    count = 0\n",
    "\n",
    "    def inner():\n",
    "        count += 1  # ❌ Error: UnboundLocalError\n",
    "        print(count)\n",
    "\n",
    "    inner()\n",
    "\n",
    "outer()\n"
   ]
  },
  {
   "cell_type": "markdown",
   "id": "67d4fa5f",
   "metadata": {},
   "source": [
    "📦 Real Use Cases:\n",
    "@staticmethod / @classmethod in classes\n",
    "\n",
    "@login_required in Django\n",
    "\n",
    "@app.route() in Flask\n",
    "\n",
    "@property in Python OOP\n",
    "\n",
    "Logging, access control, retry logic, caching, etc."
   ]
  },
  {
   "cell_type": "code",
   "execution_count": 4,
   "id": "be0debde",
   "metadata": {},
   "outputs": [
    {
     "name": "stdout",
     "output_type": "stream",
     "text": [
      "Before the function runs\n",
      "Hello!\n",
      "After the function runs\n"
     ]
    }
   ],
   "source": [
    "def my_decorator(func):\n",
    "    def wrapper():\n",
    "        print(\"Before the function runs\")\n",
    "        func()\n",
    "        print(\"After the function runs\")\n",
    "    return wrapper\n",
    "\n",
    "@my_decorator\n",
    "def say_hello():\n",
    "    print(\"Hello!\")\n",
    "\n",
    "say_hello()\n"
   ]
  },
  {
   "cell_type": "code",
   "execution_count": 11,
   "id": "3a7e7de4",
   "metadata": {},
   "outputs": [
    {
     "name": "stdout",
     "output_type": "stream",
     "text": [
      "calling\n",
      "calling\n",
      "welcome\n"
     ]
    }
   ],
   "source": [
    "def decor(printer):\n",
    "    def inner():\n",
    "        printer()  # existing functionality\n",
    "        print(\"welcome\")  # added new functionality instead of calling printer(\"welcome\")\n",
    "    return inner\n",
    "\n",
    "def printer():\n",
    "    print(\"calling\")\n",
    "    print(\"calling\")\n",
    "\n",
    "call = decor(printer)        \n",
    "call()\n"
   ]
  },
  {
   "cell_type": "code",
   "execution_count": 13,
   "id": "4cffb482",
   "metadata": {},
   "outputs": [
    {
     "name": "stdout",
     "output_type": "stream",
     "text": [
      "calling\n",
      "calling\n",
      "welcome\n"
     ]
    }
   ],
   "source": [
    "\n",
    "def decor(printer):\n",
    "    def inner():\n",
    "        printer()  # existing functionality\n",
    "        print(\"welcome\")  # added new functionality instead of calling printer(\"welcome\")\n",
    "    return inner\n",
    "@decor\n",
    "def printer():\n",
    "    print(\"calling\")\n",
    "    print(\"calling\")\n",
    "\n",
    "\n",
    "printer()"
   ]
  },
  {
   "cell_type": "code",
   "execution_count": null,
   "id": "6b51d32e",
   "metadata": {},
   "outputs": [],
   "source": [
    "def decor(addtion):\n",
    "    def inner():\n",
    "        result=addition()\n",
    "        num3=float(input(\"enter 3rd #: \"))\n",
    "        result+=num3\n",
    "        return result\n",
    "    return inner\n",
    "\n",
    "@decor\n",
    "def addition():\n",
    "    num1=float(input(\"enter first #: \"))\n",
    "    num2=float(input(\"enter 2nd #: \"))\n",
    "    result = num1+ num2 \n",
    "    return result    \n",
    "\n",
    "addition()"
   ]
  },
  {
   "cell_type": "code",
   "execution_count": 3,
   "id": "decc069c",
   "metadata": {},
   "outputs": [
    {
     "name": "stdout",
     "output_type": "stream",
     "text": [
      "['ASAD', 'MUHAMMAD']\n"
     ]
    }
   ],
   "source": [
    "def decor1(func):\n",
    "    def inner():\n",
    "        return func().upper()\n",
    "    return inner\n",
    "\n",
    "def decor2(func):\n",
    "    def inner():\n",
    "        return func().split()            \n",
    "    return inner\n",
    "\n",
    "def get_name():\n",
    "    name=\"Asad\"\n",
    "    surname=\"Muhammad\"\n",
    "    full_name=name+\" \"+surname \n",
    "    return full_name \n",
    "\n",
    "get_name=decor2(decor1(get_name))\n",
    "print(get_name())"
   ]
  },
  {
   "cell_type": "code",
   "execution_count": 4,
   "id": "9207c56d",
   "metadata": {},
   "outputs": [
    {
     "data": {
      "text/plain": [
       "['ASAD', 'MUHAMMAD']"
      ]
     },
     "execution_count": 4,
     "metadata": {},
     "output_type": "execute_result"
    }
   ],
   "source": [
    "def decor1(func):\n",
    "    def inner():\n",
    "        return func().upper()\n",
    "    return inner\n",
    "\n",
    "def decor2(func):\n",
    "    def inner():\n",
    "        return func().split()            \n",
    "    return inner\n",
    "\n",
    "@decor2\n",
    "@decor1\n",
    "def get_name():\n",
    "    name=\"Asad\"\n",
    "    surname=\"Muhammad\"\n",
    "    full_name=name+\" \"+surname \n",
    "    return full_name \n",
    "\n",
    "get_name()"
   ]
  },
  {
   "cell_type": "code",
   "execution_count": 16,
   "id": "f02e644e",
   "metadata": {},
   "outputs": [
    {
     "name": "stdout",
     "output_type": "stream",
     "text": [
      "2.0\n",
      "1.0\n",
      "cannot divide by zero\n"
     ]
    }
   ],
   "source": [
    "def decor(func):\n",
    "    def inner(*args):\n",
    "        for num in args[1:]:\n",
    "            if num == 0:\n",
    "                return \"cannot divide by zero\"\n",
    "        return func(*args)\n",
    "    return inner \n",
    "\n",
    "@decor\n",
    "def div1(a,b):\n",
    "    return a/b  \n",
    "@decor\n",
    "def div2(a,b,c):\n",
    "    return a/b/c \n",
    "\n",
    "print(div1(10,5))\n",
    "print(div2(12,6,2))\n",
    "print(div2(12,6,0))"
   ]
  },
  {
   "cell_type": "markdown",
   "id": "bc2d4787",
   "metadata": {},
   "source": [
    "globals Function in Python"
   ]
  },
  {
   "cell_type": "markdown",
   "id": "fb978e16",
   "metadata": {},
   "source": [
    "✅ What is globals() in Python?\n",
    "The globals() function returns a dictionary of the current global symbol table — i.e., all global variables and functions in the current module or script.\n",
    "\n",
    "🔍 Use Case:\n",
    "To inspect or modify global variables dynamically\n",
    "\n",
    "Useful in debugging or meta-programming\n",
    "\n",
    "Sometimes used in decorators, dynamic imports, or code generation\n",
    "\n"
   ]
  },
  {
   "cell_type": "markdown",
   "id": "33c39368",
   "metadata": {},
   "source": [
    "globals()\n"
   ]
  },
  {
   "cell_type": "markdown",
   "id": "c17791c9",
   "metadata": {},
   "source": [
    "{\n",
    "  '__name__': '__main__',\n",
    "  '__doc__': None,\n",
    "  'x': 10,\n",
    "  'my_func': <function my_func at 0x...>,\n",
    "  ...\n",
    "}\n"
   ]
  },
  {
   "cell_type": "code",
   "execution_count": 17,
   "id": "60c931cf",
   "metadata": {},
   "outputs": [
    {
     "name": "stdout",
     "output_type": "stream",
     "text": [
      "{'__name__': '__main__', '__doc__': 'Automatically created module for IPython interactive environment', '__package__': None, '__loader__': None, '__spec__': None, '__builtin__': <module 'builtins' (built-in)>, '__builtins__': <module 'builtins' (built-in)>, '_ih': ['', 'def decor1(func):\\n    def inner():\\n        return func().upper()\\n    return inner\\n\\ndef decor2(func):\\n    def inner():\\n        return func.split()            \\n    return inner\\n\\ndef get_name():\\n    name=\"Asad\"\\n    surname=\"Muhammad\"\\n    full_name=name+\" \"+surname \\n    return full_name \\n\\nget_name=decor2(decor1(get_name))\\nprint(get_name)', 'def decor1(func):\\n    def inner():\\n        return func().upper()\\n    return inner\\n\\ndef decor2(func):\\n    def inner():\\n        return func.split()            \\n    return inner\\n\\ndef get_name():\\n    name=\"Asad\"\\n    surname=\"Muhammad\"\\n    full_name=name+\" \"+surname \\n    return full_name \\n\\nget_name=decor2(decor1(get_name))\\nprint(get_name())', 'def decor1(func):\\n    def inner():\\n        return func().upper()\\n    return inner\\n\\ndef decor2(func):\\n    def inner():\\n        return func().split()            \\n    return inner\\n\\ndef get_name():\\n    name=\"Asad\"\\n    surname=\"Muhammad\"\\n    full_name=name+\" \"+surname \\n    return full_name \\n\\nget_name=decor2(decor1(get_name))\\nprint(get_name())', 'def decor1(func):\\n    def inner():\\n        return func().upper()\\n    return inner\\n\\ndef decor2(func):\\n    def inner():\\n        return func().split()            \\n    return inner\\n\\n@decor2\\n@decor1\\ndef get_name():\\n    name=\"Asad\"\\n    surname=\"Muhammad\"\\n    full_name=name+\" \"+surname \\n    return full_name \\n\\nget_name()', 'def div1(a,b):\\n    return a/b  \\ndef div2(a,b,c):\\n    return a/b/c \\nprint(div1(10,5))', 'def div1(a,b):\\n    return a/b  \\ndef div2(a,b,c):\\n    return a/b/c \\nprint(div1(10,5))\\nprint(div2(10/5/2))', 'def div1(a,b):\\n    return a/b  \\ndef div2(a,b,c):\\n    return a/b/c \\nprint(div1(10,5))\\nprint(div2(10,5,2))', 'def div1(a,b):\\n    return a/b  \\ndef div2(a,b,c):\\n    return a/b/c \\nprint(div1(10,5))\\nprint(div2(12,6,2))', 'def div1(a,b):\\n    return a/b  \\ndef div2(a,b,c):\\n    return a/b/c \\nprint(div1(10,5))\\nprint(div2(12,6,2))', 'def div1(a,b):\\n    return a/b  \\ndef div2(a,b,c):\\n    return a/b/c \\nprint(div1(10,5))\\nprint(div2(12,6,2))', 'def div1(a,b):\\n    return a/b  \\ndef div2(a,b,c):\\n    return a/b/c \\nprint(div1(10,5))\\nprint(div2(12,6,2))', 'def div1(a,b):\\n    return a/b  \\ndef div2(a,b,c):\\n    return a/b/c \\n# print(div1(10,5))\\nprint(div2(12,6,2))', 'def decor(func):\\n    def inner(*args):\\n        for num in args[1:]:\\n            if num == 0:\\n                return \"cannot divide by zero\"\\n            return func(*args)\\n    return inner \\n\\n@decor\\ndef div1(a,b):\\n    return a/b  \\n@decor\\ndef div2(a,b,c):\\n    return a/b/c \\n\\nprint(div1(10,5))\\nprint(div2(12,6,2))\\nprint(div2(12,6,0))', 'def decor(func):\\n    def inner(*args):\\n        for num in args[1:]:\\n            if num == 0:\\n                return \"cannot divide by zero\"\\n            return func(*args)\\n    return inner \\n\\n@decor\\ndef div1(a,b):\\n    return a/b  \\n@decor\\ndef div2(a,b,c):\\n    return a/b/c \\n\\nprint(div1(10,5))\\nprint(div2(12,6,2))', 'def decor(func):\\n    def inner(*args):\\n        for num in args[1:]:\\n            if num == 0:\\n                return \"cannot divide by zero\"\\n        return func(*args)\\n    return inner \\n\\n@decor\\ndef div1(a,b):\\n    return a/b  \\n@decor\\ndef div2(a,b,c):\\n    return a/b/c \\n\\nprint(div1(10,5))\\nprint(div2(12,6,2))', 'def decor(func):\\n    def inner(*args):\\n        for num in args[1:]:\\n            if num == 0:\\n                return \"cannot divide by zero\"\\n        return func(*args)\\n    return inner \\n\\n@decor\\ndef div1(a,b):\\n    return a/b  \\n@decor\\ndef div2(a,b,c):\\n    return a/b/c \\n\\nprint(div1(10,5))\\nprint(div2(12,6,2))\\nprint(div2(12,6,0))', 'x = 10\\n\\ndef show_globals():\\n    print(globals())  # shows x, show_globals, and other built-ins\\n\\nshow_globals()'], '_oh': {4: ['ASAD', 'MUHAMMAD']}, '_dh': [WindowsPath('j:/Asad-Learning/Python-Learning')], 'In': ['', 'def decor1(func):\\n    def inner():\\n        return func().upper()\\n    return inner\\n\\ndef decor2(func):\\n    def inner():\\n        return func.split()            \\n    return inner\\n\\ndef get_name():\\n    name=\"Asad\"\\n    surname=\"Muhammad\"\\n    full_name=name+\" \"+surname \\n    return full_name \\n\\nget_name=decor2(decor1(get_name))\\nprint(get_name)', 'def decor1(func):\\n    def inner():\\n        return func().upper()\\n    return inner\\n\\ndef decor2(func):\\n    def inner():\\n        return func.split()            \\n    return inner\\n\\ndef get_name():\\n    name=\"Asad\"\\n    surname=\"Muhammad\"\\n    full_name=name+\" \"+surname \\n    return full_name \\n\\nget_name=decor2(decor1(get_name))\\nprint(get_name())', 'def decor1(func):\\n    def inner():\\n        return func().upper()\\n    return inner\\n\\ndef decor2(func):\\n    def inner():\\n        return func().split()            \\n    return inner\\n\\ndef get_name():\\n    name=\"Asad\"\\n    surname=\"Muhammad\"\\n    full_name=name+\" \"+surname \\n    return full_name \\n\\nget_name=decor2(decor1(get_name))\\nprint(get_name())', 'def decor1(func):\\n    def inner():\\n        return func().upper()\\n    return inner\\n\\ndef decor2(func):\\n    def inner():\\n        return func().split()            \\n    return inner\\n\\n@decor2\\n@decor1\\ndef get_name():\\n    name=\"Asad\"\\n    surname=\"Muhammad\"\\n    full_name=name+\" \"+surname \\n    return full_name \\n\\nget_name()', 'def div1(a,b):\\n    return a/b  \\ndef div2(a,b,c):\\n    return a/b/c \\nprint(div1(10,5))', 'def div1(a,b):\\n    return a/b  \\ndef div2(a,b,c):\\n    return a/b/c \\nprint(div1(10,5))\\nprint(div2(10/5/2))', 'def div1(a,b):\\n    return a/b  \\ndef div2(a,b,c):\\n    return a/b/c \\nprint(div1(10,5))\\nprint(div2(10,5,2))', 'def div1(a,b):\\n    return a/b  \\ndef div2(a,b,c):\\n    return a/b/c \\nprint(div1(10,5))\\nprint(div2(12,6,2))', 'def div1(a,b):\\n    return a/b  \\ndef div2(a,b,c):\\n    return a/b/c \\nprint(div1(10,5))\\nprint(div2(12,6,2))', 'def div1(a,b):\\n    return a/b  \\ndef div2(a,b,c):\\n    return a/b/c \\nprint(div1(10,5))\\nprint(div2(12,6,2))', 'def div1(a,b):\\n    return a/b  \\ndef div2(a,b,c):\\n    return a/b/c \\nprint(div1(10,5))\\nprint(div2(12,6,2))', 'def div1(a,b):\\n    return a/b  \\ndef div2(a,b,c):\\n    return a/b/c \\n# print(div1(10,5))\\nprint(div2(12,6,2))', 'def decor(func):\\n    def inner(*args):\\n        for num in args[1:]:\\n            if num == 0:\\n                return \"cannot divide by zero\"\\n            return func(*args)\\n    return inner \\n\\n@decor\\ndef div1(a,b):\\n    return a/b  \\n@decor\\ndef div2(a,b,c):\\n    return a/b/c \\n\\nprint(div1(10,5))\\nprint(div2(12,6,2))\\nprint(div2(12,6,0))', 'def decor(func):\\n    def inner(*args):\\n        for num in args[1:]:\\n            if num == 0:\\n                return \"cannot divide by zero\"\\n            return func(*args)\\n    return inner \\n\\n@decor\\ndef div1(a,b):\\n    return a/b  \\n@decor\\ndef div2(a,b,c):\\n    return a/b/c \\n\\nprint(div1(10,5))\\nprint(div2(12,6,2))', 'def decor(func):\\n    def inner(*args):\\n        for num in args[1:]:\\n            if num == 0:\\n                return \"cannot divide by zero\"\\n        return func(*args)\\n    return inner \\n\\n@decor\\ndef div1(a,b):\\n    return a/b  \\n@decor\\ndef div2(a,b,c):\\n    return a/b/c \\n\\nprint(div1(10,5))\\nprint(div2(12,6,2))', 'def decor(func):\\n    def inner(*args):\\n        for num in args[1:]:\\n            if num == 0:\\n                return \"cannot divide by zero\"\\n        return func(*args)\\n    return inner \\n\\n@decor\\ndef div1(a,b):\\n    return a/b  \\n@decor\\ndef div2(a,b,c):\\n    return a/b/c \\n\\nprint(div1(10,5))\\nprint(div2(12,6,2))\\nprint(div2(12,6,0))', 'x = 10\\n\\ndef show_globals():\\n    print(globals())  # shows x, show_globals, and other built-ins\\n\\nshow_globals()'], 'Out': {4: ['ASAD', 'MUHAMMAD']}, 'get_ipython': <bound method InteractiveShell.get_ipython of <ipykernel.zmqshell.ZMQInteractiveShell object at 0x00000195FE8BBC90>>, 'exit': <IPython.core.autocall.ZMQExitAutocall object at 0x00000195FE8D7D90>, 'quit': <IPython.core.autocall.ZMQExitAutocall object at 0x00000195FE8D7D90>, 'open': <function open at 0x00000195FC8D63E0>, '_': ['ASAD', 'MUHAMMAD'], '__': '', '___': '', '__vsc_ipynb_file__': 'j:\\\\Asad-Learning\\\\Python-Learning\\\\function&recursion.ipynb', '_i': 'def decor(func):\\n    def inner(*args):\\n        for num in args[1:]:\\n            if num == 0:\\n                return \"cannot divide by zero\"\\n        return func(*args)\\n    return inner \\n\\n@decor\\ndef div1(a,b):\\n    return a/b  \\n@decor\\ndef div2(a,b,c):\\n    return a/b/c \\n\\nprint(div1(10,5))\\nprint(div2(12,6,2))\\nprint(div2(12,6,0))', '_ii': 'def decor(func):\\n    def inner(*args):\\n        for num in args[1:]:\\n            if num == 0:\\n                return \"cannot divide by zero\"\\n        return func(*args)\\n    return inner \\n\\n@decor\\ndef div1(a,b):\\n    return a/b  \\n@decor\\ndef div2(a,b,c):\\n    return a/b/c \\n\\nprint(div1(10,5))\\nprint(div2(12,6,2))', '_iii': 'def decor(func):\\n    def inner(*args):\\n        for num in args[1:]:\\n            if num == 0:\\n                return \"cannot divide by zero\"\\n            return func(*args)\\n    return inner \\n\\n@decor\\ndef div1(a,b):\\n    return a/b  \\n@decor\\ndef div2(a,b,c):\\n    return a/b/c \\n\\nprint(div1(10,5))\\nprint(div2(12,6,2))', '_i1': 'def decor1(func):\\n    def inner():\\n        return func().upper()\\n    return inner\\n\\ndef decor2(func):\\n    def inner():\\n        return func.split()            \\n    return inner\\n\\ndef get_name():\\n    name=\"Asad\"\\n    surname=\"Muhammad\"\\n    full_name=name+\" \"+surname \\n    return full_name \\n\\nget_name=decor2(decor1(get_name))\\nprint(get_name)', 'decor1': <function decor1 at 0x00000195FEB298A0>, 'decor2': <function decor2 at 0x00000195FEC30860>, 'get_name': <function decor2.<locals>.inner at 0x00000195FEC331A0>, '_i2': 'def decor1(func):\\n    def inner():\\n        return func().upper()\\n    return inner\\n\\ndef decor2(func):\\n    def inner():\\n        return func.split()            \\n    return inner\\n\\ndef get_name():\\n    name=\"Asad\"\\n    surname=\"Muhammad\"\\n    full_name=name+\" \"+surname \\n    return full_name \\n\\nget_name=decor2(decor1(get_name))\\nprint(get_name())', '_i3': 'def decor1(func):\\n    def inner():\\n        return func().upper()\\n    return inner\\n\\ndef decor2(func):\\n    def inner():\\n        return func().split()            \\n    return inner\\n\\ndef get_name():\\n    name=\"Asad\"\\n    surname=\"Muhammad\"\\n    full_name=name+\" \"+surname \\n    return full_name \\n\\nget_name=decor2(decor1(get_name))\\nprint(get_name())', '_i4': 'def decor1(func):\\n    def inner():\\n        return func().upper()\\n    return inner\\n\\ndef decor2(func):\\n    def inner():\\n        return func().split()            \\n    return inner\\n\\n@decor2\\n@decor1\\ndef get_name():\\n    name=\"Asad\"\\n    surname=\"Muhammad\"\\n    full_name=name+\" \"+surname \\n    return full_name \\n\\nget_name()', '_4': ['ASAD', 'MUHAMMAD'], '_i5': 'def div1(a,b):\\n    return a/b  \\ndef div2(a,b,c):\\n    return a/b/c \\nprint(div1(10,5))', 'div1': <function decor.<locals>.inner at 0x00000195FF131260>, 'div2': <function decor.<locals>.inner at 0x00000195FF130540>, '_i6': 'def div1(a,b):\\n    return a/b  \\ndef div2(a,b,c):\\n    return a/b/c \\nprint(div1(10,5))\\nprint(div2(10/5/2))', '_i7': 'def div1(a,b):\\n    return a/b  \\ndef div2(a,b,c):\\n    return a/b/c \\nprint(div1(10,5))\\nprint(div2(10,5,2))', '_i8': 'def div1(a,b):\\n    return a/b  \\ndef div2(a,b,c):\\n    return a/b/c \\nprint(div1(10,5))\\nprint(div2(12,6,2))', '_i9': 'def div1(a,b):\\n    return a/b  \\ndef div2(a,b,c):\\n    return a/b/c \\nprint(div1(10,5))\\nprint(div2(12,6,2))', '_i10': 'def div1(a,b):\\n    return a/b  \\ndef div2(a,b,c):\\n    return a/b/c \\nprint(div1(10,5))\\nprint(div2(12,6,2))', '_i11': 'def div1(a,b):\\n    return a/b  \\ndef div2(a,b,c):\\n    return a/b/c \\nprint(div1(10,5))\\nprint(div2(12,6,2))', '_i12': 'def div1(a,b):\\n    return a/b  \\ndef div2(a,b,c):\\n    return a/b/c \\n# print(div1(10,5))\\nprint(div2(12,6,2))', '_i13': 'def decor(func):\\n    def inner(*args):\\n        for num in args[1:]:\\n            if num == 0:\\n                return \"cannot divide by zero\"\\n            return func(*args)\\n    return inner \\n\\n@decor\\ndef div1(a,b):\\n    return a/b  \\n@decor\\ndef div2(a,b,c):\\n    return a/b/c \\n\\nprint(div1(10,5))\\nprint(div2(12,6,2))\\nprint(div2(12,6,0))', 'decor': <function decor at 0x00000195FF130680>, '_i14': 'def decor(func):\\n    def inner(*args):\\n        for num in args[1:]:\\n            if num == 0:\\n                return \"cannot divide by zero\"\\n            return func(*args)\\n    return inner \\n\\n@decor\\ndef div1(a,b):\\n    return a/b  \\n@decor\\ndef div2(a,b,c):\\n    return a/b/c \\n\\nprint(div1(10,5))\\nprint(div2(12,6,2))', '_i15': 'def decor(func):\\n    def inner(*args):\\n        for num in args[1:]:\\n            if num == 0:\\n                return \"cannot divide by zero\"\\n        return func(*args)\\n    return inner \\n\\n@decor\\ndef div1(a,b):\\n    return a/b  \\n@decor\\ndef div2(a,b,c):\\n    return a/b/c \\n\\nprint(div1(10,5))\\nprint(div2(12,6,2))', '_i16': 'def decor(func):\\n    def inner(*args):\\n        for num in args[1:]:\\n            if num == 0:\\n                return \"cannot divide by zero\"\\n        return func(*args)\\n    return inner \\n\\n@decor\\ndef div1(a,b):\\n    return a/b  \\n@decor\\ndef div2(a,b,c):\\n    return a/b/c \\n\\nprint(div1(10,5))\\nprint(div2(12,6,2))\\nprint(div2(12,6,0))', '_i17': 'x = 10\\n\\ndef show_globals():\\n    print(globals())  # shows x, show_globals, and other built-ins\\n\\nshow_globals()', 'x': 10, 'show_globals': <function show_globals at 0x00000195FF1314E0>}\n"
     ]
    }
   ],
   "source": [
    "x = 10\n",
    "\n",
    "def show_globals():\n",
    "    print(globals())  # shows x, show_globals, and other built-ins\n",
    "\n",
    "show_globals()\n"
   ]
  },
  {
   "cell_type": "markdown",
   "id": "88ed02b1",
   "metadata": {},
   "source": [
    "🧠 Example 2: Add or Update a Global Variable Dynamically"
   ]
  },
  {
   "cell_type": "markdown",
   "id": "52e34248",
   "metadata": {},
   "source": [
    "globals()['y'] = 100  # create a new global variable y\n",
    "print(y)  # Output: 100\n"
   ]
  },
  {
   "cell_type": "code",
   "execution_count": 18,
   "id": "fc55810e",
   "metadata": {},
   "outputs": [
    {
     "name": "stdout",
     "output_type": "stream",
     "text": [
      "Hello from global scope!\n"
     ]
    }
   ],
   "source": [
    "def set_global():\n",
    "    globals()['message'] = \"Hello from global scope!\"\n",
    "\n",
    "set_global()\n",
    "print(message)  # Output: Hello from global scope!\n"
   ]
  },
  {
   "cell_type": "markdown",
   "id": "d2a4b7b0",
   "metadata": {},
   "source": [
    "⚠️ Warning:\n",
    "Avoid overusing globals() — it can make your code hard to read and debug.\n",
    "\n",
    "It's powerful, but better used in advanced or dynamic situations.\n",
    "\n"
   ]
  }
 ],
 "metadata": {
  "kernelspec": {
   "display_name": "Python 3 (ipykernel)",
   "language": "python",
   "name": "python3"
  },
  "language_info": {
   "codemirror_mode": {
    "name": "ipython",
    "version": 3
   },
   "file_extension": ".py",
   "mimetype": "text/x-python",
   "name": "python",
   "nbconvert_exporter": "python",
   "pygments_lexer": "ipython3",
   "version": "3.11.4"
  }
 },
 "nbformat": 4,
 "nbformat_minor": 5
}
