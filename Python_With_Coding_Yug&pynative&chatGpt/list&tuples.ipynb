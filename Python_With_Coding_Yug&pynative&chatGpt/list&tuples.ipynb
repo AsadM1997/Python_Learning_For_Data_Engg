{
 "cells": [
  {
   "cell_type": "code",
   "execution_count": 6,
   "id": "d3a18d33",
   "metadata": {},
   "outputs": [],
   "source": [
    "fruits = [\"apple\", \"banana\", \"cherry\"]\n",
    "numbers = [1, 2, 3, 4, 5]\n",
    "mixed = [1, \"hello\", 3.14, True]\n",
    "\n",
    "\n"
   ]
  },
  {
   "cell_type": "code",
   "execution_count": 7,
   "id": "63a515a2",
   "metadata": {},
   "outputs": [
    {
     "name": "stdout",
     "output_type": "stream",
     "text": [
      "['apple', 'orange', 'cherry']\n"
     ]
    }
   ],
   "source": [
    "fruits[1] = \"orange\"\n",
    "print(fruits)  # ['apple', 'orange', 'cherry']\n"
   ]
  },
  {
   "cell_type": "code",
   "execution_count": null,
   "id": "636f661b",
   "metadata": {},
   "outputs": [],
   "source": [
    "fruits.append(\"grape\")\t                           #Add to end\n",
    "fruits.insert(1, \"kiwi\")\t            #Insert at index\n",
    "fruits.remove(\"banana\")\t        #Remove by value\n",
    "fruits.pop()\t                            #Remove last item\n",
    "len(fruits)                                  #\tGet length of list\n"
   ]
  },
  {
   "cell_type": "code",
   "execution_count": null,
   "id": "32a317ef",
   "metadata": {},
   "outputs": [],
   "source": [
    "numbers = [1, 2, 3, 4, 5,9,76,5,4]\n",
    "numbers.sort()\t                                #Sort list\n",
    "numbers.reverse()\t                    #Reverse list\n",
    "# slicing \n",
    "numbers[1:4]"
   ]
  },
  {
   "cell_type": "code",
   "execution_count": null,
   "id": "c06c8232",
   "metadata": {},
   "outputs": [],
   "source": [
    "for fruit in fruits:\n",
    "    print(fruit)\n"
   ]
  },
  {
   "cell_type": "markdown",
   "id": "479b8a20",
   "metadata": {},
   "source": [
    "Tuples in Python\n",
    "\n",
    "A built-in data type that lets us create immutable sequences of values."
   ]
  },
  {
   "cell_type": "code",
   "execution_count": 13,
   "id": "2543a8cf",
   "metadata": {},
   "outputs": [
    {
     "name": "stdout",
     "output_type": "stream",
     "text": [
      "87\n",
      "(1,) <class 'tuple'>\n"
     ]
    }
   ],
   "source": [
    "tup = (87, 64, 33, 95, 76) \n",
    "\n",
    "# indexing\n",
    "#tup[0], tup[1]..\n",
    "\n",
    "print(tup[0])\n",
    "\n",
    "# tup[0] = 43 #NOT allowed in python\n",
    "\n",
    "tup1 = ( )\n",
    "\n",
    "tup2 = ( 1, )\n",
    "print(tup2,type(tup2))\n",
    "\n",
    "tup3 = ( 1, 2, 3 )"
   ]
  },
  {
   "cell_type": "code",
   "execution_count": 17,
   "id": "d680d401",
   "metadata": {},
   "outputs": [
    {
     "name": "stdout",
     "output_type": "stream",
     "text": [
      "4\n",
      "0\n",
      "(64, 33)\n"
     ]
    }
   ],
   "source": [
    "tup = (87, 64, 33, 95, 76) \n",
    "\n",
    "print(tup.index(76))\n",
    "print(tup.count(1))\n",
    "\n",
    "# slicing \n",
    "print(tup[1:3])"
   ]
  },
  {
   "cell_type": "code",
   "execution_count": null,
   "id": "19040889",
   "metadata": {},
   "outputs": [
    {
     "name": "stdout",
     "output_type": "stream",
     "text": [
      "['jhon wick', '3idiot', 'Master']\n"
     ]
    }
   ],
   "source": [
    "# WAP to ask the user to enter names of their 3 favorite movies & store them in a list.\n",
    "list=[]\n",
    "list.append(\"jhon wick\")\n",
    "list.append(\"3idiot\")\n",
    "list.append(\"Master\")\n",
    "print(list)\n",
    "\n"
   ]
  },
  {
   "cell_type": "code",
   "execution_count": null,
   "id": "a7913edb",
   "metadata": {},
   "outputs": [],
   "source": [
    "movies=[]\n",
    "movies.append(input(\"enter movie\"))\n",
    "movies.append(input(\"enter movie\"))\n",
    "movies.append(input(\"enter movie\"))\n",
    "print(movies)"
   ]
  },
  {
   "cell_type": "code",
   "execution_count": 5,
   "id": "d60a6ede",
   "metadata": {},
   "outputs": [
    {
     "name": "stdout",
     "output_type": "stream",
     "text": [
      "not palindrom\n"
     ]
    }
   ],
   "source": [
    "# WAP to check if a list contains a palindrome of elements. (Hint: use copy( ) method)\n",
    "# maam raccar \n",
    "list=[1,2,2,1]\n",
    "list1=[1,2,3,1]\n",
    "list1=list1.copy()\n",
    "list1=list1.reverse()\n",
    "\n",
    "if list == list1:\n",
    "    print(\"palindrome\")\n",
    "else:\n",
    "    print(\"not palindrom\")"
   ]
  },
  {
   "cell_type": "code",
   "execution_count": null,
   "id": "bfb5be66",
   "metadata": {},
   "outputs": [
    {
     "name": "stdout",
     "output_type": "stream",
     "text": [
      "4\n",
      "['A', 'A', 'A', 'A', 'B', 'B', 'C', 'D']\n"
     ]
    }
   ],
   "source": [
    "# WAP to count the number of students with the “A” grade in the following tuple.\n",
    "[\"C\",\"D\",\"A\",\"A\",\"B\",\"B\",\"A\",\"A\"]\n",
    "# Store the above values in a list & sort them from “A” to “D”\n",
    "grade=(\"C\",\"D\",\"A\",\"A\",\"B\",\"B\",\"A\",\"A\")\n",
    "print(grade.count(\"A\"))\n",
    "\n",
    "\n",
    "grade_list=[\"C\",\"D\",\"A\",\"A\",\"B\",\"B\",\"A\",\"A\"]\n",
    "grade_list.sort()\n",
    "print(grade_list)\n"
   ]
  }
 ],
 "metadata": {
  "kernelspec": {
   "display_name": "Python 3",
   "language": "python",
   "name": "python3"
  },
  "language_info": {
   "codemirror_mode": {
    "name": "ipython",
    "version": 3
   },
   "file_extension": ".py",
   "mimetype": "text/x-python",
   "name": "python",
   "nbconvert_exporter": "python",
   "pygments_lexer": "ipython3",
   "version": "3.11.4"
  }
 },
 "nbformat": 4,
 "nbformat_minor": 5
}
