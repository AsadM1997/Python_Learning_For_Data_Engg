{
 "cells": [
  {
   "cell_type": "markdown",
   "id": "f7e2e61f-15aa-4fcb-abd6-4032eee721cd",
   "metadata": {},
   "source": [
    "i want to prectice some question becuase prectice makes perfect\n",
    "\n",
    "\n",
    "🧠 Regular Expressions in Python – Complete Guide\n",
    "✅ 1. What is a Regular Expression?\n",
    "A Regular Expression (RegEx) is a sequence of characters that forms a search pattern for matching strings.\n",
    "\n",
    "It’s like a smart \"search tool\" that finds patterns instead of exact values.\n",
    "\n",
    "🔧 2. Python’s re Module"
   ]
  },
  {
   "cell_type": "code",
   "execution_count": 1,
   "id": "96480165-81cf-46f9-9b3b-66a2dbf6eaaa",
   "metadata": {},
   "outputs": [],
   "source": [
    "import re\n"
   ]
  },
  {
   "cell_type": "markdown",
   "id": "0ad702b0-5b1d-43fc-9eb5-e4561c532e2e",
   "metadata": {},
   "source": [
    "\n",
    "🔍 3. Common RegEx Functions \n",
    "\n",
    "| Function        | Purpose                             |\n",
    "| --------------- | ----------------------------------- |\n",
    "| `re.search()`   | Search for first match              |\n",
    "| `re.match()`    | Check if pattern matches from start |\n",
    "| `re.findall()`  | Return all matches as a list        |\n",
    "| `re.finditer()` | Return all matches as match objects |\n",
    "| `re.sub()`      | Replace matched patterns            |\n",
    "| `re.compile()`  | Compile regex for reuse             |\n",
    "\n"
   ]
  },
  {
   "cell_type": "markdown",
   "id": "845e94ef-eda4-4fa9-9e66-17f7101452a7",
   "metadata": {},
   "source": [
    "\n",
    "🧪 4. Special Characters in RegEx\n",
    "| Pattern | Meaning                      | Example                |       |       |\n",
    "| ------- | ---------------------------- | ---------------------- | ----- | ----- |\n",
    "| `.`     | Any character except newline | `a.b` → `a*b`          |       |       |\n",
    "| `^`     | Start of string              | `^Hello`               |       |       |\n",
    "| `$`     | End of string                | `world$`               |       |       |\n",
    "| `*`     | 0 or more repetitions        | `ab*` → `a`, `abbb`    |       |       |\n",
    "| `+`     | 1 or more repetitions        | `ab+` → `ab`, `abbb`   |       |       |\n",
    "| `?`     | 0 or 1 occurrence            | `ab?` → `a`, `ab`      |       |       |\n",
    "| `{n}`   | Exactly n times              | `a{3}` → `aaa`         |       |       |\n",
    "| `{n,}`  | At least n times             | `a{2,}` → `aa`, `aaa`  |       |       |\n",
    "| `{n,m}` | Between n and m times        | `a{2,4}` → `aa`, `aaa` |       |       |\n",
    "| `[]`    | Character set                | `[abc]` → `a`, `b`     |       |       |\n",
    "| `[^]`   | Not in character set         | `[^abc]`               |       |       |\n",
    "| \\`      | \\`                           | OR                     | \\`cat | dog\\` |\n",
    "| `()`    | Grouping                     | `(abc)+`               |       |       |\n",
    "| `\\`     | Escape special characters    | `\\.` matches `.`       |       |       |\n"
   ]
  },
  {
   "cell_type": "markdown",
   "id": "e019d153-d006-499a-84e1-75d067838602",
   "metadata": {},
   "source": [
    "📦 5. Character Classes (Shortcuts)\n",
    "\n",
    "| Symbol | Matches...                    | Example              |\n",
    "| ------ | ----------------------------- | -------------------- |\n",
    "| `\\d`   | Digit (0–9)                   | `\\d\\d` → 2-digit num |\n",
    "| `\\D`   | Non-digit                     |                      |\n",
    "| `\\w`   | Word char (a-z, A-Z, 0-9, \\_) | `\\w+` → word         |\n",
    "| `\\W`   | Non-word char                 |                      |\n",
    "| `\\s`   | Whitespace                    | `\\s+` → spaces/tabs  |\n",
    "| `\\S`   | Non-whitespace                |                      |\n"
   ]
  },
  {
   "cell_type": "markdown",
   "id": "9f8979f4-9e41-47bf-80c8-7ebbfc560598",
   "metadata": {},
   "source": [
    "🧪 6. Examples\n",
    "✅ Match email addresses"
   ]
  },
  {
   "cell_type": "code",
   "execution_count": 1,
   "id": "3d7b7b76-dbb9-4423-8ee5-a7fb96228161",
   "metadata": {},
   "outputs": [
    {
     "name": "stdout",
     "output_type": "stream",
     "text": [
      "786asadmalik@gmail.com\n"
     ]
    }
   ],
   "source": [
    "import re \n",
    "text =  \"786asadmalik@gmail.com\"\n",
    "pattern = r\"[a-zA-Z0-9_.]+@[a-zA-Z]+\\.(com|in|net|org)\"\n",
    "match = re.search(pattern, text)\n",
    "print(match.group())"
   ]
  },
  {
   "cell_type": "markdown",
   "id": "649dfab6-b0c3-42fe-bb91-11c97772f818",
   "metadata": {},
   "source": [
    "✅ Extract phone numbers"
   ]
  },
  {
   "cell_type": "code",
   "execution_count": 2,
   "id": "461bb6fc-b7b5-497e-ae13-0e2fd7c08b3b",
   "metadata": {},
   "outputs": [
    {
     "name": "stdout",
     "output_type": "stream",
     "text": [
      "[]\n"
     ]
    }
   ],
   "source": [
    "text = \"Call me at +91-9876543210 or 022-12345678\"\n",
    "pattern = r\"\\+91-\\d{10}-\\d{3}-\\d{8}\"\n",
    "print(re.findall(pattern, text))\n"
   ]
  },
  {
   "cell_type": "markdown",
   "id": "0236b75e-ffbf-4594-98d5-21801cbfce36",
   "metadata": {},
   "source": [
    "✅ Replace digits"
   ]
  },
  {
   "cell_type": "code",
   "execution_count": 3,
   "id": "f606d331-9863-4a66-913e-77181d750e10",
   "metadata": {},
   "outputs": [
    {
     "name": "stdout",
     "output_type": "stream",
     "text": [
      "Password: ****\n"
     ]
    }
   ],
   "source": [
    "text = \"Password: 1234\"\n",
    "print(re.sub(r\"\\d\", \"*\", text))"
   ]
  },
  {
   "cell_type": "markdown",
   "id": "bc171a4b-4f3b-490c-bfda-2abe60651467",
   "metadata": {},
   "source": [
    "🛠️ 7. Using re.compile() \n",
    "\n",
    "✅ Useful for reusing the same pattern multiple times."
   ]
  },
  {
   "cell_type": "code",
   "execution_count": 4,
   "id": "050cf268-a798-4cde-9794-c1e453fb9ca9",
   "metadata": {},
   "outputs": [
    {
     "name": "stdout",
     "output_type": "stream",
     "text": [
      "['1100', '2024']\n"
     ]
    }
   ],
   "source": [
    "text = 'Pin code: 1100, Year: 2024'\n",
    "pattern = re.compile(r\"\\d{4}\")\n",
    "print(pattern.findall(text))"
   ]
  },
  {
   "cell_type": "markdown",
   "id": "5a54c3e6-88a7-4e19-986e-8a174ed228b8",
   "metadata": {},
   "source": [
    "📚 8. Match vs Search vs Findall\n",
    "| Function    | Matches From | Returns          | Use When              |\n",
    "| ----------- | ------------ | ---------------- | --------------------- |\n",
    "| `match()`   | Beginning    | One match object | Check string start    |\n",
    "| `search()`  | Anywhere     | One match object | Find first occurrence |\n",
    "| `findall()` | Anywhere     | List of matches  | Find all occurrences  |\n"
   ]
  },
  {
   "cell_type": "code",
   "execution_count": 5,
   "id": "9f0c08d8-458d-4b59-941f-bcd008ea2553",
   "metadata": {},
   "outputs": [
    {
     "name": "stdout",
     "output_type": "stream",
     "text": [
      "Valid number\n"
     ]
    }
   ],
   "source": [
    "pattern = r\"^\\+91\\d{10}$\"\n",
    "\n",
    "number = \"+919876543210\"\n",
    "if re.match(pattern, number):\n",
    "    print(\"Valid number\")\n",
    "else:\n",
    "    print(\"Invalid\")\n"
   ]
  },
  {
   "cell_type": "markdown",
   "id": "fb0413ee-a4ca-42b6-82c6-43a2916382c6",
   "metadata": {},
   "source": [
    "🧠 10. Real-World Use Cases in Data Engineering\n",
    "✅ Clean and normalize messy data\n",
    "\n",
    "✅ Validate email, phone, IP, URLs\n",
    "\n",
    "✅ Extract patterns from raw text\n",
    "\n",
    "✅ Parse logs, config files, documents\n",
    "\n",
    "✅ Used in ETL pipelines & preprocessing\n",
    "\n"
   ]
  },
  {
   "cell_type": "code",
   "execution_count": null,
   "id": "78070e54-b5c7-4295-9520-7bcc74442cbe",
   "metadata": {},
   "outputs": [],
   "source": []
  }
 ],
 "metadata": {
  "kernelspec": {
   "display_name": "Python 3 (ipykernel)",
   "language": "python",
   "name": "python3"
  },
  "language_info": {
   "codemirror_mode": {
    "name": "ipython",
    "version": 3
   },
   "file_extension": ".py",
   "mimetype": "text/x-python",
   "name": "python",
   "nbconvert_exporter": "python",
   "pygments_lexer": "ipython3",
   "version": "3.11.4"
  }
 },
 "nbformat": 4,
 "nbformat_minor": 5
}
