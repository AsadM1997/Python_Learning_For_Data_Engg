{
 "cells": [
  {
   "cell_type": "markdown",
   "id": "1f85efee",
   "metadata": {},
   "source": [
    "please make notes form Learning python chat "
   ]
  },
  {
   "cell_type": "markdown",
   "id": "8254b8ef",
   "metadata": {},
   "source": [
    "OOP Exercise 1: Create a Class with instance attributes \n",
    "Write a Python program to create a Vehicle class with max_speed and mileage instance attributes."
   ]
  },
  {
   "cell_type": "code",
   "execution_count": 7,
   "id": "8d412871",
   "metadata": {},
   "outputs": [
    {
     "name": "stdout",
     "output_type": "stream",
     "text": [
      "50 25\n"
     ]
    }
   ],
   "source": [
    "class Vehicle:\n",
    "    def __init__(self,speed,milage):\n",
    "        self.max_speed=speed\n",
    "        self.milage=milage \n",
    "\n",
    "modelx=Vehicle(50,25)\n",
    "print(modelx.max_speed,modelx.milage)        "
   ]
  },
  {
   "cell_type": "markdown",
   "id": "7ee52304",
   "metadata": {},
   "source": [
    "OOP Exercise 2: Create a Vehicle class without any variables and methods"
   ]
  },
  {
   "cell_type": "code",
   "execution_count": 8,
   "id": "a31c207e",
   "metadata": {},
   "outputs": [],
   "source": [
    "class Vehicle:\n",
    "    pass"
   ]
  },
  {
   "cell_type": "markdown",
   "id": "90546a94",
   "metadata": {},
   "source": [
    "OOP Exercise 3: Create a child class Bus that will inherit all of the variables and methods of the Vehicle class \n"
   ]
  },
  {
   "cell_type": "code",
   "execution_count": 11,
   "id": "b312c041",
   "metadata": {},
   "outputs": [
    {
     "name": "stdout",
     "output_type": "stream",
     "text": [
      "school name school volvo speed 30 milage 25\n"
     ]
    }
   ],
   "source": [
    "class Vehicle:\n",
    "\n",
    "    def __init__(self, name, max_speed, mileage):\n",
    "        self.name = name\n",
    "        self.max_speed = max_speed\n",
    "        self.mileage = mileage\n",
    "\n",
    "class Bus(Vehicle):\n",
    "    pass \n",
    "\n",
    "c1=Bus(\"school volvo\",30,25)\n",
    "print(\"school name\",c1.name,\"speed\",c1.max_speed,\"milage\",c1.mileage)         "
   ]
  },
  {
   "cell_type": "markdown",
   "id": "c653ae53",
   "metadata": {},
   "source": [
    "OOP Exercise 4: Class Inheritance\n",
    "Create a Bus class that inherits from the Vehicle class. Give the capacity argument of Bus.seating_capacity() a default value of 50."
   ]
  },
  {
   "cell_type": "code",
   "execution_count": 12,
   "id": "fe7660d6",
   "metadata": {},
   "outputs": [
    {
     "name": "stdout",
     "output_type": "stream",
     "text": [
      "The seating capacity of a School Volvo is 50 passengers\n"
     ]
    }
   ],
   "source": [
    "class Vehicle:\n",
    "    def __init__(self, name, max_speed, mileage):\n",
    "        self.name = name\n",
    "        self.max_speed = max_speed\n",
    "        self.mileage = mileage\n",
    "\n",
    "    def seating_capacity(self, capacity):\n",
    "        return f\"The seating capacity of a {self.name} is {capacity} passengers\"\n",
    "\n",
    "class Bus(Vehicle):\n",
    "    # assign default value to capacity\n",
    "    def seating_capacity(self, capacity=50):\n",
    "        return super().seating_capacity(capacity=50)\n",
    "\n",
    "School_bus = Bus(\"School Volvo\", 180, 12)\n",
    "print(School_bus.seating_capacity())"
   ]
  },
  {
   "cell_type": "markdown",
   "id": "90adf8f7",
   "metadata": {},
   "source": [
    "OOP Exercise 5: Define a property that must have the same value for every class instance (object)\n",
    "Define a class attribute”color” with a default value white. I.e., Every Vehicle should be white."
   ]
  },
  {
   "cell_type": "code",
   "execution_count": null,
   "id": "091373f4",
   "metadata": {},
   "outputs": [
    {
     "name": "stdout",
     "output_type": "stream",
     "text": [
      "volvo white 120 30\n",
      "white School Volvo Speed: 180 Mileage: 12\n",
      "white Audi Q5 Speed: 240 Mileage: 18\n"
     ]
    }
   ],
   "source": [
    "class Vehicle:\n",
    "    color=\"white\"\n",
    "    def __init__(self, name, max_speed, mileage):\n",
    "        self.name = name\n",
    "        self.max_speed = max_speed\n",
    "        self.mileage = mileage\n",
    "\n",
    "class Bus(Vehicle):\n",
    "    pass\n",
    "\n",
    "class Car(Vehicle):\n",
    "    pass \n",
    "\n",
    "\n",
    "c1=Bus(\"volvo\",120,30)\n",
    "print(c1.name,c1.color,c1.max_speed,c1.mileage) \n",
    "\n",
    "\n",
    "School_bus = Bus(\"School Volvo\", 180, 12)\n",
    "print(School_bus.color, School_bus.name, \"Speed:\", School_bus.max_speed, \"Mileage:\", School_bus.mileage)\n",
    "\n",
    "car = Car(\"Audi Q5\", 240, 18)\n",
    "print(car.color, car.name, \"Speed:\", car.max_speed, \"Mileage:\", car.mileage)"
   ]
  },
  {
   "cell_type": "markdown",
   "id": "76faef55",
   "metadata": {},
   "source": [
    "OOP Exercise 6: Class Inheritance -->Given:\n",
    "\n",
    "Create a Bus child class that inherits from the Vehicle class. The default fare charge for any vehicle is its seating capacity multiplied by 100 (seating capacity * 100).\n",
    "\n",
    "If the vehicle is a Bus instance, we need to add an extra 10% to the full fare as a maintenance charge. Therefore, the total fare for a Bus instance will be the final amount, calculated as total fare plus 10% of the total fare. (final amount = total fare + 10% of the total fare.)\n",
    "\n",
    "Note: The bus seating capacity is 50, so the final fare amount should be 5500.\n",
    "\n",
    "Use the following code for your parent Vehicle class. We need to access the parent class from within a method of a child class."
   ]
  },
  {
   "cell_type": "code",
   "execution_count": null,
   "id": "637ffe4f",
   "metadata": {},
   "outputs": [
    {
     "name": "stdout",
     "output_type": "stream",
     "text": [
      "Total Bus fare is: 5500.0\n"
     ]
    }
   ],
   "source": [
    "# intresting question *******\n",
    "class Vehicle:\n",
    "    def __init__(self, name, mileage, capacity):\n",
    "        self.name = name\n",
    "        self.mileage = mileage\n",
    "        self.capacity = capacity\n",
    "\n",
    "    def fare(self):\n",
    "        return self.capacity * 100\n",
    "\n",
    "class Bus(Vehicle):\n",
    "    def fare(self):\n",
    "        amount=super().fare()\n",
    "        amount+= amount*10/100\n",
    "        return amount\n",
    "\n",
    "School_bus = Bus(\"School Volvo\", 12, 50)\n",
    "print(\"Total Bus fare is:\", School_bus.fare())"
   ]
  },
  {
   "cell_type": "markdown",
   "id": "d845ee2b",
   "metadata": {},
   "source": [
    "OOP Exercise 7: Check type of an object\n",
    "Write a program to determine which class a given Bus object belongs to.\n",
    "\n"
   ]
  },
  {
   "cell_type": "code",
   "execution_count": 19,
   "id": "3a4850ce",
   "metadata": {},
   "outputs": [
    {
     "name": "stdout",
     "output_type": "stream",
     "text": [
      "<class '__main__.Bus'>\n"
     ]
    }
   ],
   "source": [
    "class Vehicle:\n",
    "    def __init__(self, name, mileage, capacity):\n",
    "        self.name = name\n",
    "        self.mileage = mileage\n",
    "        self.capacity = capacity\n",
    "\n",
    "class Bus(Vehicle):\n",
    "    pass\n",
    "\n",
    "School_bus = Bus(\"School Volvo\", 12, 50) \n",
    "print(type(School_bus))"
   ]
  },
  {
   "cell_type": "markdown",
   "id": "9b4e8d62",
   "metadata": {},
   "source": [
    "OOP Exercise 8: Determine if School_bus is also an instance of the Vehicle class"
   ]
  },
  {
   "cell_type": "code",
   "execution_count": 23,
   "id": "1ffc4cb8",
   "metadata": {},
   "outputs": [
    {
     "name": "stdout",
     "output_type": "stream",
     "text": [
      "<class '__main__.Bus'> True\n"
     ]
    }
   ],
   "source": [
    "class Vehicle:\n",
    "    def __init__(self, name, mileage, capacity):\n",
    "        self.name = name\n",
    "        self.mileage = mileage\n",
    "        self.capacity = capacity\n",
    "\n",
    "class Bus(Vehicle):\n",
    "    pass\n",
    "\n",
    "School_bus = Bus(\"School Volvo\", 12, 50)\n",
    "print(type(School_bus),isinstance(School_bus,Vehicle))"
   ]
  },
  {
   "cell_type": "markdown",
   "id": "fcb55aa1",
   "metadata": {},
   "source": [
    "OOP Exercise 9: Check object is a subclass of a particular class -->\n",
    "Write a code to check the following\n",
    "\n",
    "Dog is a subclass of Animal? –> True\n",
    "Animal is a subclass of Dog? –> False\n",
    "Cat is a subclass of Animal? –> False\n",
    "Puppy is a subclass of Animal –> True"
   ]
  },
  {
   "cell_type": "code",
   "execution_count": 27,
   "id": "a02a9ea7",
   "metadata": {},
   "outputs": [
    {
     "name": "stdout",
     "output_type": "stream",
     "text": [
      "True\n",
      "False\n",
      "False\n",
      "False\n"
     ]
    }
   ],
   "source": [
    "class Animal:\n",
    "    pass\n",
    "\n",
    "class Dog(Animal):\n",
    "    pass\n",
    "\n",
    "class Puppy(Dog):\n",
    "    pass\n",
    "\n",
    "class Cat:\n",
    "    pass\n",
    "\n",
    "print(issubclass(Dog,Animal))\n",
    "print(issubclass(Animal,Dog))\n",
    "print(issubclass(Cat,Animal))\n",
    "print(isinstance(Puppy,Animal))"
   ]
  },
  {
   "cell_type": "markdown",
   "id": "149bec3c",
   "metadata": {},
   "source": [
    "OOP Exercise 10: Calculate the area of different shapes using OOP\n",
    "Given:\n",
    "\n",
    "You have given a Shape class and subclasses Circle  and Square. The parent class (Shape) has a area() method.\n",
    "\n",
    "Now, Write a OOP code to calculate the area of each shapes (each subclass must write its own implementation of area() method to calculates its area)."
   ]
  },
  {
   "cell_type": "code",
   "execution_count": null,
   "id": "3f183af4",
   "metadata": {},
   "outputs": [],
   "source": [
    "class Shape:\n",
    "    def area(self):\n",
    "        raise NotImplementedError(\"Area method must be implemented by subclasses\")\n",
    "\n",
    "class Circle(Shape):\n",
    "    def __init__(self, radius):\n",
    "        self.radius = radius\n",
    "\n",
    "    def area(self):  # Overriding the area method\n",
    "        return 3.14159 * self.radius**2\n",
    "\n",
    "class Square(Shape):\n",
    "    def __init__(self, side):\n",
    "        self.side = side\n",
    "\n",
    "    def area(self):  # Overriding the area method\n",
    "        return self.side * self.side\n",
    "\n",
    "# Example of polymorphism\n",
    "shapes = [Circle(5), Square(7), Circle(3)]\n",
    "\n",
    "for shape in shapes:\n",
    "    print(shape.area())  # Output: 78.53975, 49, 28.27431"
   ]
  },
  {
   "cell_type": "code",
   "execution_count": 12,
   "id": "eaa24352",
   "metadata": {},
   "outputs": [
    {
     "name": "stdout",
     "output_type": "stream",
     "text": [
      "mercedes black\n"
     ]
    }
   ],
   "source": [
    "class Car:\n",
    "    color=\"black\"\n",
    "    brand=\"mercedes\"\n",
    "    \n",
    "    \n",
    "car1=Car()\n",
    "print(car1.brand,car1.color)    "
   ]
  },
  {
   "cell_type": "markdown",
   "id": "691d1cfd",
   "metadata": {},
   "source": [
    "OOP in Python\n",
    "\n",
    "To map with real world scenarios, we started using objects in code.\n",
    "\n",
    "This is called object oriented programming.\n",
    "\n",
    "Apna College"
   ]
  },
  {
   "cell_type": "code",
   "execution_count": null,
   "id": "70ae2368",
   "metadata": {},
   "outputs": [
    {
     "name": "stdout",
     "output_type": "stream",
     "text": [
      "hi this is call of constructor self and call of constructor i.e car1 is samething it is automatically called  \n"
     ]
    }
   ],
   "source": [
    "class Car:\n",
    "    color=\"black\"\n",
    "    brand=\"mercedes\"\n",
    "    # default constructor \n",
    "    def __init__(self):\n",
    "        print(\"hi this is call of constructor self and call of constructor i.e car1 is samething it is automatically called  \")\n",
    "    \n",
    "car1=Car()"
   ]
  },
  {
   "cell_type": "code",
   "execution_count": null,
   "id": "a544a229",
   "metadata": {},
   "outputs": [
    {
     "name": "stdout",
     "output_type": "stream",
     "text": [
      "Ibraheem\n",
      "Ali\n",
      "Umer\n",
      "Abubaker\n",
      "saad\n"
     ]
    }
   ],
   "source": [
    "class Student:\n",
    "    # parameterized constructor\n",
    "    def __init__(self,name):\n",
    "        self.name=name\n",
    "        \n",
    "\n",
    "s1=Student(\"Ibraheem\")\n",
    "print(s1.name)        \n",
    "\n",
    "s2=Student(\"Ali\")\n",
    "print(s2.name)\n",
    "\n",
    "s3=Student(\"Umer\")\n",
    "print(s3.name)\n",
    "\n",
    "s4=Student(\"Abubaker\")\n",
    "print(s4.name)\n",
    "\n",
    "s5=Student(\"saad\")\n",
    "print(s5.name)\n",
    "\n",
    "# attributes,variables means data store inside the class or in object"
   ]
  },
  {
   "cell_type": "code",
   "execution_count": 2,
   "id": "e6df152d",
   "metadata": {},
   "outputs": [
    {
     "name": "stdout",
     "output_type": "stream",
     "text": [
      "A.K.T.U\n",
      "A.K.T.U\n"
     ]
    }
   ],
   "source": [
    "# class attribute\n",
    "\n",
    "# for common things \n",
    "# like your college name is same\n",
    "class Student:\n",
    "    college_name=\"A.K.T.U\"\n",
    "    def __init__(self,name):\n",
    "        self.name=name\n",
    "        \n",
    "s1=Student(\"Asad\")\n",
    "# we can get both ways \n",
    "# using constructor name\n",
    "print(s1.college_name)\n",
    "# using class name\n",
    "print(Student.college_name)        "
   ]
  },
  {
   "cell_type": "code",
   "execution_count": null,
   "id": "f58d922a",
   "metadata": {},
   "outputs": [
    {
     "name": "stdout",
     "output_type": "stream",
     "text": [
      "Muhammad\n"
     ]
    }
   ],
   "source": [
    "# when class attribute and object attribute  same\n",
    "class Student:\n",
    "    college_name=\"A.K.T.U\"\n",
    "    name=\"anonymous\" # class attribute\n",
    "    def __init__(self,name):\n",
    "        self.name=name  #object attribute> class attribute\n",
    "\n",
    "s1=Student(\"Muhammad\")        \n",
    "print(s1.name)        "
   ]
  },
  {
   "cell_type": "code",
   "execution_count": null,
   "id": "3db19f11",
   "metadata": {},
   "outputs": [
    {
     "name": "stdout",
     "output_type": "stream",
     "text": [
      "hello Muhammad\n"
     ]
    }
   ],
   "source": [
    "# methods are function that blongs to object basically jo function class mey banta hai called method \n",
    "class Student:\n",
    "    def __init__(self,name,marks):\n",
    "        self.name=name\n",
    "        self.marks=marks\n",
    "    def hello(self):\n",
    "        print(\"hello\",self.name)    \n",
    "    \n",
    "    def get_marks(self):\n",
    "        return self.marks\n",
    "        \n",
    "s1=Student(\"Muhammad\")\n",
    "s1.hello()     "
   ]
  },
  {
   "cell_type": "code",
   "execution_count": null,
   "id": "d2a99f31",
   "metadata": {},
   "outputs": [
    {
     "name": "stdout",
     "output_type": "stream",
     "text": [
      "average: Asad your average is: 79.0\n",
      "average: Muhammad your average is: 79.0\n"
     ]
    }
   ],
   "source": [
    "class Student:\n",
    "    def __init__(self,name,marks):\n",
    "        self.name=name\n",
    "        self.marks=marks \n",
    "        \n",
    "    def get_aveg(self):\n",
    "         avg=sum(self.marks)/len(self.marks) \n",
    "         print(\"average:\",self.name ,\"your average is:\",avg)\n",
    "\n",
    "c1=Student(\"Asad\",[97,70,70])         \n",
    "c1.get_aveg()\n",
    "# we can change our name from here \n",
    "c1.name=\"Muhammad\"\n",
    "c1.get_aveg()"
   ]
  },
  {
   "cell_type": "code",
   "execution_count": 28,
   "id": "89f608ec",
   "metadata": {},
   "outputs": [
    {
     "name": "stdout",
     "output_type": "stream",
     "text": [
      "hi tony Stark your avg score is  98.0\n",
      "hi ironman your avg score is  98.0\n"
     ]
    }
   ],
   "source": [
    "class Student():\n",
    "    def __init__(self,name,marks):\n",
    "        self.name=name\n",
    "        self.marks=marks\n",
    "    \n",
    "    def get_average(self):\n",
    "        sum=0\n",
    "        for val in self.marks:\n",
    "            sum+=val\n",
    "        print(\"hi\",self.name,\"your avg score is \",sum/3)         \n",
    "\n",
    "\n",
    "s1=Student(\"tony Stark\",[99,98,97])\n",
    "s1.get_average() \n",
    "# we can change variable or attribute value\n",
    "\n",
    "s1.name=\"ironman\"\n",
    "s1.get_average()"
   ]
  },
  {
   "cell_type": "code",
   "execution_count": null,
   "id": "41acebb8",
   "metadata": {},
   "outputs": [
    {
     "name": "stdout",
     "output_type": "stream",
     "text": [
      "hi\n",
      "None\n"
     ]
    }
   ],
   "source": [
    "#staticmethod\n",
    "# decorator takes funtion change behavior of function and give return \n",
    "class Student():\n",
    "    # @decorator\n",
    "    @staticmethod\n",
    "    def hello():\n",
    "        print(\"hi\")\n",
    "\n",
    "s1=Student()\n",
    "print(s1.hello())    "
   ]
  },
  {
   "cell_type": "code",
   "execution_count": null,
   "id": "9a1b83ab",
   "metadata": {},
   "outputs": [
    {
     "name": "stdout",
     "output_type": "stream",
     "text": [
      "car started..\n",
      "None\n"
     ]
    }
   ],
   "source": [
    "# Abstraction means hides of  Unnecessary thing and show necssosaty thing \n",
    "# encapsulation=realted data+realted function\n",
    "\n",
    "class Car:\n",
    "    def __init__(self):\n",
    "        self.acc=False\n",
    "        self.brk=False\n",
    "        self.clutch=False\n",
    "        \n",
    "    def start(self):\n",
    "        self.clutch=True\n",
    "        self.acc=True\n",
    "        print(\"car started..\")    \n",
    "        \n",
    "car1=Car()\n",
    "print(car1.start())        "
   ]
  },
  {
   "cell_type": "code",
   "execution_count": 3,
   "id": "4d35176e",
   "metadata": {},
   "outputs": [
    {
     "name": "stdout",
     "output_type": "stream",
     "text": [
      "Rs 1000  was debited\n",
      "total balance 9000\n",
      "Rs 100  was credit\n",
      "total balance 9100\n"
     ]
    }
   ],
   "source": [
    "# create Account Class with 2 attributes -balance &account no\n",
    "# create method for debit ,credit & printing the balance \n",
    "\n",
    "class Account():\n",
    "    def __init__(self,bal,acc):\n",
    "        self.balance=bal\n",
    "        self.account=acc\n",
    "# debit method\n",
    "    def debit(self,ammount):\n",
    "        self.balance-=ammount\n",
    "        print(\"Rs\",ammount,\" was debited\")\n",
    "        print(\"total balance\",self.get_balance())\n",
    "        \n",
    "        \n",
    "    # credit method\n",
    "    def credit(self,ammount):\n",
    "        self.balance+=ammount\n",
    "        print(\"Rs\",ammount,\" was credit\")\n",
    "        print(\"total balance\",self.get_balance())\n",
    "\n",
    "    def get_balance(self):\n",
    "        return self.balance\n",
    "\n",
    "acc1=Account(10000,123)            \n",
    "acc1.debit(1000)\n",
    "acc1.credit(100)"
   ]
  },
  {
   "cell_type": "markdown",
   "id": "c10a5d79",
   "metadata": {},
   "source": []
  },
  {
   "cell_type": "code",
   "execution_count": null,
   "id": "4b49c05a",
   "metadata": {},
   "outputs": [],
   "source": [
    "# ✅ Beginner OOP Projects in Python\n",
    "# 1. Library Management System\n",
    "# Classes: Book, Library, User\n",
    "\n",
    "# Features:\n",
    "\n",
    "# Add or remove books\n",
    "\n",
    "# Check availability\n",
    "\n",
    "# Borrow and return books\n",
    "\n",
    "# 2. Banking System\n",
    "# Classes: Account, Customer, Transaction\n",
    "\n",
    "# Features:\n",
    "\n",
    "# Create account\n",
    "\n",
    "# Deposit and withdraw money\n",
    "\n",
    "# View balance and transaction history\n",
    "\n",
    "# 3. Student Report Card System\n",
    "# Classes: Student, Subject, ReportCard\n",
    "\n",
    "# Features:\n",
    "\n",
    "# Enter marks\n",
    "\n",
    "# Calculate grades\n",
    "\n",
    "# Show performance report\n",
    "\n",
    "# 4. Simple E-commerce Cart\n",
    "# Classes: Product, Cart, User\n",
    "\n",
    "# Features:\n",
    "\n",
    "# Add/remove products\n",
    "\n",
    "# View total price\n",
    "\n",
    "# Checkout process\n",
    "\n"
   ]
  },
  {
   "cell_type": "code",
   "execution_count": 7,
   "id": "bdc07833",
   "metadata": {},
   "outputs": [],
   "source": [
    "# Book Class\n",
    "class Book:\n",
    "    def __init__(self, title, author):\n",
    "        self.title = title\n",
    "        self.author = author\n",
    "        self.available = True\n",
    "\n",
    "    def __str__(self):\n",
    "        status = 'Available' if self.available else 'Not Available'\n",
    "        return f\"{self.title} by {self.author} - {status}\"\n",
    "\n",
    "\n",
    "# Library Class\n",
    "class Library:\n",
    "    def __init__(self):\n",
    "        self.books = []\n",
    "\n",
    "    def add_book(self, book):\n",
    "        self.books.append(book)\n",
    "        print(f\"Book '{book.title}' added to the library.\")\n",
    "\n",
    "    def show_books(self):\n",
    "        if not self.books:\n",
    "            print(\"No books in the library.\")\n",
    "            return\n",
    "        for book in self.books:\n",
    "            print(book)\n",
    "\n",
    "    def borrow_book(self, title):\n",
    "        for book in self.books:\n",
    "            if book.title.lower() == title.lower() and book.available:\n",
    "                book.available = False\n",
    "                print(f\"You have borrowed '{book.title}'.\")\n",
    "                return\n",
    "        print(f\"Sorry, '{title}' is not available.\")\n",
    "\n",
    "    def return_book(self, title):\n",
    "        for book in self.books:\n",
    "            if book.title.lower() == title.lower() and not book.available:\n",
    "                book.available = True\n",
    "                print(f\"You have returned '{book.title}'.\")\n",
    "                return\n",
    "        print(f\"No borrowed book found with title '{title}'.\")\n"
   ]
  },
  {
   "cell_type": "code",
   "execution_count": 8,
   "id": "46d4a2f3",
   "metadata": {},
   "outputs": [
    {
     "name": "stdout",
     "output_type": "stream",
     "text": [
      "Book 'The Alchemist' added to the library.\n",
      "Book '1984' added to the library.\n",
      "The Alchemist by Paulo Coelho - Available\n",
      "1984 by George Orwell - Available\n",
      "You have borrowed '1984'.\n",
      "Sorry, '1984' is not available.\n",
      "You have returned '1984'.\n",
      "The Alchemist by Paulo Coelho - Available\n",
      "1984 by George Orwell - Available\n"
     ]
    }
   ],
   "source": [
    "# Sample usage\n",
    "library = Library()\n",
    "\n",
    "# Adding books\n",
    "library.add_book(Book(\"The Alchemist\", \"Paulo Coelho\"))\n",
    "library.add_book(Book(\"1984\", \"George Orwell\"))\n",
    "\n",
    "# Show all books\n",
    "library.show_books()\n",
    "\n",
    "# Borrow a book\n",
    "library.borrow_book(\"1984\")\n",
    "\n",
    "# Try to borrow again\n",
    "library.borrow_book(\"1984\")\n",
    "\n",
    "# Return a book\n",
    "library.return_book(\"1984\")\n",
    "\n",
    "# Show books again\n",
    "library.show_books()\n"
   ]
  },
  {
   "cell_type": "code",
   "execution_count": 11,
   "id": "2eed500e",
   "metadata": {},
   "outputs": [
    {
     "name": "stdout",
     "output_type": "stream",
     "text": [
      "Asad\n"
     ]
    },
    {
     "ename": "AttributeError",
     "evalue": "'Student' object has no attribute 'name'",
     "output_type": "error",
     "traceback": [
      "\u001b[1;31m---------------------------------------------------------------------------\u001b[0m",
      "\u001b[1;31mAttributeError\u001b[0m                            Traceback (most recent call last)",
      "Cell \u001b[1;32mIn[11], line 10\u001b[0m\n\u001b[0;32m      8\u001b[0m \u001b[38;5;28mprint\u001b[39m(s1\u001b[38;5;241m.\u001b[39mname)        \n\u001b[0;32m      9\u001b[0m \u001b[38;5;28;01mdel\u001b[39;00m s1\u001b[38;5;241m.\u001b[39mname\n\u001b[1;32m---> 10\u001b[0m \u001b[38;5;28mprint\u001b[39m(\u001b[43ms1\u001b[49m\u001b[38;5;241;43m.\u001b[39;49m\u001b[43mname\u001b[49m)\n",
      "\u001b[1;31mAttributeError\u001b[0m: 'Student' object has no attribute 'name'"
     ]
    }
   ],
   "source": [
    "# del keyword  if u want deleat object or attribute\n",
    "\n",
    "class Student:\n",
    "    def __init__(self,name):\n",
    "        self.name=name\n",
    "\n",
    "s1=Student(\"Asad\")\n",
    "print(s1.name)        \n",
    "del s1.name\n",
    "print(s1.name)"
   ]
  },
  {
   "cell_type": "code",
   "execution_count": 18,
   "id": "36958171",
   "metadata": {},
   "outputs": [
    {
     "ename": "NameError",
     "evalue": "name '_Account__acc_pass' is not defined",
     "output_type": "error",
     "traceback": [
      "\u001b[1;31m---------------------------------------------------------------------------\u001b[0m",
      "\u001b[1;31mNameError\u001b[0m                                 Traceback (most recent call last)",
      "Cell \u001b[1;32mIn[18], line 9\u001b[0m\n\u001b[0;32m      6\u001b[0m     \u001b[38;5;28;01mdef\u001b[39;00m \u001b[38;5;21mreset_pass\u001b[39m(\u001b[38;5;28mself\u001b[39m):\n\u001b[0;32m      7\u001b[0m         \u001b[38;5;28mprint\u001b[39m(\u001b[38;5;28mself\u001b[39m\u001b[38;5;241m.\u001b[39macc_pass)\n\u001b[1;32m----> 9\u001b[0m acc1\u001b[38;5;241m=\u001b[39m\u001b[43mAccount\u001b[49m\u001b[43m(\u001b[49m\u001b[38;5;124;43m\"\u001b[39;49m\u001b[38;5;124;43m1\u001b[39;49m\u001b[38;5;124;43m\"\u001b[39;49m\u001b[43m,\u001b[49m\u001b[38;5;124;43m\"\u001b[39;49m\u001b[38;5;124;43mxyz\u001b[39;49m\u001b[38;5;124;43m\"\u001b[39;49m\u001b[43m)\u001b[49m\n\u001b[0;32m     10\u001b[0m \u001b[38;5;28mprint\u001b[39m(acc1\u001b[38;5;241m.\u001b[39macc_no, acc1\u001b[38;5;241m.\u001b[39macc_pass)                \n\u001b[0;32m     12\u001b[0m \u001b[38;5;66;03m# if u try outside \u001b[39;00m\n",
      "Cell \u001b[1;32mIn[18], line 4\u001b[0m, in \u001b[0;36mAccount.__init__\u001b[1;34m(self, acc_no, acc_pass)\u001b[0m\n\u001b[0;32m      2\u001b[0m \u001b[38;5;28;01mdef\u001b[39;00m \u001b[38;5;21m__init__\u001b[39m(\u001b[38;5;28mself\u001b[39m,acc_no,acc_pass):\n\u001b[0;32m      3\u001b[0m     \u001b[38;5;28mself\u001b[39m\u001b[38;5;241m.\u001b[39macc_no\u001b[38;5;241m=\u001b[39macc_no \n\u001b[1;32m----> 4\u001b[0m     \u001b[38;5;28mself\u001b[39m\u001b[38;5;241m.\u001b[39macc_pass\u001b[38;5;241m=\u001b[39m\u001b[43m__acc_pass\u001b[49m\n",
      "\u001b[1;31mNameError\u001b[0m: name '_Account__acc_pass' is not defined"
     ]
    }
   ],
   "source": [
    "class Account:\n",
    "    def __init__(self,acc_no,acc_pass):\n",
    "        self.acc_no=acc_no \n",
    "        self.acc_pass=__acc_pass\n",
    "        \n",
    "    def reset_pass(self):\n",
    "        print(self.acc_pass)\n",
    "        \n",
    "acc1=Account(\"1\",\"xyz\")\n",
    "print(acc1.acc_no, acc1.acc_pass)                \n",
    "\n",
    "# if u try outside \n",
    "acc1=Account(\"1\",\"xyz\")\n",
    "print(acc1.acc_no, acc1.acc_pass) \n",
    "print(acc1.reset_pass())"
   ]
  },
  {
   "cell_type": "code",
   "execution_count": 19,
   "id": "af28d48f",
   "metadata": {},
   "outputs": [
    {
     "name": "stdout",
     "output_type": "stream",
     "text": [
      "hello person \n",
      "None\n"
     ]
    }
   ],
   "source": [
    "class Person:\n",
    "    __name=\"anonymous\"\n",
    "    \n",
    "    def __hello(self):\n",
    "        print(\"hello person \")\n",
    "        \n",
    "    def welcome(self):\n",
    "        self.__hello()        \n",
    "        \n",
    "p=Person()\n",
    "\n",
    "print(p.welcome())        "
   ]
  },
  {
   "cell_type": "code",
   "execution_count": null,
   "id": "17ca0e88",
   "metadata": {},
   "outputs": [
    {
     "name": "stdout",
     "output_type": "stream",
     "text": [
      "fortuner\n",
      "car started\n",
      "None\n",
      "black\n"
     ]
    }
   ],
   "source": [
    "#single level inheritencec  base->child class\n",
    "class Car:\n",
    "    color  = \"black\"\n",
    "    @staticmethod\n",
    "    def start():\n",
    "        print(\"car started\")\n",
    "    @staticmethod\n",
    "    def stop():\n",
    "        print(\"car stopped\")\n",
    "        \n",
    "class  ToyotaCar(Car):\n",
    "        def __init__(self,name):\n",
    "             self.name=name\n",
    "car1=ToyotaCar(\"fortuner\")\n",
    "car2=ToyotaCar(\"mercedes\")              \n",
    "print(car1.name)       \n",
    "print(car2.start())\n",
    "print(car2.color)"
   ]
  },
  {
   "cell_type": "code",
   "execution_count": null,
   "id": "083ae10f",
   "metadata": {},
   "outputs": [
    {
     "name": "stdout",
     "output_type": "stream",
     "text": [
      "car started\n"
     ]
    }
   ],
   "source": [
    "#multi level inheritencec  base->chaild class->child2(child class).............\n",
    "class Car:\n",
    "    @staticmethod\n",
    "    def start():\n",
    "        print(\"car started\")\n",
    "    @staticmethod\n",
    "    def stop():\n",
    "        print(\"car stopped\")\n",
    "        \n",
    "class  ToyotaCar(Car):\n",
    "        def __init__(self,brand):\n",
    "             self.brand=brand\n",
    "class  Fortuner(ToyotaCar):\n",
    "    def __init__(self, type):\n",
    "         self.type =type\n",
    "         \n",
    "car1=Fortuner(\"diesal\")\n",
    "car1.start()         "
   ]
  },
  {
   "cell_type": "code",
   "execution_count": 26,
   "id": "c7d1e777",
   "metadata": {},
   "outputs": [
    {
     "name": "stdout",
     "output_type": "stream",
     "text": [
      "welcome to class C\n",
      "welcome to class B\n",
      "welcome to class A\n"
     ]
    }
   ],
   "source": [
    "# multiple inheritence  \n",
    "class A:\n",
    "    varA=\"welcome to class A\"\n",
    "\n",
    "class B:\n",
    "    varB=\"welcome to class B\" \n",
    "    \n",
    "class C(A,B):\n",
    "    varC=\"welcome to class C\"\n",
    "    \n",
    "c1=C()\n",
    "print(c1.varC)\n",
    "print(c1.varB)\n",
    "print(c1.varA)          "
   ]
  },
  {
   "cell_type": "code",
   "execution_count": 1,
   "id": "f0b92f0f",
   "metadata": {},
   "outputs": [
    {
     "name": "stdout",
     "output_type": "stream",
     "text": [
      "car started\n",
      "electric\n"
     ]
    }
   ],
   "source": [
    "#super()\n",
    "# revision time mey ker lena \n",
    "class Car:\n",
    "    def __init__(self, type):\n",
    "        self.type=type\n",
    "\n",
    "    @staticmethod\n",
    "    def start():\n",
    "        print(\"car started\")\n",
    "        \n",
    "    @staticmethod\n",
    "    def stop():\n",
    "        print(\"car stopped\")\n",
    "        \n",
    "class ToyotaCar(Car):\n",
    "    def __init__(self,name, type):\n",
    "        super().__init__(type)\n",
    "        self.name=name \n",
    "        super().start()\n",
    "\n",
    "car1=ToyotaCar(\"pirus\", \"electric\")\n",
    "print(car1.type)                "
   ]
  },
  {
   "cell_type": "code",
   "execution_count": null,
   "id": "7539d1c7",
   "metadata": {},
   "outputs": [
    {
     "name": "stdout",
     "output_type": "stream",
     "text": [
      "asad\n",
      "asad\n",
      "asad\n",
      "asad\n"
     ]
    }
   ],
   "source": [
    "# class Person:\n",
    "#     name=\"anonymous\"\n",
    "    \n",
    "#     def changename(self,name):\n",
    "#         self.name=name\n",
    "        \n",
    "        \n",
    "# p1=Person()\n",
    "# p1.changename(\"asad\")\n",
    "# print(p1.name)\n",
    "# print(Person.name)        \n",
    "\n",
    "# but we change in class name with the help of changename function object(self)\n",
    "class Person:\n",
    "    name=\"anonymous\"\n",
    "    \n",
    "    def changename(self,name):\n",
    "        Person.name=name\n",
    "        # self.__class__.name=\"Asad\"\n",
    "p1=Person()\n",
    "p1.changename(\"asad\")\n",
    "print(p1.name)\n",
    "print(Person.name)        \n",
    "        \n",
    "# we have lernt two method staticmethod which takes object as an argument normal method or instance method which not manipulte or do simple print  \n",
    "# # now we'll learn classmethod   which takes class attribute and return of its manipulation\n",
    "# \n",
    "class Person:\n",
    "    name=\"anonymous\"\n",
    "    @classmethod\n",
    "    def changename(cls,name): #cls reffrening to class attribute this not object \n",
    "        cls.name=name\n",
    " \n",
    "\n",
    "p1=Person()\n",
    "p1.changename(\"asad\")\n",
    "print(p1.name)\n",
    "print(Person.name)            "
   ]
  },
  {
   "cell_type": "code",
   "execution_count": 1,
   "id": "665d82dc",
   "metadata": {},
   "outputs": [
    {
     "name": "stdout",
     "output_type": "stream",
     "text": [
      "73.0%\n"
     ]
    }
   ],
   "source": [
    "class Student:\n",
    "       def __init__(self,phy,chem,math):\n",
    "            self.phy=phy \n",
    "            self.chem=chem \n",
    "            self.math=math \n",
    "        \n",
    "       @property\n",
    "       def percentage(self):\n",
    "           return str( (self.phy + self.chem + self.math ) / 3)   + \"%\" \n",
    "            \n",
    "s1=Student(98,66,55)       \n",
    "print(s1.percentage) "
   ]
  },
  {
   "cell_type": "code",
   "execution_count": 6,
   "id": "76a8672d",
   "metadata": {},
   "outputs": [
    {
     "name": "stdout",
     "output_type": "stream",
     "text": [
      "1 i + 3 j\n",
      "4 i + 6 j\n",
      "5 i + 9 j\n"
     ]
    }
   ],
   "source": [
    "# using thunder function we make additon of complex number \n",
    "\n",
    "class Complex:\n",
    "    def __init__(self,real,img):\n",
    "        self.real=real\n",
    "        self.img=img\n",
    "        \n",
    "    def showNumber(self):\n",
    "        print(self.real ,\"i +\",self.img, \"j\")    \n",
    "        \n",
    "    def __add__(self,num2):\n",
    "        realPart= self.real + num2.real\n",
    "        imgPart= self.img + num2.img \n",
    "        return Complex(realPart,imgPart)   \n",
    "        \n",
    "num1=Complex(1,3)      \n",
    "num1.showNumber()  \n",
    "\n",
    "num2=Complex(4,6)      \n",
    "num2.showNumber()  \n",
    "\n",
    "num3= num1+num2\n",
    "num3.showNumber()"
   ]
  },
  {
   "cell_type": "code",
   "execution_count": 10,
   "id": "a18b9244",
   "metadata": {},
   "outputs": [
    {
     "name": "stdout",
     "output_type": "stream",
     "text": [
      "7\n",
      "153.93791\n",
      "43.98226\n"
     ]
    }
   ],
   "source": [
    "class Circle():\n",
    "    def __init__(self ,radius):\n",
    "        self.radius=radius \n",
    "    def area(self):\n",
    "        return 3.14159 * self.radius ** 2\n",
    "    def parimeter(self):\n",
    "        return 3.14159 * 2 * self.radius    \n",
    "c1=Circle(7)\n",
    "print(c1.radius)     \n",
    "print(c1.area())     \n",
    "print(c1.parimeter())"
   ]
  },
  {
   "cell_type": "code",
   "execution_count": 5,
   "id": "d444ab84",
   "metadata": {},
   "outputs": [
    {
     "name": "stdout",
     "output_type": "stream",
     "text": [
      "role engg\n",
      "department cse\n",
      "salary:  100\n"
     ]
    }
   ],
   "source": [
    "class Employee:\n",
    "    def __init__(self,role,department,salary):\n",
    "        self.role=role\n",
    "        self.dep=department\n",
    "        self.salary=salary\n",
    "        \n",
    "    def show_details(self):\n",
    "        print(\"role\",self.role)    \n",
    "        print(\"department\",self.dep)    \n",
    "        print(\"salary: \",self.salary)\n",
    "        \n",
    "e1=Employee(\"engg\",\"cse\",\"100\")\n",
    "e1.show_details()\n"
   ]
  },
  {
   "cell_type": "code",
   "execution_count": 1,
   "id": "4a187c9a",
   "metadata": {},
   "outputs": [
    {
     "name": "stdout",
     "output_type": "stream",
     "text": [
      "role software Engineer\n",
      "department IT\n",
      "salary:  70000\n"
     ]
    }
   ],
   "source": [
    "class Employee:\n",
    "    def __init__(self,role,department,salary):\n",
    "        self.role=role\n",
    "        self.dep=department\n",
    "        self.salary=salary\n",
    "        \n",
    "    def show_details(self):\n",
    "        print(\"role\",self.role)    \n",
    "        print(\"department\",self.dep)    \n",
    "        print(\"salary: \",self.salary)\n",
    "class Engineer(Employee):\n",
    "    def __init__(self,name,age):\n",
    "        self.name=name \n",
    "        self.age=age \n",
    "        super().__init__(\"software Engineer\",\"IT\",\"70000\")        \n",
    "        \n",
    "e1=Engineer(\"Asad\",28)\n",
    "e1.show_details()\n"
   ]
  }
 ],
 "metadata": {
  "kernelspec": {
   "display_name": "Python 3",
   "language": "python",
   "name": "python3"
  },
  "language_info": {
   "codemirror_mode": {
    "name": "ipython",
    "version": 3
   },
   "file_extension": ".py",
   "mimetype": "text/x-python",
   "name": "python",
   "nbconvert_exporter": "python",
   "pygments_lexer": "ipython3",
   "version": "3.11.4"
  }
 },
 "nbformat": 4,
 "nbformat_minor": 5
}
