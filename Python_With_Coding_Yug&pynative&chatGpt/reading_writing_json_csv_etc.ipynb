{
 "cells": [
  {
   "cell_type": "markdown",
   "id": "84ab2190-4479-4c49-a230-eba7ec499c43",
   "metadata": {},
   "source": [
    "🧩 Reading and Writing CSV, JSON, Excel, and API Data in Python\n",
    "🔹 PART 1: Working with CSV Files\n",
    "✅ Reading a CSV\n",
    "Using the built-in csv module:"
   ]
  },
  {
   "cell_type": "code",
   "execution_count": 2,
   "id": "27fae7fd-d46d-4b28-9ab6-f46c3413aafd",
   "metadata": {},
   "outputs": [
    {
     "name": "stdout",
     "output_type": "stream",
     "text": [
      "['Name', 'Age', 'City', 'Salary']\n",
      "['David', '34', 'San Diego', '79076']\n",
      "['Charlie', '35', 'Phoenix', '76699']\n",
      "['Quinn', '38', 'New York', '93478']\n",
      "['Eve', '32', 'Phoenix', '92233']\n",
      "['Paul', '27', 'Houston', '96396']\n",
      "['Hannah', '58', 'New York', '59351']\n",
      "['Nate', '29', 'San Antonio', '60027']\n",
      "['Grace', '47', 'San Diego', '83846']\n",
      "['Nate', '59', 'Houston', '84534']\n",
      "['Quinn', '59', 'San Antonio', '83279']\n",
      "['Grace', '39', 'San Antonio', '79001']\n",
      "['Ian', '43', 'San Antonio', '65220']\n",
      "['Bob', '44', 'San Diego', '48379']\n",
      "['Hannah', '56', 'New York', '84126']\n",
      "['Paul', '35', 'Houston', '91438']\n",
      "['Liam', '32', 'Chicago', '118931']\n",
      "['Hannah', '36', 'Los Angeles', '80513']\n",
      "['Nate', '29', 'San Antonio', '89020']\n",
      "['Olivia', '49', 'San Antonio', '87224']\n",
      "['Steve', '38', 'New York', '94769']\n"
     ]
    }
   ],
   "source": [
    "import csv\n",
    "\n",
    "with open('data.csv',mode='r') as file:\n",
    "    reader = csv.reader(file)\n",
    "    for row in reader:\n",
    "        print(row)\n",
    "\n"
   ]
  },
  {
   "cell_type": "code",
   "execution_count": 26,
   "id": "bbbdf3ef-4f33-4604-88c9-ed3472dc13d8",
   "metadata": {},
   "outputs": [
    {
     "name": "stdout",
     "output_type": "stream",
     "text": [
      "['David', '34', 'San Diego', '79076']\n",
      "['Charlie', '35', 'Phoenix', '76699']\n",
      "['Quinn', '38', 'New York', '93478']\n",
      "['Eve', '32', 'Phoenix', '92233']\n",
      "['Paul', '27', 'Houston', '96396']\n",
      "['Hannah', '58', 'New York', '59351']\n",
      "['Nate', '29', 'San Antonio', '60027']\n",
      "['Grace', '47', 'San Diego', '83846']\n",
      "['Nate', '59', 'Houston', '84534']\n",
      "['Quinn', '59', 'San Antonio', '83279']\n",
      "['Grace', '39', 'San Antonio', '79001']\n",
      "['Ian', '43', 'San Antonio', '65220']\n",
      "['Bob', '44', 'San Diego', '48379']\n",
      "['Hannah', '56', 'New York', '84126']\n",
      "['Paul', '35', 'Houston', '91438']\n",
      "['Liam', '32', 'Chicago', '118931']\n",
      "['Hannah', '36', 'Los Angeles', '80513']\n",
      "['Nate', '29', 'San Antonio', '89020']\n",
      "['Olivia', '49', 'San Antonio', '87224']\n",
      "['Steve', '38', 'New York', '94769']\n"
     ]
    }
   ],
   "source": [
    "import csv\n",
    "\n",
    "with open('data.csv', 'r') as file:\n",
    "    reader = csv.reader(file)\n",
    "    # To skip the header row\n",
    "    next(reader)\n",
    "    for row in reader:\n",
    "        print(row)\n",
    "\n"
   ]
  },
  {
   "cell_type": "markdown",
   "id": "f6cd7b35-d367-480a-a21c-e064480ae97b",
   "metadata": {},
   "source": [
    "| Parameter    | Purpose                                                 |\n",
    "| ------------ | ------------------------------------------------------- |\n",
    "| `newline=''` | Prevents Python from adding extra newlines in CSV files |\n"
   ]
  },
  {
   "cell_type": "code",
   "execution_count": 14,
   "id": "8447a7d6-683a-4468-8454-a6293f46447e",
   "metadata": {},
   "outputs": [],
   "source": [
    "data = [\n",
    "    ['Name','Age','City','Salary'],\n",
    "    ['Alice',30,'New York',70000],\n",
    "    ['Bob',25,'Los Angeles',55000],\n",
    "    ['Charlie',35,'Chicago',80000],\n",
    "    ['David',28,'Houston',62000],\n",
    "    ['Eve',40,'Phoenix',92000]\n",
    "\n",
    "]\n",
    "\n",
    "with open('new_data.csv', 'w', newline='' ) as file:\n",
    "    writer = csv.writer(file)\n",
    "    writer.writerows(data)\n",
    "    "
   ]
  },
  {
   "cell_type": "code",
   "execution_count": 18,
   "id": "709ce422-3235-4559-8d09-00b66bf51a0b",
   "metadata": {},
   "outputs": [
    {
     "name": "stdout",
     "output_type": "stream",
     "text": [
      "['Name', 'Age', 'City', 'Salary']\n",
      "['Alice', '30', 'New York', '70000']\n",
      "['Bob', '25', 'Los Angeles', '55000']\n",
      "['Charlie', '35', 'Chicago', '80000']\n",
      "['David', '28', 'Houston', '62000']\n",
      "['Eve', '40', 'Phoenix', '92000']\n"
     ]
    }
   ],
   "source": [
    "with open('new_data.csv','r') as file:\n",
    "    reader = csv.reader(file)\n",
    "    for row in reader:\n",
    "        print(row)"
   ]
  },
  {
   "cell_type": "markdown",
   "id": "6924afbc-e48d-43c4-b6ae-b6e575db1698",
   "metadata": {},
   "source": [
    "🚀 Using pandas (Much Easier & Powerful)"
   ]
  },
  {
   "cell_type": "code",
   "execution_count": 23,
   "id": "e9fb42a6-dc7d-4a00-9509-5e47fcb133f3",
   "metadata": {},
   "outputs": [
    {
     "name": "stdout",
     "output_type": "stream",
     "text": [
      "      Name  Age       City  Salary\n",
      "0    David   34  San Diego   79076\n",
      "1  Charlie   35    Phoenix   76699\n",
      "2    Quinn   38   New York   93478\n",
      "3      Eve   32    Phoenix   92233\n",
      "4     Paul   27    Houston   96396\n"
     ]
    }
   ],
   "source": [
    "# ****instead of csv use pandas\n",
    "import pandas as pd \n",
    "\n",
    "df = pd.read_csv('file_write_using_pandas.csv')\n",
    "print(df.head())"
   ]
  },
  {
   "cell_type": "code",
   "execution_count": 27,
   "id": "5cdde2bb-6f55-464e-a11a-6f01e872b61e",
   "metadata": {},
   "outputs": [],
   "source": [
    "# write data in pandas\n",
    "\n",
    "df.to_csv('file_write_using_pandas.csv', index=False)"
   ]
  },
  {
   "cell_type": "markdown",
   "id": "f78f99dc-4988-4029-a9c6-43f5fbcee00d",
   "metadata": {},
   "source": [
    "🔸 PART 2: Working with JSON Files\n",
    "✅ Reading JSON"
   ]
  },
  {
   "cell_type": "code",
   "execution_count": 4,
   "id": "f41791d7-603c-4c3d-9719-e5580d8512d9",
   "metadata": {},
   "outputs": [
    {
     "name": "stdout",
     "output_type": "stream",
     "text": [
      "[{'Name': 'Hannah', 'Age': 35, 'City': 'Houston', 'Salary': 95685}, {'Name': 'Grace', 'Age': 52, 'City': 'Chicago', 'Salary': 52039}, {'Name': 'Jack', 'Age': 43, 'City': 'San Jose', 'Salary': 112685}, {'Name': 'David', 'Age': 28, 'City': 'Houston', 'Salary': 51378}, {'Name': 'Paul', 'Age': 30, 'City': 'New York', 'Salary': 62854}, {'Name': 'David', 'Age': 55, 'City': 'San Jose', 'Salary': 101996}, {'Name': 'Tina', 'Age': 23, 'City': 'San Diego', 'Salary': 97585}, {'Name': 'Frank', 'Age': 59, 'City': 'Chicago', 'Salary': 49785}, {'Name': 'Bob', 'Age': 33, 'City': 'Houston', 'Salary': 97573}, {'Name': 'Liam', 'Age': 23, 'City': 'Chicago', 'Salary': 43680}, {'Name': 'Rachel', 'Age': 28, 'City': 'Los Angeles', 'Salary': 108084}, {'Name': 'Bob', 'Age': 22, 'City': 'New York', 'Salary': 51571}, {'Name': 'Alice', 'Age': 29, 'City': 'Houston', 'Salary': 119203}, {'Name': 'Grace', 'Age': 24, 'City': 'Philadelphia', 'Salary': 82625}, {'Name': 'Olivia', 'Age': 60, 'City': 'Houston', 'Salary': 95135}, {'Name': 'Liam', 'Age': 43, 'City': 'Chicago', 'Salary': 56255}, {'Name': 'Olivia', 'Age': 57, 'City': 'San Antonio', 'Salary': 66034}, {'Name': 'Charlie', 'Age': 34, 'City': 'San Jose', 'Salary': 97803}, {'Name': 'Charlie', 'Age': 50, 'City': 'Dallas', 'Salary': 49788}, {'Name': 'Ian', 'Age': 28, 'City': 'New York', 'Salary': 49168}]\n"
     ]
    }
   ],
   "source": [
    "import json\n",
    "\n",
    "with open('data.json','r') as file:\n",
    "    data = json.load(file)\n",
    "    print(data)\n",
    "    "
   ]
  },
  {
   "cell_type": "code",
   "execution_count": 5,
   "id": "99435e19-973a-4b47-a891-2cc8de8befdd",
   "metadata": {},
   "outputs": [],
   "source": [
    "data = [\n",
    "  {\n",
    "    \"Name\": \"Alice\",\n",
    "    \"Age\": \"30\",\n",
    "    \"City\": \"New York\",\n",
    "    \"Salary\": \"70000\"\n",
    "  },\n",
    "  {\n",
    "    \"Name\": \"Bob\",\n",
    "    \"Age\": \"25\",\n",
    "    \"City\": \"Los Angeles\",\n",
    "    \"Salary\": \"55000\"\n",
    "  },\n",
    "  {\n",
    "    \"Name\": \"Charlie\",\n",
    "    \"Age\": \"35\",\n",
    "    \"City\": \"Chicago\",\n",
    "    \"Salary\": \"80000\"\n",
    "  },\n",
    "  {\n",
    "    \"Name\": \"David\",\n",
    "    \"Age\": \"28\",\n",
    "    \"City\": \"Houston\",\n",
    "    \"Salary\": \"62000\"\n",
    "  },\n",
    "  {\n",
    "    \"Name\": \"Eve\",\n",
    "    \"Age\": \"40\",\n",
    "    \"City\": \"Phoenix\",\n",
    "    \"Salary\": \"92000\"\n",
    "  }\n",
    "]\n",
    "\n",
    "with open('new_data.json', 'w') as file:\n",
    "    json.dump(data, file, indent=4)\n"
   ]
  },
  {
   "cell_type": "markdown",
   "id": "6628a22e-c8c8-4354-a2a1-f537e63e268b",
   "metadata": {},
   "source": [
    "🚀 With pandas (for tabular JSON):"
   ]
  },
  {
   "cell_type": "markdown",
   "id": "4fc24f59-ad82-4790-bfb6-4c72e408c9a8",
   "metadata": {},
   "source": [
    "✅ orient='records'\n",
    "This controls how the data is structured in JSON.\n",
    "\n",
    "'records' means:\n",
    "\n",
    "Each row in the DataFrame becomes a separate JSON object (i.e., a dictionary).\n",
    "\n",
    "The file will be a list of dictionaries (a list of records)."
   ]
  },
  {
   "cell_type": "code",
   "execution_count": 15,
   "id": "3b13edbb-7ac5-448a-9eb5-9b14ed203197",
   "metadata": {},
   "outputs": [
    {
     "name": "stdout",
     "output_type": "stream",
     "text": [
      "     Name  Age      City  Salary\n",
      "0  Hannah   35   Houston   95685\n",
      "1   Grace   52   Chicago   52039\n",
      "2    Jack   43  San Jose  112685\n",
      "3   David   28   Houston   51378\n",
      "4    Paul   30  New York   62854\n"
     ]
    }
   ],
   "source": [
    "df = pd.read_json('data.json')\n",
    "df.to_json('output.json', orient='records', indent=2)\n",
    "print(df.head())\n"
   ]
  },
  {
   "cell_type": "code",
   "execution_count": 32,
   "id": "25b304c4-46c5-401f-b9f9-cac22b8856a7",
   "metadata": {},
   "outputs": [
    {
     "name": "stdout",
     "output_type": "stream",
     "text": [
      "     Name  Age      City  Salary\n",
      "0  Hannah   35   Houston   95685\n",
      "1   Grace   52   Chicago   52039\n",
      "2    Jack   43  San Jose  112685\n",
      "3   David   28   Houston   51378\n",
      "4    Paul   30  New York   62854\n"
     ]
    }
   ],
   "source": [
    "# ************************************\n",
    "import pandas as pd\n",
    "\n",
    "# Read tabular JSON into DataFrame\n",
    "df = pd.read_json(\"data.json\")\n",
    "\n",
    "# View the data\n",
    "print(df.head() )\n"
   ]
  },
  {
   "cell_type": "code",
   "execution_count": 13,
   "id": "e61b2bd7-b258-4f92-b877-2996132cd61e",
   "metadata": {},
   "outputs": [
    {
     "name": "stdout",
     "output_type": "stream",
     "text": [
      "[{'Name': 'Hannah', 'Age': 35, 'City': 'Houston', 'Salary': 95685}, {'Name': 'Grace', 'Age': 52, 'City': 'Chicago', 'Salary': 52039}, {'Name': 'Jack', 'Age': 43, 'City': 'San Jose', 'Salary': 112685}, {'Name': 'David', 'Age': 28, 'City': 'Houston', 'Salary': 51378}, {'Name': 'Paul', 'Age': 30, 'City': 'New York', 'Salary': 62854}, {'Name': 'David', 'Age': 55, 'City': 'San Jose', 'Salary': 101996}, {'Name': 'Tina', 'Age': 23, 'City': 'San Diego', 'Salary': 97585}, {'Name': 'Frank', 'Age': 59, 'City': 'Chicago', 'Salary': 49785}, {'Name': 'Bob', 'Age': 33, 'City': 'Houston', 'Salary': 97573}, {'Name': 'Liam', 'Age': 23, 'City': 'Chicago', 'Salary': 43680}, {'Name': 'Rachel', 'Age': 28, 'City': 'Los Angeles', 'Salary': 108084}, {'Name': 'Bob', 'Age': 22, 'City': 'New York', 'Salary': 51571}, {'Name': 'Alice', 'Age': 29, 'City': 'Houston', 'Salary': 119203}, {'Name': 'Grace', 'Age': 24, 'City': 'Philadelphia', 'Salary': 82625}, {'Name': 'Olivia', 'Age': 60, 'City': 'Houston', 'Salary': 95135}, {'Name': 'Liam', 'Age': 43, 'City': 'Chicago', 'Salary': 56255}, {'Name': 'Olivia', 'Age': 57, 'City': 'San Antonio', 'Salary': 66034}, {'Name': 'Charlie', 'Age': 34, 'City': 'San Jose', 'Salary': 97803}, {'Name': 'Charlie', 'Age': 50, 'City': 'Dallas', 'Salary': 49788}, {'Name': 'Ian', 'Age': 28, 'City': 'New York', 'Salary': 49168}]\n"
     ]
    }
   ],
   "source": [
    "import json\n",
    "\n",
    "with open('output.json','r') as file:\n",
    "    data = json.load(file)\n",
    "    print(data)\n",
    "    "
   ]
  },
  {
   "cell_type": "markdown",
   "id": "9d6ea599-0077-40c5-afd0-974a75f715cc",
   "metadata": {},
   "source": [
    "🔹 PART 3: Working with Excel Files\n",
    "Use openpyxl or pandas:\n",
    "\n",
    "✅ Install dependencies"
   ]
  },
  {
   "cell_type": "code",
   "execution_count": 16,
   "id": "a910eb19-e277-4020-9579-adc9ae761826",
   "metadata": {},
   "outputs": [
    {
     "name": "stdout",
     "output_type": "stream",
     "text": [
      "Collecting openpyxl\n",
      "  Using cached openpyxl-3.1.5-py2.py3-none-any.whl.metadata (2.5 kB)\n",
      "Collecting et-xmlfile (from openpyxl)\n",
      "  Downloading et_xmlfile-2.0.0-py3-none-any.whl.metadata (2.7 kB)\n",
      "Using cached openpyxl-3.1.5-py2.py3-none-any.whl (250 kB)\n",
      "Downloading et_xmlfile-2.0.0-py3-none-any.whl (18 kB)\n",
      "Installing collected packages: et-xmlfile, openpyxl\n",
      "\n",
      "   -------------------- ------------------- 1/2 [openpyxl]\n",
      "   -------------------- ------------------- 1/2 [openpyxl]\n",
      "   -------------------- ------------------- 1/2 [openpyxl]\n",
      "   -------------------- ------------------- 1/2 [openpyxl]\n",
      "   -------------------- ------------------- 1/2 [openpyxl]\n",
      "   -------------------- ------------------- 1/2 [openpyxl]\n",
      "   -------------------- ------------------- 1/2 [openpyxl]\n",
      "   -------------------- ------------------- 1/2 [openpyxl]\n",
      "   -------------------- ------------------- 1/2 [openpyxl]\n",
      "   -------------------- ------------------- 1/2 [openpyxl]\n",
      "   -------------------- ------------------- 1/2 [openpyxl]\n",
      "   -------------------- ------------------- 1/2 [openpyxl]\n",
      "   -------------------- ------------------- 1/2 [openpyxl]\n",
      "   -------------------- ------------------- 1/2 [openpyxl]\n",
      "   -------------------- ------------------- 1/2 [openpyxl]\n",
      "   -------------------- ------------------- 1/2 [openpyxl]\n",
      "   -------------------- ------------------- 1/2 [openpyxl]\n",
      "   -------------------- ------------------- 1/2 [openpyxl]\n",
      "   -------------------- ------------------- 1/2 [openpyxl]\n",
      "   -------------------- ------------------- 1/2 [openpyxl]\n",
      "   -------------------- ------------------- 1/2 [openpyxl]\n",
      "   -------------------- ------------------- 1/2 [openpyxl]\n",
      "   -------------------- ------------------- 1/2 [openpyxl]\n",
      "   -------------------- ------------------- 1/2 [openpyxl]\n",
      "   -------------------- ------------------- 1/2 [openpyxl]\n",
      "   -------------------- ------------------- 1/2 [openpyxl]\n",
      "   -------------------- ------------------- 1/2 [openpyxl]\n",
      "   -------------------- ------------------- 1/2 [openpyxl]\n",
      "   -------------------- ------------------- 1/2 [openpyxl]\n",
      "   -------------------- ------------------- 1/2 [openpyxl]\n",
      "   -------------------- ------------------- 1/2 [openpyxl]\n",
      "   -------------------- ------------------- 1/2 [openpyxl]\n",
      "   -------------------- ------------------- 1/2 [openpyxl]\n",
      "   -------------------- ------------------- 1/2 [openpyxl]\n",
      "   -------------------- ------------------- 1/2 [openpyxl]\n",
      "   ---------------------------------------- 2/2 [openpyxl]\n",
      "\n",
      "Successfully installed et-xmlfile-2.0.0 openpyxl-3.1.5\n",
      "Note: you may need to restart the kernel to use updated packages.\n"
     ]
    }
   ],
   "source": [
    "pip install openpyxl\n"
   ]
  },
  {
   "cell_type": "markdown",
   "id": "0f8889b2-9c65-491e-a5d4-4eaaea8ba990",
   "metadata": {},
   "source": [
    "🚀 What Can openpyxl Do?\n",
    "📖 Read Excel .xlsx files\n",
    "\n",
    "✍️ Write new Excel files\n",
    "\n",
    "🖌️ Edit existing Excel files (change values, format cells, etc.)\n",
    "\n",
    "🧮 Handle formulas, charts, styles, and more\n",
    "\n",
    "🧱 Create multi-sheet workbooks\n",
    "\n"
   ]
  },
  {
   "cell_type": "code",
   "execution_count": 18,
   "id": "6407041f-e107-466e-8220-85a16851d70a",
   "metadata": {},
   "outputs": [
    {
     "name": "stdout",
     "output_type": "stream",
     "text": [
      "      Name  Age         City  Salary\n",
      "0   Hannah   42  San Antonio  115882\n",
      "1     Mona   43     San Jose   59291\n",
      "2  Charlie   32      Phoenix  115292\n",
      "3    David   57      Phoenix   86154\n",
      "4  Charlie   40      Chicago   55862\n"
     ]
    }
   ],
   "source": [
    "# ✅ Reading Excel\n",
    "\n",
    "df = pd.read_excel('data.xlsx', engine='openpyxl')\n",
    "print(df.head())\n"
   ]
  },
  {
   "cell_type": "markdown",
   "id": "8b5afc10-15ad-4ba6-b42e-a3414d6e3554",
   "metadata": {},
   "source": [
    "✅ Writing Excel"
   ]
  },
  {
   "cell_type": "code",
   "execution_count": 20,
   "id": "cad639ab-9d91-4554-ba55-4fda17ee1617",
   "metadata": {},
   "outputs": [],
   "source": [
    "df.to_excel('output.xlsx', index=False, engine='openpyxl')\n"
   ]
  },
  {
   "cell_type": "code",
   "execution_count": 21,
   "id": "483aaae4-ed24-4066-97bc-d4bf48383a73",
   "metadata": {},
   "outputs": [
    {
     "name": "stdout",
     "output_type": "stream",
     "text": [
      "      Name  Age         City  Salary\n",
      "0   Hannah   42  San Antonio  115882\n",
      "1     Mona   43     San Jose   59291\n",
      "2  Charlie   32      Phoenix  115292\n",
      "3    David   57      Phoenix   86154\n",
      "4  Charlie   40      Chicago   55862\n"
     ]
    }
   ],
   "source": [
    "df = pd.read_excel('output.xlsx', engine='openpyxl')\n",
    "print(df.head())"
   ]
  },
  {
   "cell_type": "markdown",
   "id": "0e4db4c7-1a34-45bd-a730-a564c4f4c603",
   "metadata": {},
   "source": [
    "🔸 PART 4: Fetching Data from APIs\n",
    "Use the requests module:\n",
    "\n",
    "✅ Example: Fetching JSON Data from an API \n",
    "\n",
    "\n",
    "📌 APIs return data in JSON format → parse with .json()"
   ]
  },
  {
   "cell_type": "code",
   "execution_count": 25,
   "id": "c3d7ae02-7399-4fb1-b81d-8eaeef6a3ad3",
   "metadata": {},
   "outputs": [
    {
     "name": "stdout",
     "output_type": "stream",
     "text": [
      "\"If you have a harem of 40 women, you never get to know any of them very well.\" — Warren Buffett\n"
     ]
    }
   ],
   "source": [
    "# ✅ This bypasses SSL verification — only use this for learning, not in production or sensitive environments.\n",
    "import requests\n",
    "import urllib3\n",
    "\n",
    "urllib3.disable_warnings(urllib3.exceptions.InsecureRequestWarning)\n",
    "\n",
    "response = requests.get(\"https://api.quotable.io/random\", verify=False)\n",
    "\n",
    "if response.status_code == 200:\n",
    "    data = response.json()\n",
    "    print(f'\"{data[\"content\"]}\" — {data[\"author\"]}')\n",
    "else:\n",
    "    print(\"Error:\", response.status_code)\n",
    "\n"
   ]
  },
  {
   "cell_type": "code",
   "execution_count": null,
   "id": "a07d2af8-6046-4772-9cd0-926a353f6e04",
   "metadata": {},
   "outputs": [],
   "source": []
  }
 ],
 "metadata": {
  "kernelspec": {
   "display_name": "Python 3 (ipykernel)",
   "language": "python",
   "name": "python3"
  },
  "language_info": {
   "codemirror_mode": {
    "name": "ipython",
    "version": 3
   },
   "file_extension": ".py",
   "mimetype": "text/x-python",
   "name": "python",
   "nbconvert_exporter": "python",
   "pygments_lexer": "ipython3",
   "version": "3.11.4"
  }
 },
 "nbformat": 4,
 "nbformat_minor": 5
}
