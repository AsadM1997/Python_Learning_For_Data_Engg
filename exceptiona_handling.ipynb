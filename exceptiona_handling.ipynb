{
 "cells": [
  {
   "cell_type": "markdown",
   "id": "38b524c8",
   "metadata": {},
   "source": [
    "🚨 Exception Handling in Python – Full Detailed Guide\n",
    "When your code crashes unexpectedly, that’s an exception.\n",
    "\n",
    "Python provides tools to detect, catch, and respond to errors gracefully so your program doesn’t crash."
   ]
  },
  {
   "cell_type": "markdown",
   "id": "d6db3a51",
   "metadata": {},
   "source": [
    "✅ 1. What is an Exception?\n",
    "An exception is a runtime error that interrupts the normal flow of your program.\n",
    "\n",
    "Examples:"
   ]
  },
  {
   "cell_type": "code",
   "execution_count": null,
   "id": "0d8d889b",
   "metadata": {},
   "outputs": [
    {
     "ename": "ValueError",
     "evalue": "invalid literal for int() with base 10: 'abc'",
     "output_type": "error",
     "traceback": [
      "\u001b[1;31m---------------------------------------------------------------------------\u001b[0m",
      "\u001b[1;31mValueError\u001b[0m                                Traceback (most recent call last)",
      "Cell \u001b[1;32mIn[2], line 2\u001b[0m\n\u001b[0;32m      1\u001b[0m \u001b[38;5;66;03m# print(10 / 0)       # ZeroDivisionError\u001b[39;00m\n\u001b[1;32m----> 2\u001b[0m \u001b[38;5;28;43mint\u001b[39;49m\u001b[43m(\u001b[49m\u001b[38;5;124;43m\"\u001b[39;49m\u001b[38;5;124;43mabc\u001b[39;49m\u001b[38;5;124;43m\"\u001b[39;49m\u001b[43m)\u001b[49m          \u001b[38;5;66;03m# ValueError\u001b[39;00m\n\u001b[0;32m      3\u001b[0m x \u001b[38;5;241m=\u001b[39m [\u001b[38;5;241m1\u001b[39m, \u001b[38;5;241m2\u001b[39m]\n\u001b[0;32m      4\u001b[0m \u001b[38;5;28mprint\u001b[39m(x[\u001b[38;5;241m5\u001b[39m])         \u001b[38;5;66;03m# IndexError\u001b[39;00m\n",
      "\u001b[1;31mValueError\u001b[0m: invalid literal for int() with base 10: 'abc'"
     ]
    }
   ],
   "source": [
    "print(10 / 0)       # ZeroDivisionError\n",
    "int(\"abc\")          # ValueError\n",
    "x = [1, 2]\n",
    "print(x[5])         # IndexError\n"
   ]
  },
  {
   "cell_type": "markdown",
   "id": "5a2f27b2",
   "metadata": {},
   "source": [
    "🚧 2. Basic Exception Handling Syntax"
   ]
  },
  {
   "cell_type": "code",
   "execution_count": null,
   "id": "84eac144",
   "metadata": {},
   "outputs": [],
   "source": [
    "try:\n",
    "    x = 10 / 0\n",
    "except ZeroDivisionError:\n",
    "    print(\"You can't divide by zero!\")\n"
   ]
  },
  {
   "cell_type": "markdown",
   "id": "96820878",
   "metadata": {},
   "source": [
    "🔄 3. Catching Multiple Exceptions"
   ]
  },
  {
   "cell_type": "code",
   "execution_count": null,
   "id": "80d0a927",
   "metadata": {},
   "outputs": [],
   "source": [
    "try:\n",
    "    num = int(input(\"Enter a number: \"))\n",
    "    result = 10 / num\n",
    "except ValueError:\n",
    "    print(\"Please enter a valid number.\")\n",
    "except ZeroDivisionError:\n",
    "    print(\"You cannot divide by zero.\")\n"
   ]
  },
  {
   "cell_type": "markdown",
   "id": "f699c97d",
   "metadata": {},
   "source": [
    "🪙 4. Catching All Exceptions\n",
    "✅ Exception is the base class of all built-in exceptions."
   ]
  },
  {
   "cell_type": "code",
   "execution_count": 1,
   "id": "1b1678c0",
   "metadata": {},
   "outputs": [
    {
     "name": "stdout",
     "output_type": "stream",
     "text": [
      "Something went wrong: division by zero\n"
     ]
    }
   ],
   "source": [
    "try:\n",
    "    x = 10 / 0\n",
    "except Exception as e:\n",
    "    print(\"Something went wrong:\", e)\n"
   ]
  },
  {
   "cell_type": "markdown",
   "id": "8949b437",
   "metadata": {},
   "source": [
    "🛠️ 5. else and finally Blocks\n",
    "🔹 else: runs if no error occurred\n",
    "🔹 finally: always runs (even if error occurred or not)"
   ]
  },
  {
   "cell_type": "code",
   "execution_count": null,
   "id": "d0ae3814",
   "metadata": {},
   "outputs": [],
   "source": [
    "try:\n",
    "    x = int(input(\"Enter number: \"))\n",
    "except ValueError:\n",
    "    print(\"Invalid input\")\n",
    "else:\n",
    "    print(\"You entered:\", x)\n",
    "finally:\n",
    "    print(\"Program finished\")\n"
   ]
  },
  {
   "cell_type": "markdown",
   "id": "8f6e8dda",
   "metadata": {},
   "source": [
    "🔁 6. Complete Exception Flow"
   ]
  },
  {
   "cell_type": "code",
   "execution_count": null,
   "id": "8ef2f1b5",
   "metadata": {},
   "outputs": [],
   "source": [
    "try:\n",
    "    # risky code\n",
    "except TypeError:\n",
    "    # specific error handling\n",
    "except Exception:\n",
    "    # general fallback\n",
    "else:\n",
    "    # run if no exception\n",
    "finally:\n",
    "    # always run\n"
   ]
  },
  {
   "cell_type": "markdown",
   "id": "48404090",
   "metadata": {},
   "source": [
    "🔧 7. Raising Your Own Exception\n",
    "You can manually raise an exception using raise:"
   ]
  },
  {
   "cell_type": "code",
   "execution_count": 1,
   "id": "76796436",
   "metadata": {},
   "outputs": [
    {
     "ename": "ValueError",
     "evalue": "Age cannot be negative",
     "output_type": "error",
     "traceback": [
      "\u001b[1;31m---------------------------------------------------------------------------\u001b[0m",
      "\u001b[1;31mValueError\u001b[0m                                Traceback (most recent call last)",
      "Cell \u001b[1;32mIn[1], line 3\u001b[0m\n\u001b[0;32m      1\u001b[0m age \u001b[38;5;241m=\u001b[39m \u001b[38;5;241m-\u001b[39m\u001b[38;5;241m5\u001b[39m\n\u001b[0;32m      2\u001b[0m \u001b[38;5;28;01mif\u001b[39;00m age \u001b[38;5;241m<\u001b[39m \u001b[38;5;241m0\u001b[39m:\n\u001b[1;32m----> 3\u001b[0m     \u001b[38;5;28;01mraise\u001b[39;00m \u001b[38;5;167;01mValueError\u001b[39;00m(\u001b[38;5;124m\"\u001b[39m\u001b[38;5;124mAge cannot be negative\u001b[39m\u001b[38;5;124m\"\u001b[39m)\n",
      "\u001b[1;31mValueError\u001b[0m: Age cannot be negative"
     ]
    }
   ],
   "source": [
    "age = -5\n",
    "if age < 0:\n",
    "    raise ValueError(\"Age cannot be negative\")\n"
   ]
  },
  {
   "cell_type": "markdown",
   "id": "49e12e10",
   "metadata": {},
   "source": [
    "🔨 8. Custom Exception Classes\n",
    "You can define your own exception types:"
   ]
  },
  {
   "cell_type": "code",
   "execution_count": 2,
   "id": "75cdb5b4",
   "metadata": {},
   "outputs": [
    {
     "ename": "MyError",
     "evalue": "Something custom went wrong",
     "output_type": "error",
     "traceback": [
      "\u001b[1;31m---------------------------------------------------------------------------\u001b[0m",
      "\u001b[1;31mMyError\u001b[0m                                   Traceback (most recent call last)",
      "Cell \u001b[1;32mIn[2], line 4\u001b[0m\n\u001b[0;32m      1\u001b[0m \u001b[38;5;28;01mclass\u001b[39;00m \u001b[38;5;21;01mMyError\u001b[39;00m(\u001b[38;5;167;01mException\u001b[39;00m):\n\u001b[0;32m      2\u001b[0m     \u001b[38;5;28;01mpass\u001b[39;00m\n\u001b[1;32m----> 4\u001b[0m \u001b[38;5;28;01mraise\u001b[39;00m MyError(\u001b[38;5;124m\"\u001b[39m\u001b[38;5;124mSomething custom went wrong\u001b[39m\u001b[38;5;124m\"\u001b[39m)\n",
      "\u001b[1;31mMyError\u001b[0m: Something custom went wrong"
     ]
    }
   ],
   "source": [
    "class MyError(Exception):\n",
    "    pass\n",
    "\n",
    "raise MyError(\"Something custom went wrong\")\n"
   ]
  },
  {
   "cell_type": "markdown",
   "id": "aba1e9fc",
   "metadata": {},
   "source": [
    ".\n",
    "\n",
    "📋 9. Common Built-in Exceptions\n"
   ]
  },
  {
   "cell_type": "markdown",
   "id": "fe003ee5",
   "metadata": {},
   "source": [
    "| Exception           | Trigger                            |\n",
    "| ------------------- | ---------------------------------- |\n",
    "| `ZeroDivisionError` | Divide by 0                        |\n",
    "| `ValueError`        | Invalid value (e.g., `int(\"abc\")`) |\n",
    "| `IndexError`        | Invalid list index                 |\n",
    "| `KeyError`          | Accessing missing dict key         |\n",
    "| `TypeError`         | Wrong data type (e.g., `\"a\" + 5`)  |\n",
    "| `FileNotFoundError` | File doesn’t exist                 |\n",
    "| `AttributeError`    | Invalid attribute access           |\n",
    "| `NameError`         | Using undefined variable           |\n"
   ]
  },
  {
   "cell_type": "markdown",
   "id": "95057816",
   "metadata": {},
   "source": [
    "🧠 Real-World Use Case"
   ]
  },
  {
   "cell_type": "code",
   "execution_count": 4,
   "id": "e2823408",
   "metadata": {},
   "outputs": [
    {
     "name": "stdout",
     "output_type": "stream",
     "text": [
      "Function executed.\n",
      "Cannot divide by zero\n",
      "Function executed.\n",
      "Please use numbers only\n"
     ]
    }
   ],
   "source": [
    "def divide(a, b):\n",
    "    try:\n",
    "        return a / b\n",
    "    except ZeroDivisionError:\n",
    "        return \"Cannot divide by zero\"\n",
    "    except TypeError:\n",
    "        return \"Please use numbers only\"\n",
    "    finally:\n",
    "        print(\"Function executed.\")\n",
    "\n",
    "print(divide(10, 0))     # Cannot divide by zero\n",
    "print(divide(10, \"a\"))   # Please use numbers only\n"
   ]
  },
  {
   "cell_type": "markdown",
   "id": "e089f9d1",
   "metadata": {},
   "source": [
    "🧼 Best Practices\n",
    "✅ Be specific with except clauses\n",
    "✅ Use finally to close files/connections\n",
    "✅ Avoid bare except: unless absolutely necessary\n",
    "✅ Use custom exceptions for meaningful errors\n",
    "\n",
    "🧠 Summary Mindmap"
   ]
  },
  {
   "cell_type": "markdown",
   "id": "8bb99c6b",
   "metadata": {},
   "source": [
    "Exception Handling\n",
    "│\n",
    "├── try → risky code\n",
    "├── except → handle errors\n",
    "├── else → if no error\n",
    "├── finally → always runs\n",
    "├── raise → manually throw error\n",
    "├── Custom Exceptions\n",
    "└── Built-in Exception Types\n"
   ]
  },
  {
   "cell_type": "markdown",
   "id": "d6cb2f85",
   "metadata": {},
   "source": [
    "🔹 1. Divide Two Numbers Safely\n",
    "🚧 Handle ZeroDivisionError and ValueError"
   ]
  },
  {
   "cell_type": "code",
   "execution_count": null,
   "id": "0a197a4f",
   "metadata": {},
   "outputs": [],
   "source": [
    "try:\n",
    "    a = int(input(\"Enter numerator: \"))\n",
    "    b = int(input(\"Enter denominator: \"))\n",
    "    result = a / b\n",
    "    print(\"Result:\", result)\n",
    "except ZeroDivisionError:\n",
    "    print(\"Error: Cannot divide by zero.\")\n",
    "except ValueError:\n",
    "    print(\"Error: Please enter numbers only.\")\n"
   ]
  },
  {
   "cell_type": "markdown",
   "id": "fec15081",
   "metadata": {},
   "source": [
    "🔹 2. File Reading with Error Handling\n",
    "🚧 Handle FileNotFoundError"
   ]
  },
  {
   "cell_type": "code",
   "execution_count": 1,
   "id": "db57ddfc",
   "metadata": {},
   "outputs": [
    {
     "name": "stdout",
     "output_type": "stream",
     "text": [
      "Error: 'data.txt' not found.\n"
     ]
    }
   ],
   "source": [
    "try:\n",
    "    with open(\"data.txt\", \"r\") as f:\n",
    "        content = f.read()\n",
    "        print(content)\n",
    "except FileNotFoundError:\n",
    "    print(\"Error: 'data.txt' not found.\")\n"
   ]
  },
  {
   "cell_type": "markdown",
   "id": "f5ca2a82",
   "metadata": {},
   "source": [
    "🔹 3. Catch IndexError in a List"
   ]
  },
  {
   "cell_type": "code",
   "execution_count": null,
   "id": "b05dd59b",
   "metadata": {},
   "outputs": [],
   "source": [
    "try:\n",
    "    lst = [10, 20, 30]\n",
    "    index = int(input(\"Enter index: \"))\n",
    "    print(lst[index])\n",
    "except IndexError:\n",
    "    print(\"Error: Index out of range.\")\n",
    "except ValueError:\n",
    "    print(\"Error: Please enter a valid number.\")\n"
   ]
  },
  {
   "cell_type": "markdown",
   "id": "58b13af3",
   "metadata": {},
   "source": [
    "🔹 4. Convert Input to Integer with Exception"
   ]
  },
  {
   "cell_type": "code",
   "execution_count": null,
   "id": "0a0a1487",
   "metadata": {},
   "outputs": [],
   "source": [
    "try:\n",
    "    num = int(input(\"Enter an integer: \"))\n",
    "    print(\"You entered:\", num)\n",
    "except ValueError:\n",
    "    print(\"Error: That was not an integer.\")\n"
   ]
  },
  {
   "cell_type": "markdown",
   "id": "2f81ebc0",
   "metadata": {},
   "source": [
    "🔹 5. Dictionary Key Error"
   ]
  },
  {
   "cell_type": "code",
   "execution_count": null,
   "id": "e39baa7c",
   "metadata": {},
   "outputs": [],
   "source": [
    "try:\n",
    "    data = {\"name\": \"Asad\", \"age\": 25}\n",
    "    key = input(\"Enter key to fetch: \")\n",
    "    print(data[key])\n",
    "except KeyError:\n",
    "    print(\"Error: Key not found.\")\n"
   ]
  },
  {
   "cell_type": "markdown",
   "id": "790975aa",
   "metadata": {},
   "source": [
    "🔹 6. Multiple Exceptions Together"
   ]
  },
  {
   "cell_type": "code",
   "execution_count": null,
   "id": "01b77c0c",
   "metadata": {},
   "outputs": [],
   "source": [
    "try:\n",
    "    num1 = int(input(\"Enter first number: \"))\n",
    "    num2 = int(input(\"Enter second number: \"))\n",
    "    print(\"Result:\", num1 / num2)\n",
    "except (ZeroDivisionError, ValueError) as e:\n",
    "    print(f\"Error occurred: {e}\")\n"
   ]
  },
  {
   "cell_type": "markdown",
   "id": "ad93d551",
   "metadata": {},
   "source": [
    "🔹 7. Custom Exception (Advanced)"
   ]
  },
  {
   "cell_type": "code",
   "execution_count": null,
   "id": "0901202a",
   "metadata": {},
   "outputs": [],
   "source": [
    "class UnderAgeError(Exception):\n",
    "    pass\n",
    "\n",
    "try:\n",
    "    age = int(input(\"Enter your age: \"))\n",
    "    if age < 18:\n",
    "        raise UnderAgeError(\"You must be 18+ to register.\")\n",
    "    print(\"Registration successful.\")\n",
    "except UnderAgeError as e:\n",
    "    print(\"Custom Error:\", e)\n",
    "except ValueError:\n",
    "    print(\"Invalid age entered.\")\n"
   ]
  },
  {
   "cell_type": "markdown",
   "id": "39c230a7",
   "metadata": {},
   "source": [
    "🧪💡 Mini Projects Using Exception Handling \n",
    "🔐 1. Login System with Retry Limit\n",
    "🎯 Goal: User enters username and password. If wrong, give 3 attempts.\n"
   ]
  },
  {
   "cell_type": "code",
   "execution_count": null,
   "id": "b0d5da19",
   "metadata": {},
   "outputs": [],
   "source": [
    "correct_username = \"admin\"\n",
    "correct_password = \"1234\"\n",
    "attempts = 0\n",
    "\n",
    "while attempts < 3:\n",
    "    try:\n",
    "        username = input(\"Username: \")\n",
    "        password = input(\"Password: \")\n",
    "        if username != correct_username or password != correct_password:\n",
    "            raise ValueError(\"Invalid username or password.\")\n",
    "        print(\"✅ Login successful!\")\n",
    "        break\n",
    "    except ValueError as e:\n",
    "        attempts += 1\n",
    "        print(e)\n",
    "        print(f\"Attempts left: {3 - attempts}\")\n",
    "else:\n",
    "    print(\"❌ Account locked. Too many failed attempts.\")\n"
   ]
  },
  {
   "cell_type": "markdown",
   "id": "694330c1",
   "metadata": {},
   "source": [
    "📗 2. Word Counter from File (With FileNotFound Handling)\n",
    "🎯 Goal: Read a file and count the number of words."
   ]
  },
  {
   "cell_type": "code",
   "execution_count": null,
   "id": "45727df4",
   "metadata": {},
   "outputs": [],
   "source": [
    "def count_words_in_file(filename):\n",
    "    try:\n",
    "        with open(filename, 'r') as file:\n",
    "            content = file.read()\n",
    "            words = content.split()\n",
    "            print(\"Total words:\", len(words))\n",
    "    except FileNotFoundError:\n",
    "        print(f\"❌ File '{filename}' not found.\")\n",
    "    finally:\n",
    "        print(\"📘 Program finished.\")\n",
    "\n",
    "filename = input(\"Enter file name: \")\n",
    "count_words_in_file(filename)\n"
   ]
  },
  {
   "cell_type": "markdown",
   "id": "1f4f97a2",
   "metadata": {},
   "source": [
    "🧮 3. Calculator with Exception Handling\n",
    "🎯 Goal: Do basic math operations with error handling."
   ]
  },
  {
   "cell_type": "code",
   "execution_count": null,
   "id": "6ad96ff4",
   "metadata": {},
   "outputs": [],
   "source": [
    "try:\n",
    "    a = float(input(\"Enter first number: \"))\n",
    "    b = float(input(\"Enter second number: \"))\n",
    "    op = input(\"Enter operator (+, -, *, /): \")\n",
    "\n",
    "    if op == \"+\":\n",
    "        print(\"Result:\", a + b)\n",
    "    elif op == \"-\":\n",
    "        print(\"Result:\", a - b)\n",
    "    elif op == \"*\":\n",
    "        print(\"Result:\", a * b)\n",
    "    elif op == \"/\":\n",
    "        print(\"Result:\", a / b)\n",
    "    else:\n",
    "        raise ValueError(\"Unsupported operator.\")\n",
    "except ZeroDivisionError:\n",
    "    print(\"❌ Cannot divide by zero.\")\n",
    "except ValueError as e:\n",
    "    print(\"❌ Error:\", e)\n"
   ]
  },
  {
   "cell_type": "markdown",
   "id": "41b7f01f",
   "metadata": {},
   "source": [
    "🗂️ 4. File Organizer (Detect Missing Files)\n",
    "🎯 Goal: Move files into folders by file extension. Handle missing files.\n",
    "\n",
    "For now, here’s a simple version that checks file existence:"
   ]
  },
  {
   "cell_type": "code",
   "execution_count": 6,
   "id": "7207447e",
   "metadata": {},
   "outputs": [
    {
     "name": "stdout",
     "output_type": "stream",
     "text": [
      "✅ File exists and is ready for organizing.\n"
     ]
    }
   ],
   "source": [
    "import os\n",
    "\n",
    "filename = \"J:\\Asad-Learning\\Python-Learning\\source_file.txt \"\n",
    "\n",
    "try:\n",
    "    if not os.path.exists(filename):\n",
    "        raise FileNotFoundError(f\"'{filename}' does not exist.\")\n",
    "    print(\"✅ File exists and is ready for organizing.\")\n",
    "except FileNotFoundError as e:\n",
    "    print(\"❌\", e)\n"
   ]
  }
 ],
 "metadata": {
  "kernelspec": {
   "display_name": "Python 3",
   "language": "python",
   "name": "python3"
  },
  "language_info": {
   "codemirror_mode": {
    "name": "ipython",
    "version": 3
   },
   "file_extension": ".py",
   "mimetype": "text/x-python",
   "name": "python",
   "nbconvert_exporter": "python",
   "pygments_lexer": "ipython3",
   "version": "3.11.4"
  }
 },
 "nbformat": 4,
 "nbformat_minor": 5
}
