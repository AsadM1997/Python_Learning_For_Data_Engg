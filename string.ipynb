{
 "cells": [
  {
   "cell_type": "code",
   "execution_count": 1,
   "id": "5715e69b",
   "metadata": {},
   "outputs": [],
   "source": [
    "str1=\"this  is a string\"\n",
    "str1=\"this  is a string \\n we are on newline \\t haha\""
   ]
  },
  {
   "cell_type": "code",
   "execution_count": null,
   "id": "50423c09",
   "metadata": {},
   "outputs": [
    {
     "name": "stdout",
     "output_type": "stream",
     "text": [
      "Muhammad Asad\n",
      "8 4\n"
     ]
    }
   ],
   "source": [
    "str1=\"Muhammad\"\n",
    "str2=\"Asad\"\n",
    "\n",
    "print(str1+\" \"+str2)\n",
    "\n",
    "print(len(str1),len(str2))\n",
    "\n"
   ]
  },
  {
   "cell_type": "code",
   "execution_count": null,
   "id": "81c3f37f",
   "metadata": {},
   "outputs": [
    {
     "ename": "TypeError",
     "evalue": "'str' object does not support item assignment",
     "output_type": "error",
     "traceback": [
      "\u001b[1;31m---------------------------------------------------------------------------\u001b[0m",
      "\u001b[1;31mTypeError\u001b[0m                                 Traceback (most recent call last)",
      "Cell \u001b[1;32mIn[8], line 2\u001b[0m\n\u001b[0;32m      1\u001b[0m str1\u001b[38;5;241m=\u001b[39m\u001b[38;5;124m\"\u001b[39m\u001b[38;5;124mMuhammad\u001b[39m\u001b[38;5;124m\"\u001b[39m\n\u001b[1;32m----> 2\u001b[0m \u001b[43mstr1\u001b[49m\u001b[43m[\u001b[49m\u001b[38;5;241;43m4\u001b[39;49m\u001b[43m]\u001b[49m\u001b[38;5;241m=\u001b[39m\u001b[38;5;124m\"\u001b[39m\u001b[38;5;124m_\u001b[39m\u001b[38;5;124m\"\u001b[39m\n\u001b[0;32m      3\u001b[0m \u001b[38;5;28mprint\u001b[39m(str1)\n",
      "\u001b[1;31mTypeError\u001b[0m: 'str' object does not support item assignment"
     ]
    }
   ],
   "source": [
    "str1=\"Muhammad\"\n",
    "str1[4]=\"_d\"\n",
    "print(str1)"
   ]
  },
  {
   "cell_type": "code",
   "execution_count": 17,
   "id": "57ec820b",
   "metadata": {},
   "outputs": [
    {
     "name": "stdout",
     "output_type": "stream",
     "text": [
      "Muhammad \n",
      "Muhammad \n",
      "Asad\n",
      "Asad\n",
      "Asa\n"
     ]
    }
   ],
   "source": [
    "# slicing divided into part \n",
    "# M u h a m m a  d\n",
    "# 0  1 2 3  4  5  6  8\n",
    "str1=\"Muhammad Asad\"\n",
    "\n",
    "print(str1[0:9])\n",
    "print(str1[:9])\n",
    "print(str1[9:len(str1)])\n",
    "print(str1[9:])\n",
    "\n",
    "print(str1[-4:-1])"
   ]
  },
  {
   "cell_type": "code",
   "execution_count": null,
   "id": "5d1a5b66",
   "metadata": {},
   "outputs": [
    {
     "name": "stdout",
     "output_type": "stream",
     "text": [
      "False\n",
      "True\n",
      "Muhammad asad\n"
     ]
    }
   ],
   "source": [
    "str1=\"Muhammad Asad\"\n",
    "print(str1.endswith(\"asad\"))\n",
    "print(str1.endswith(\"Asad\"))\n",
    "\n"
   ]
  },
  {
   "cell_type": "code",
   "execution_count": 23,
   "id": "f8a24aa2",
   "metadata": {},
   "outputs": [
    {
     "name": "stdout",
     "output_type": "stream",
     "text": [
      "Muhammad asad\n",
      "muhammad Asad\n",
      "Muhammad asad\n"
     ]
    }
   ],
   "source": [
    "str1=\"muhammad Asad\"\n",
    "# if u want The first letter will be capital when you get it.\n",
    "# it will creates new string old string will same\n",
    "# u no string is immutable if u want then should use new variable\n",
    "\n",
    "print(str1.capitalize())\n",
    "print(str1)\n",
    "changestring=str1.capitalize()\n",
    "print(changestring)"
   ]
  },
  {
   "cell_type": "code",
   "execution_count": 25,
   "id": "955e02ba",
   "metadata": {},
   "outputs": [
    {
     "name": "stdout",
     "output_type": "stream",
     "text": [
      "mehmet Asad\n",
      "muhammad Asad\n"
     ]
    }
   ],
   "source": [
    "str1=\"muhammad Asad\"\n",
    "print(str1.replace(\"muhammad\",'mehmet'))\n",
    "print(str1)"
   ]
  },
  {
   "cell_type": "code",
   "execution_count": 7,
   "id": "4775dafb",
   "metadata": {},
   "outputs": [
    {
     "name": "stdout",
     "output_type": "stream",
     "text": [
      "31\n"
     ]
    }
   ],
   "source": [
    "str1=\"Python Muhammad are u studiyng python \"\n",
    "print(str1.find(\"python\"))"
   ]
  },
  {
   "cell_type": "code",
   "execution_count": 9,
   "id": "f70a0c54",
   "metadata": {},
   "outputs": [
    {
     "name": "stdout",
     "output_type": "stream",
     "text": [
      "3\n",
      "11\n"
     ]
    }
   ],
   "source": [
    "str1=\"count method is used to count occurence of word or chrecter word word Word \"\n",
    "print(str1.count(\"word\"))\n",
    "print(str1.count(\"o\"))"
   ]
  },
  {
   "cell_type": "code",
   "execution_count": null,
   "id": "a7e41daf",
   "metadata": {},
   "outputs": [
    {
     "name": "stdout",
     "output_type": "stream",
     "text": [
      "Asad 4\n",
      "3\n",
      "3\n"
     ]
    }
   ],
   "source": [
    "# prectice question\n",
    "# name=input(\"enter name: \")\n",
    "name=\"Asad\"\n",
    "print(name,len(name))\n",
    "\n",
    "name=\"my name is khan name name\"\n",
    "print(name.count(\"name\"))"
   ]
  },
  {
   "cell_type": "markdown",
   "id": "4c56a470",
   "metadata": {},
   "source": [
    "from \n",
    "coding you string"
   ]
  },
  {
   "cell_type": "code",
   "execution_count": 6,
   "id": "4d29d8a1",
   "metadata": {},
   "outputs": [
    {
     "name": "stdout",
     "output_type": "stream",
     "text": [
      "k\n",
      "<class 'str'>\n"
     ]
    }
   ],
   "source": [
    "name=\"k\" #python does not treat as charecter it treats as str\n",
    "print(name)\n",
    "print(type(name))"
   ]
  },
  {
   "cell_type": "code",
   "execution_count": null,
   "id": "d89269b7",
   "metadata": {},
   "outputs": [
    {
     "name": "stdout",
     "output_type": "stream",
     "text": [
      "65\n",
      "97\n",
      "A\n",
      "a\n"
     ]
    }
   ],
   "source": [
    "\n",
    "print(ord('A')) #we can change this charecter using 65 number  \"A\"-->unicode-->65-->binary\n",
    "print(ord('a'))\n",
    "\n",
    "# range of interger should be in between 1,114,111 \n",
    "# unicode superset of ASCII\n",
    "print(chr(65))\n",
    "print(chr(97))"
   ]
  },
  {
   "cell_type": "code",
   "execution_count": 11,
   "id": "dc153937",
   "metadata": {},
   "outputs": [
    {
     "name": "stdout",
     "output_type": "stream",
     "text": [
      "k\n",
      "n\n"
     ]
    }
   ],
   "source": [
    "# Acccessing substring (charechter ) in string:-\n",
    "\n",
    "# 1 indexing \n",
    "# 2 slicing\n",
    "\n",
    "name=\"khan\"\n",
    "print(name[0])\n",
    "print(name[-1])"
   ]
  },
  {
   "cell_type": "code",
   "execution_count": 9,
   "id": "6a338a16",
   "metadata": {},
   "outputs": [
    {
     "name": "stdout",
     "output_type": "stream",
     "text": [
      "python is awesome\n",
      "additon:  5\n",
      "Muhammad\n",
      "**************************************************\n",
      "mehmet\n",
      "MohdAsad\n"
     ]
    },
    {
     "ename": "NameError",
     "evalue": "name 'num1' is not defined",
     "output_type": "error",
     "traceback": [
      "\u001b[1;31m---------------------------------------------------------------------------\u001b[0m",
      "\u001b[1;31mNameError\u001b[0m                                 Traceback (most recent call last)",
      "Cell \u001b[1;32mIn[9], line 15\u001b[0m\n\u001b[0;32m     13\u001b[0m \u001b[38;5;28mprint\u001b[39m(s)\n\u001b[0;32m     14\u001b[0m \u001b[38;5;28;01mdel\u001b[39;00m num1 \n\u001b[1;32m---> 15\u001b[0m \u001b[38;5;28mprint\u001b[39m(\u001b[43mnum1\u001b[49m)\n",
      "\u001b[1;31mNameError\u001b[0m: name 'num1' is not defined"
     ]
    }
   ],
   "source": [
    "str1=\"python is\"\n",
    "str2=\"awesome\"\n",
    "\n",
    "print(str1+\" \"+str2)\n",
    "num1=2\n",
    "num2=3\n",
    "print(\"additon: \",str(num1+num2))\n",
    "\n",
    "print(\"Muhammad\")\n",
    "print(50*\"*\")\n",
    "print(\"mehmet\")\n",
    "s='Mohd''Asad' \n",
    "print(s)\n",
    "del num1 \n",
    "print(num1)"
   ]
  },
  {
   "cell_type": "code",
   "execution_count": 11,
   "id": "f75eed6f",
   "metadata": {},
   "outputs": [
    {
     "name": "stdout",
     "output_type": "stream",
     "text": [
      "M u h a m m a d "
     ]
    }
   ],
   "source": [
    "# iterating over a string \n",
    "\n",
    "str1=\"Muhammad\"\n",
    "for ch in str1:\n",
    "    print(ch,end=\" \")"
   ]
  },
  {
   "cell_type": "code",
   "execution_count": 14,
   "id": "e8d027cf",
   "metadata": {},
   "outputs": [
    {
     "name": "stdout",
     "output_type": "stream",
     "text": [
      "length of  string:  8\n",
      "length of string:  Muhammad is 8\n"
     ]
    }
   ],
   "source": [
    "# length by manual programming\n",
    "\n",
    "str1=\"Muhammad\"\n",
    "count=0\n",
    "for ch in str1:\n",
    "    count+=1\n",
    "print('length of  string: ',count)    \n",
    "\n",
    "print(\"length of string: \",str1,\"is\",len(str1))"
   ]
  },
  {
   "cell_type": "code",
   "execution_count": null,
   "id": "7b399ed8",
   "metadata": {},
   "outputs": [
    {
     "name": "stdout",
     "output_type": "stream",
     "text": [
      "present\n"
     ]
    }
   ],
   "source": [
    "# string membership\n",
    "\n",
    "name=\"coding\"\n",
    "if 'ing' in name:\n",
    "    print(\"present\")\n",
    "else:\n",
    "    print(\"not present\")    \n",
    "    \n",
    "    "
   ]
  },
  {
   "cell_type": "code",
   "execution_count": 17,
   "id": "7df21201",
   "metadata": {},
   "outputs": [
    {
     "name": "stdout",
     "output_type": "stream",
     "text": [
      "1\n"
     ]
    }
   ],
   "source": [
    "str1=\"Hi my name is AbuUmamah AbuUmamah Abuumamah\"\n",
    "counter=str1.count(\"Abuumamah\")\n",
    "print(counter)"
   ]
  },
  {
   "cell_type": "code",
   "execution_count": null,
   "id": "d9bd2111",
   "metadata": {},
   "outputs": [
    {
     "name": "stdout",
     "output_type": "stream",
     "text": [
      "number of vowels:  3\n"
     ]
    }
   ],
   "source": [
    "str1=\"Muhammad\"\n",
    "vowels=['a','e','i','o','u']\n",
    "counter=0\n",
    "for ch in str1:\n",
    "    if ch in vowels:\n",
    "        counter+=1\n",
    "print(\"number of vowels: \",counter)        \n"
   ]
  },
  {
   "cell_type": "code",
   "execution_count": 19,
   "id": "41d4a16a",
   "metadata": {},
   "outputs": [
    {
     "name": "stdout",
     "output_type": "stream",
     "text": [
      "[(0, 'M'), (1, 'u'), (2, 'h'), (3, 'a'), (4, 'm'), (5, 'm'), (6, 'a'), (7, 'd')]\n",
      "8\n"
     ]
    }
   ],
   "source": [
    "# enumerate() method returns index in the form of tuple \n",
    "str1=\"Muhammad\"\n",
    "index_of_list=list(enumerate(str1)) \n",
    "print(index_of_list)\n",
    "print(len(index_of_list))"
   ]
  },
  {
   "cell_type": "code",
   "execution_count": 22,
   "id": "76cfc77f",
   "metadata": {},
   "outputs": [
    {
     "name": "stdout",
     "output_type": "stream",
     "text": [
      "2\n",
      "32\n",
      "34\n"
     ]
    }
   ],
   "source": [
    "name=\"hello khan my friend khan zma lala\"\n",
    "print(name.find(\"l\"))\n",
    "\n",
    "# rfind return last occurance of string \n",
    "print(name.rfind('l'))\n",
    "print(len(name))\n"
   ]
  },
  {
   "cell_type": "code",
   "execution_count": 23,
   "id": "72efc487",
   "metadata": {},
   "outputs": [
    {
     "name": "stdout",
     "output_type": "stream",
     "text": [
      "India\n"
     ]
    }
   ],
   "source": [
    "mobile_no=\"+91 xxxxxxxx\"\n",
    "\n",
    "if mobile_no.startswith(\"+91\"):\n",
    "    print(\"India\")\n",
    "elif mobile_no.startswith(\"+92\"):\n",
    "    print(\"Pakistan\")\n",
    "if mobile_no.startswith(\"+93\"):\n",
    "    print(\"Afghanistan\")        "
   ]
  },
  {
   "cell_type": "code",
   "execution_count": 24,
   "id": "21d4658f",
   "metadata": {},
   "outputs": [
    {
     "name": "stdout",
     "output_type": "stream",
     "text": [
      "commercial website\n"
     ]
    }
   ],
   "source": [
    "url=\".com\"\n",
    "\n",
    "if url.endswith(\".edu\"):\n",
    "    print(\"educational website\")\n",
    "elif url.endswith(\".com\"):\n",
    "    print(\"commercial website\")\n",
    "elif url.endswith(\".org\"):\n",
    "    print(\"organizational website\")        "
   ]
  },
  {
   "cell_type": "code",
   "execution_count": 27,
   "id": "64a743ea",
   "metadata": {},
   "outputs": [
    {
     "name": "stdout",
     "output_type": "stream",
     "text": [
      "Python is object oriented programming language and Python is easy \n"
     ]
    }
   ],
   "source": [
    "msg=\"C is object oriented programming language and C is easy \"\n",
    "\n",
    "mesg1=msg.replace('C','Python')\n",
    "print(mesg1)"
   ]
  },
  {
   "cell_type": "code",
   "execution_count": 29,
   "id": "055dd2f9",
   "metadata": {},
   "outputs": [
    {
     "name": "stdout",
     "output_type": "stream",
     "text": [
      "False\n",
      "True\n",
      "True\n",
      "77 109\n"
     ]
    }
   ],
   "source": [
    "# comparision operator in string comparision operator checks value ord()\n",
    "name=\"Muhammad\"\n",
    "name1=\"muhammad\"\n",
    "\n",
    "print(name==name1)\n",
    "print(name!=name1)\n",
    "print(name<name1)\n",
    "print(ord('M'),ord('m'))"
   ]
  },
  {
   "cell_type": "code",
   "execution_count": 38,
   "id": "1d2083d4",
   "metadata": {},
   "outputs": [
    {
     "name": "stdout",
     "output_type": "stream",
     "text": [
      " xyx.com\n",
      " abc.org\n",
      " utube.com\n",
      "http://www xyx\n",
      "http://www ab\n",
      "https:www utube\n"
     ]
    }
   ],
   "source": [
    "# left right strip \n",
    "urls=['http://www xyx.com',\n",
    "      'http://www abc.org','https:www utube.com']\n",
    "\n",
    "for url in urls:\n",
    "     url=url.lstrip(\"htps:/w\")\n",
    "     print(url)\n",
    "     \n",
    "urls=['http://www xyx.com',\n",
    "      'http://www abc.org','https:www utube.com']\n",
    "\n",
    "for url in urls:\n",
    "     url=url.rstrip(\".com.org\")\n",
    "     print(url)     "
   ]
  },
  {
   "cell_type": "code",
   "execution_count": 36,
   "id": "ec94b456",
   "metadata": {},
   "outputs": [
    {
     "name": "stdout",
     "output_type": "stream",
     "text": [
      " xyx\n",
      " abc.org\n",
      " utube\n"
     ]
    }
   ],
   "source": [
    "urls=['http://www xyx.com',\n",
    "      'http://www abc.org','https:www utube.com']\n",
    "\n",
    "for url in urls:\n",
    "     url=url.strip(\"htps:/w.com\")\n",
    "     print(url)"
   ]
  },
  {
   "cell_type": "code",
   "execution_count": 45,
   "id": "f54e6f23",
   "metadata": {},
   "outputs": [
    {
     "name": "stdout",
     "output_type": "stream",
     "text": [
      "my name is muhammad and age is 28\n",
      "Hello Asad\n"
     ]
    }
   ],
   "source": [
    "# f\"\"\"\n",
    "name=\"muhammad\"\n",
    "number=28\n",
    "print(f\"my name is {name} and age is {number}\")\n",
    "\n",
    "def printer(name):\n",
    "    return \"Hello\"+\" \"+name\n",
    "\n",
    "print(f\"{printer('Asad')}\")"
   ]
  },
  {
   "cell_type": "code",
   "execution_count": 50,
   "id": "91611cbc",
   "metadata": {},
   "outputs": [
    {
     "name": "stdout",
     "output_type": "stream",
     "text": [
      "dammahum\n",
      "dammahum\n"
     ]
    }
   ],
   "source": [
    "name=\"muhammad\"\n",
    "r_string=\"\"\n",
    "for ch in name:\n",
    "    r_string=ch+r_string\n",
    "print(r_string)    \n",
    "print(name[::-1])"
   ]
  },
  {
   "cell_type": "code",
   "execution_count": 57,
   "id": "b1f3269c",
   "metadata": {},
   "outputs": [
    {
     "name": "stdout",
     "output_type": "stream",
     "text": [
      "-----be a good programmer you have to do hard work-----\n"
     ]
    }
   ],
   "source": [
    "string=\"be a good programmer you have to do hard work\"\n",
    "str1=string.center(len(string)+10,\"*\")\n",
    "str1=string.center(len(string)+10,\"!\")\n",
    "str1=string.center(len(string)+10,\"-\")\n",
    "print(str1)"
   ]
  },
  {
   "cell_type": "code",
   "execution_count": null,
   "id": "33d0076f",
   "metadata": {},
   "outputs": [
    {
     "name": "stdout",
     "output_type": "stream",
     "text": [
      "20\n",
      "   Be  a good data Engg  \n",
      "!!!!!Be  a good data Engg!!!!!\n"
     ]
    }
   ],
   "source": [
    "# center() \n",
    "\n",
    "string=\"Be  a good data Engg\"\n",
    "print(len(string))\n",
    "print(string.center(25))\n",
    "new_string=string.center(25,'*')\n",
    "new_string=string.center(len(string)+10,'!')\n",
    "print(new_string)"
   ]
  },
  {
   "cell_type": "code",
   "execution_count": 7,
   "id": "c03ae804",
   "metadata": {},
   "outputs": [
    {
     "name": "stdout",
     "output_type": "stream",
     "text": [
      "000Be  a good data Engg\n",
      "-000153\n"
     ]
    }
   ],
   "source": [
    "#  zfill()\n",
    "string=\"Be  a good data Engg\"\n",
    "zfill_string=string.zfill(len(string)+3)\n",
    "print(zfill_string)\n",
    "num='-153'\n",
    "print(num.zfill(7))"
   ]
  },
  {
   "cell_type": "code",
   "execution_count": 12,
   "id": "0b78e208",
   "metadata": {},
   "outputs": [
    {
     "name": "stdout",
     "output_type": "stream",
     "text": [
      "20\n",
      "['Be', 'a', 'good', 'data', 'Engg']\n",
      "Be\n",
      "a\n",
      "good\n",
      "data\n",
      "Engg\n",
      "5\n"
     ]
    }
   ],
   "source": [
    "# string.splite(seprator,maxsplite)\n",
    "\n",
    "string=\"Be  a good data Engg\"\n",
    "print(len(string))\n",
    "# but what about word \n",
    "list_of_word=string.split() #['Be', 'a', 'good', 'data', 'Engg']\n",
    "print(list_of_word)\n",
    "for i in list_of_word:\n",
    "    print(i)\n",
    "print(len(list_of_word))    "
   ]
  },
  {
   "cell_type": "code",
   "execution_count": 14,
   "id": "9be9890c",
   "metadata": {},
   "outputs": [
    {
     "name": "stdout",
     "output_type": "stream",
     "text": [
      "Be-->a-->good-->data-->Engg\n"
     ]
    }
   ],
   "source": [
    "# sting -->list-->string\n",
    "\n",
    "list1=['Be', 'a', 'good', 'data', 'Engg']\n",
    "join_lst_into_string='-->'.join(list1)\n",
    "print(join_lst_into_string)"
   ]
  },
  {
   "cell_type": "code",
   "execution_count": 17,
   "id": "b32a9a8b",
   "metadata": {},
   "outputs": [
    {
     "name": "stdout",
     "output_type": "stream",
     "text": [
      "I Love Data Engineering\n",
      "I Love $Data Engineering\n"
     ]
    }
   ],
   "source": [
    "string=\"i love data engineering\"\n",
    "print(string.title())\n",
    "string=\"i love $data engineering\"\n",
    "\n",
    "title_string=string.title()\n",
    "print(title_string)"
   ]
  },
  {
   "cell_type": "code",
   "execution_count": 21,
   "id": "e52e10a7",
   "metadata": {},
   "outputs": [
    {
     "name": "stdout",
     "output_type": "stream",
     "text": [
      "True\n",
      "True\n",
      "False\n",
      "False\n"
     ]
    }
   ],
   "source": [
    "string=\"Welcome\"\n",
    "check=string.isalnum()\n",
    "print(check)\n",
    "\n",
    "string=\"Welcome234567\"\n",
    "check=string.isalnum()\n",
    "print(check)\n",
    "\n",
    "string=\"Welcome  12\"\n",
    "check=string.isalnum()\n",
    "print(check)\n",
    "\n",
    "string=\"Welcome$12\"\n",
    "check=string.isalnum()\n",
    "print(check)"
   ]
  },
  {
   "cell_type": "code",
   "execution_count": 23,
   "id": "a8948c04",
   "metadata": {},
   "outputs": [
    {
     "name": "stdout",
     "output_type": "stream",
     "text": [
      "False\n",
      "True\n"
     ]
    }
   ],
   "source": [
    "string=\"Welcome  12\"\n",
    "check=string.isalpha()\n",
    "print(check)\n",
    "\n",
    "string=\"Welcome\"\n",
    "check=string.isalpha()\n",
    "print(check)"
   ]
  },
  {
   "cell_type": "code",
   "execution_count": 27,
   "id": "8890e7a6",
   "metadata": {},
   "outputs": [
    {
     "name": "stdout",
     "output_type": "stream",
     "text": [
      "False\n",
      "False\n",
      "True\n"
     ]
    }
   ],
   "source": [
    "string=\"Welcome  12\"\n",
    "check=string.isdigit()\n",
    "print(check)\n",
    "\n",
    "string=\"+91\"\n",
    "check=string.isdigit()\n",
    "print(check)\n",
    "\n",
    "string=\"123456789\"\n",
    "check=string.isdigit()\n",
    "print(check)"
   ]
  },
  {
   "cell_type": "code",
   "execution_count": 30,
   "id": "93927a8e",
   "metadata": {},
   "outputs": [
    {
     "name": "stdout",
     "output_type": "stream",
     "text": [
      "False\n",
      "True\n"
     ]
    }
   ],
   "source": [
    "string=\"Welcome\"\n",
    "check=string.isupper()\n",
    "print(check)\n",
    "\n",
    "string=\"WELCOME\"\n",
    "check=string.isupper()\n",
    "print(check)"
   ]
  },
  {
   "cell_type": "code",
   "execution_count": null,
   "id": "faf7d0b1",
   "metadata": {},
   "outputs": [
    {
     "name": "stdout",
     "output_type": "stream",
     "text": [
      "False\n",
      "True\n"
     ]
    }
   ],
   "source": [
    "string=\"Welcome\"\n",
    "check=string.islower()\n",
    "print(check)\n",
    "\n",
    "string=\"welcome\"\n",
    "check=string.islower()\n",
    "print(check)\n",
    "\n"
   ]
  },
  {
   "cell_type": "code",
   "execution_count": 34,
   "id": "e553d973",
   "metadata": {},
   "outputs": [
    {
     "name": "stdout",
     "output_type": "stream",
     "text": [
      "True\n"
     ]
    }
   ],
   "source": [
    "string=\"I Love Data Engineering\"\n",
    "check=string.istitle()\n",
    "print(check)"
   ]
  },
  {
   "cell_type": "code",
   "execution_count": null,
   "id": "8dd96cdf",
   "metadata": {},
   "outputs": [
    {
     "name": "stdout",
     "output_type": "stream",
     "text": [
      "True\n"
     ]
    }
   ],
   "source": [
    "string=\"abc\"\n",
    "print(string.isidentifier())\n",
    "# you can watch vedio on identifier waht is identifier\n"
   ]
  },
  {
   "cell_type": "code",
   "execution_count": null,
   "id": "f33bc37d",
   "metadata": {},
   "outputs": [
    {
     "name": "stdout",
     "output_type": "stream",
     "text": [
      "True\n",
      "False\n"
     ]
    }
   ],
   "source": [
    "string=\"I Love Data Engineering\"\n",
    "print(string.isprintable())\n",
    "\n",
    "# \\n is not printeble\n",
    "string=\"I Love \\n Data Engineering\"\n",
    "print(string.isprintable())"
   ]
  },
  {
   "cell_type": "code",
   "execution_count": 41,
   "id": "a39e9b16",
   "metadata": {},
   "outputs": [
    {
     "name": "stdout",
     "output_type": "stream",
     "text": [
      "True\n",
      "False\n",
      "False\n",
      "True\n"
     ]
    }
   ],
   "source": [
    "string=\"       \"\n",
    "print(string.isspace())\n",
    "\n",
    "string=\"    x   \"\n",
    "print(string.isspace())\n",
    "\n",
    "string=\"\"\n",
    "print(string.isspace())\n",
    "\n",
    "string=\"\\t\"\n",
    "print(string.isspace())"
   ]
  }
 ],
 "metadata": {
  "kernelspec": {
   "display_name": "Python 3",
   "language": "python",
   "name": "python3"
  },
  "language_info": {
   "codemirror_mode": {
    "name": "ipython",
    "version": 3
   },
   "file_extension": ".py",
   "mimetype": "text/x-python",
   "name": "python",
   "nbconvert_exporter": "python",
   "pygments_lexer": "ipython3",
   "version": "3.11.4"
  }
 },
 "nbformat": 4,
 "nbformat_minor": 5
}
