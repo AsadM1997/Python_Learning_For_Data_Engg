{
 "cells": [
  {
   "cell_type": "markdown",
   "id": "ac48c951",
   "metadata": {},
   "source": [
    "Dictionary in Python\n"
   ]
  },
  {
   "cell_type": "markdown",
   "id": "4a0c3cf6",
   "metadata": {},
   "source": [
    "🔑 Rule to Remember:\n",
    "✅ A dictionary key must be immutable and hashable."
   ]
  },
  {
   "cell_type": "markdown",
   "id": "be12d284",
   "metadata": {},
   "source": [
    "✅ You CAN use as dictionary keys:\n",
    "int, float, str, bool\n",
    "\n",
    "tuple (only if it contains immutable items)\n",
    "\n",
    "frozenset"
   ]
  },
  {
   "cell_type": "code",
   "execution_count": null,
   "id": "ad9e57d3",
   "metadata": {},
   "outputs": [],
   "source": [
    "my_dict = {\n",
    "    1: \"one\",\n",
    "    \"name\": \"Alice\",\n",
    "    (1, 2): \"tuple key\",\n",
    "    frozenset([1, 2]): \"frozen set\"\n",
    "}\n"
   ]
  },
  {
   "cell_type": "markdown",
   "id": "5a77085c",
   "metadata": {},
   "source": [
    "\n",
    "❌ You CANNOT use:\n",
    "list\n",
    "\n",
    "set\n",
    "\n",
    "dict\n",
    "\n",
    "Because they are mutable (can be changed after creation), and mutable objects are not hashable."
   ]
  },
  {
   "cell_type": "markdown",
   "id": "57842c12",
   "metadata": {},
   "source": [
    "my_dict = {}\n",
    "\n",
    "my_dict[[1, 2, 3]] = \"value\"   # ❌ Error: list is unhashable\n",
    "my_dict[{1, 2, 3}] = \"value\"   # ❌ Error: set is unhashable\n",
    "my_dict[{\"a\": 1}] = \"value\"    # ❌ Error: dict is unhashable\n"
   ]
  },
  {
   "cell_type": "code",
   "execution_count": null,
   "id": "199d9a21",
   "metadata": {},
   "outputs": [
    {
     "name": "stdout",
     "output_type": "stream",
     "text": [
      "Muhammad\n",
      "9.1\n",
      "[97, 99, 33]\n"
     ]
    }
   ],
   "source": [
    "\n",
    "# Dictionaries are used to store data values in key:value pairs\n",
    "\n",
    "# “key” : value\n",
    "\n",
    "# They are unordered, mutable(changeable) & don’t allow duplicate keys\n",
    "dict = {\n",
    "    \"name\":\"Muhammad\",\n",
    "    \"cgpa\":9.1,\n",
    "    \"marks\":[97,99,33],\n",
    "}\n",
    "print(dict['name'])\n",
    "print(dict['cgpa'])\n",
    "print(dict['marks'])\n"
   ]
  },
  {
   "cell_type": "code",
   "execution_count": 9,
   "id": "c0cacf09",
   "metadata": {},
   "outputs": [
    {
     "name": "stdout",
     "output_type": "stream",
     "text": [
      "Asad\n",
      "{'name': 'Asad', 'cgpa': 9.1, 'marks': [97, 99, 33]}\n",
      "{'name': 'Asad', 'cgpa': 9.1, 'marks': [97, 99, 33], 'city': 'Delhi'}\n",
      "Delhi\n"
     ]
    }
   ],
   "source": [
    "# dict[”key”] =“value” #to assign or add new\n",
    "dict = {\n",
    "    \"name\":\"Muhammad\",\n",
    "    \"cgpa\":9.1,\n",
    "    \"marks\":[97,99,33],\n",
    "}\n",
    "\n",
    "dict[\"name\"]=\"Asad\"\n",
    "print(dict[\"name\"])\n",
    "print(dict)\n",
    "\n",
    "dict[\"city\"]=\"Delhi\"\n",
    "print(dict)\n",
    "print(dict[\"city\"])"
   ]
  },
  {
   "cell_type": "code",
   "execution_count": 22,
   "id": "031d534d",
   "metadata": {},
   "outputs": [
    {
     "name": "stdout",
     "output_type": "stream",
     "text": [
      "{'DBMS': 97, 'Python': 77}\n",
      "77\n"
     ]
    }
   ],
   "source": [
    "# nested Dictionaries \n",
    "student={\n",
    "    \"name\":\"Muhammad\",\n",
    "    \"score\" : {\n",
    "        \"DBMS\":97,\n",
    "        \"Python\":77,\n",
    "    }\n",
    "}\n",
    "print(student[\"score\"])\n",
    "print(student[\"score\"][\"Python\"])"
   ]
  },
  {
   "cell_type": "markdown",
   "id": "cfa2b879",
   "metadata": {},
   "source": [
    "Dictionary Methods\n"
   ]
  },
  {
   "cell_type": "code",
   "execution_count": null,
   "id": "42cfd195",
   "metadata": {},
   "outputs": [
    {
     "name": "stdout",
     "output_type": "stream",
     "text": [
      "dict_keys(['name', 'cgpa', 'marks', 'city', 'score'])\n",
      "dict_keys(['name', 'score'])\n",
      "dict_values(['Muhammad', 9.1, [97, 99, 33], 'Delhi', {'DBMS': 97, 'Python': 77}])\n",
      "dict_values(['Muhammad', {'DBMS': 97, 'Python': 77}])\n",
      "returns all (key, val) pairs as tuples dict_items([('name', 'Muhammad'), ('cgpa', 9.1), ('marks', [97, 99, 33]), ('city', 'Delhi'), ('score', {'DBMS': 97, 'Python': 77})])\n",
      "None\n",
      "dict_keys(['name', 'cgpa', 'marks', 'city', 'score'])\n",
      "dict_values(['Muhammad', 9.1, [97, 99, 33], 'Delhi', {'DBMS': 97, 'Python': 77}])\n"
     ]
    }
   ],
   "source": [
    "\n",
    "# myDict.keys( ) #returns all keys\n",
    "print(dict.keys())\n",
    "print(student.keys())\n",
    "\n",
    "# myDict.items( ) #returns all (key, val) pairs as tuples\n",
    "print(dict.values())\n",
    "print(student.values())\n",
    "\n",
    "\n",
    "# myDict.update( newDict ) #inserts the specified items to the dictionary\n",
    "print(dict.update(student))\n",
    "print(dict.keys())\n",
    "print(dict.values())"
   ]
  },
  {
   "cell_type": "code",
   "execution_count": 26,
   "id": "55ec86b3",
   "metadata": {},
   "outputs": [
    {
     "name": "stdout",
     "output_type": "stream",
     "text": [
      "returns all (key, val) pairs as tuples dict_items([('name', 'Muhammad'), ('cgpa', 9.1), ('marks', [97, 99, 33]), ('city', 'Delhi'), ('score', {'DBMS': 97, 'Python': 77})])\n"
     ]
    }
   ],
   "source": [
    "# myDict.items( ) #returns all (key, val) pairs as tuples\n",
    "\n",
    "print(\"returns all (key, val) pairs as tuples\",dict.items())"
   ]
  },
  {
   "cell_type": "code",
   "execution_count": 32,
   "id": "67ead975",
   "metadata": {},
   "outputs": [
    {
     "name": "stdout",
     "output_type": "stream",
     "text": [
      "Muhammad\n",
      "None\n"
     ]
    },
    {
     "ename": "KeyError",
     "evalue": "'hi'",
     "output_type": "error",
     "traceback": [
      "\u001b[1;31m---------------------------------------------------------------------------\u001b[0m",
      "\u001b[1;31mKeyError\u001b[0m                                  Traceback (most recent call last)",
      "Cell \u001b[1;32mIn[32], line 7\u001b[0m\n\u001b[0;32m      4\u001b[0m \u001b[38;5;28mprint\u001b[39m(\u001b[38;5;28mdict\u001b[39m\u001b[38;5;241m.\u001b[39mget(\u001b[38;5;124m\"\u001b[39m\u001b[38;5;124mhi\u001b[39m\u001b[38;5;124m\"\u001b[39m)) \n\u001b[0;32m      6\u001b[0m \u001b[38;5;66;03m# if value does'nt exixts then it will give me error\u001b[39;00m\n\u001b[1;32m----> 7\u001b[0m \u001b[38;5;28mprint\u001b[39m(\u001b[38;5;28;43mdict\u001b[39;49m\u001b[43m[\u001b[49m\u001b[38;5;124;43m\"\u001b[39;49m\u001b[38;5;124;43mhi\u001b[39;49m\u001b[38;5;124;43m\"\u001b[39;49m\u001b[43m]\u001b[49m)\n\u001b[0;32m      9\u001b[0m \u001b[38;5;28mprint\u001b[39m(\u001b[38;5;124m\"\u001b[39m\u001b[38;5;124mafter error\u001b[39m\u001b[38;5;124m\"\u001b[39m)\n",
      "\u001b[1;31mKeyError\u001b[0m: 'hi'"
     ]
    }
   ],
   "source": [
    "# myDict.get( “key““ ) return the key according to value \n",
    "# if value does'nt exixts then it will give me none \n",
    "print(dict.get(\"name\")) \n",
    "print(dict.get(\"hi\")) \n",
    "\n",
    "# if value does'nt exixts then it will give me error\n",
    "print(dict[\"hi\"])\n",
    "\n",
    "print(\"after error\")"
   ]
  },
  {
   "cell_type": "code",
   "execution_count": 3,
   "id": "72ae6f11",
   "metadata": {},
   "outputs": [
    {
     "name": "stdout",
     "output_type": "stream",
     "text": [
      "{'table': ['a piece of furniture', 'list of facts&figure'], 'cat': 'a small animal'}\n"
     ]
    }
   ],
   "source": [
    "dictionary={\n",
    "    \"table\":[\"a piece of furniture\",\"list of facts&figure\"],\n",
    "    \"cat\": \"a small animal\",\n",
    "}\n",
    "\n",
    "print(dictionary)"
   ]
  },
  {
   "cell_type": "code",
   "execution_count": 4,
   "id": "912c9038",
   "metadata": {},
   "outputs": [
    {
     "name": "stdout",
     "output_type": "stream",
     "text": [
      "5\n"
     ]
    }
   ],
   "source": [
    "# You are given a list of subjects for students. Assume one classroom is required for 1\n",
    "# subject. How many classrooms are needed by all students.\n",
    "# ”python”\n",
    "# ,\n",
    "# “java”\n",
    "# ,\n",
    "# “C++”\n",
    "# ,\n",
    "# “python”\n",
    "# ,\n",
    "# “javascript”\n",
    "# ,\n",
    "\n",
    "# “java”\n",
    "# ,\n",
    "# “python”\n",
    "# ,\n",
    "# “java”\n",
    "# ,\n",
    "# “C++”\n",
    "# ,\n",
    "\n",
    "# python: 3  |  java: 3  |  C++: 2  |  javascript: 1  |  C: 1  \n",
    "\n",
    "# set(unique subject) --> len()\n",
    "\n",
    "subjects = {\"python\", \"java\", \"javascript\", \"C++\",\"C++\", \"C\",\"python\", \"java\",\"python\", \"java\",}\n",
    "print(len(set(subjects)))\n"
   ]
  },
  {
   "cell_type": "code",
   "execution_count": 2,
   "id": "22f81f05",
   "metadata": {},
   "outputs": [
    {
     "name": "stdout",
     "output_type": "stream",
     "text": [
      "{'mathematics': 33, 'physices': 55, 'chemistry': 77}\n"
     ]
    }
   ],
   "source": [
    "# # WAP to enter marks of 3 subjects from the user and store them in a dictionary. Start with\n",
    "# an empty dictionary & add one by one. Use subject name as key & marks as value. \n",
    "marks={}\n",
    "# x=int(input(\"enter math: \"))\n",
    "marks.update({\"mathematics\":33})\n",
    "\n",
    "# x=int(input(\"enter phy: \"))\n",
    "marks.update({\"physices\":55})\n",
    "\n",
    "# x=int(input(\"enter chem: \"))\n",
    "marks.update({\"chemistry\":77})\n",
    "\n",
    "print(marks)\n"
   ]
  },
  {
   "cell_type": "markdown",
   "id": "5ff14fcb",
   "metadata": {},
   "source": [
    "🔹 What is a set?\n",
    "A set is a collection of unique, unordered elements.\n",
    "\n",
    "✅ It does not allow duplicates\n",
    "\n",
    "✅ It is mutable (you can add/remove items)\n",
    "\n",
    "❌ It is not ordered (items don't have a fixed position/index)"
   ]
  },
  {
   "cell_type": "code",
   "execution_count": null,
   "id": "d103e80a",
   "metadata": {},
   "outputs": [],
   "source": [
    "# Using curly braces\n",
    "my_set = {1, 2, 3, 4}\n",
    "\n",
    "# Or using the set() function\n",
    "another_set = set([1, 2, 3])\n",
    "\n",
    "# it is dict\n",
    "my_set={} \n",
    "# it is set : empty set syntax\n",
    "my_set=set()"
   ]
  },
  {
   "cell_type": "code",
   "execution_count": 2,
   "id": "57d448e0",
   "metadata": {},
   "outputs": [
    {
     "name": "stdout",
     "output_type": "stream",
     "text": [
      "{1, 2, 3, 4}\n",
      "4\n"
     ]
    }
   ],
   "source": [
    "s = {1, 2, 2, 3, 4, 4}\n",
    "print(s)\n",
    "# Output: {1, 2, 3, 4}\n",
    "print(len(s))"
   ]
  },
  {
   "cell_type": "markdown",
   "id": "41cbd0ad",
   "metadata": {},
   "source": [
    "❌ You CANNOT use mutable data structures like:"
   ]
  },
  {
   "cell_type": "code",
   "execution_count": null,
   "id": "1e7058cb",
   "metadata": {},
   "outputs": [],
   "source": [
    "my_set = {[1, 2, 3]}  # ❌ Error: unhashable type: 'list'\n",
    "my_set = [{ \"a\": 1 }]  # ❌ Error: unhashable type: 'dict'\n",
    "my_set = [{1, 2, 3}]  # ❌ Error: unhashable type: 'set'\n"
   ]
  },
  {
   "cell_type": "markdown",
   "id": "215b4620",
   "metadata": {},
   "source": [
    "Set Methods\n"
   ]
  },
  {
   "cell_type": "code",
   "execution_count": null,
   "id": "f09fc341",
   "metadata": {},
   "outputs": [],
   "source": [
    "\n",
    "\n",
    "\n",
    "set.clear( ) #empties the set\n",
    "\n",
    "set.pop( ) #removes a random value"
   ]
  },
  {
   "cell_type": "code",
   "execution_count": null,
   "id": "5e8f006e",
   "metadata": {},
   "outputs": [],
   "source": [
    "a = {1, 2, 3}\n",
    "b = {3, 4, 5}\n",
    "\n",
    "# Union (combine without duplicates)\n",
    "print(a | b)  # {1, 2, 3, 4, 5}\n",
    "\n",
    "# Intersection (common elements)\n",
    "print(a & b)  # {3}\n",
    "\n",
    "# Difference (elements in a but not in b)\n",
    "print(a - b)  # {1, 2}\n",
    "\n",
    "# Add element\n",
    "a.add(6)\n",
    "\n",
    "# Remove element\n",
    "a.remove(2)\n",
    "\n",
    "# Check if element exists\n",
    "print(3 in a)  # True\n"
   ]
  },
  {
   "cell_type": "code",
   "execution_count": 7,
   "id": "7469a320",
   "metadata": {},
   "outputs": [
    {
     "name": "stdout",
     "output_type": "stream",
     "text": [
      "{9}\n",
      "{9, '9.0'}\n",
      "{('float', 9.0), ('int', 9)}\n",
      "{9, 9.25, 7.0}\n",
      "{9, 9.25, 7}\n"
     ]
    }
   ],
   "source": [
    "# Figure out a way to store 9 & 9.0 \n",
    "values={9,9.0}\n",
    "print(values)\n",
    "\n",
    "values={9,\"9.0\"}\n",
    "print(values)\n",
    "values={(\"int\",9),(\"float\",9.0)}\n",
    "print(values)\n",
    "\n",
    "\n",
    "values={9,9.25,7.0,7}\n",
    "print(values)\n",
    "\n",
    "values={9,9.25,7,7.0}\n",
    "print(values)\n",
    "\n"
   ]
  }
 ],
 "metadata": {
  "kernelspec": {
   "display_name": "Python 3",
   "language": "python",
   "name": "python3"
  },
  "language_info": {
   "codemirror_mode": {
    "name": "ipython",
    "version": 3
   },
   "file_extension": ".py",
   "mimetype": "text/x-python",
   "name": "python",
   "nbconvert_exporter": "python",
   "pygments_lexer": "ipython3",
   "version": "3.11.4"
  }
 },
 "nbformat": 4,
 "nbformat_minor": 5
}
