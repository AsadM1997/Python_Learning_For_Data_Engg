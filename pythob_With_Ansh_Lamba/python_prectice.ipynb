{
 "cells": [
  {
   "cell_type": "code",
   "execution_count": null,
   "id": "fe4ae493-077e-4f36-8fd2-0a28b45289e0",
   "metadata": {},
   "outputs": [],
   "source": [
    "print(\"Hello Asad\", 1, 'ILU', sep=\"$ \")"
   ]
  },
  {
   "cell_type": "code",
   "execution_count": null,
   "id": "b0b53e2e-be5c-492a-9371-37032ca9592a",
   "metadata": {},
   "outputs": [],
   "source": [
    "print(\"\"\"hello my name is 'Khan' \n",
    "what is your name \"\"\")"
   ]
  },
  {
   "cell_type": "code",
   "execution_count": null,
   "id": "07d3d34f-787a-470a-b05f-d497dfa8a3db",
   "metadata": {},
   "outputs": [],
   "source": [
    "print(\"\"\"hello my name is \\\"Khan\\\" \n",
    "what is your name \"\"\")"
   ]
  },
  {
   "cell_type": "markdown",
   "id": "bd608837-1bc5-466e-9161-bf5211666fb7",
   "metadata": {},
   "source": [
    "python variables"
   ]
  },
  {
   "cell_type": "code",
   "execution_count": null,
   "id": "def5ce2a-8a34-42d1-9410-bf0b64cca163",
   "metadata": {},
   "outputs": [],
   "source": [
    "my_name1=\"MOHD\"   #firstname\n",
    "my_name2 = \"Asad\" #lastname\n",
    "print(my_name1 + my_name2)\n"
   ]
  },
  {
   "cell_type": "code",
   "execution_count": null,
   "id": "badb6706-871f-4bc0-abe4-cb053c2b5e83",
   "metadata": {},
   "outputs": [],
   "source": [
    "x=10\n",
    "y=7\n",
    "print(x+y,my_name1, sep=\"& \")"
   ]
  },
  {
   "cell_type": "code",
   "execution_count": null,
   "id": "967724bc-ec6b-4338-91e2-c948fcfa247b",
   "metadata": {},
   "outputs": [],
   "source": [
    "''' we can assign multiple variables in one line\n",
    "don't try to make multiple line of code for assignment '''\n",
    "x,y,z =10,20,5\n",
    "print(x,y,z)"
   ]
  },
  {
   "cell_type": "code",
   "execution_count": null,
   "id": "743a7d71-8e2a-423a-acfa-55cd881fac4b",
   "metadata": {},
   "outputs": [],
   "source": [
    "x=y=z= 10 #we can assign same value to multiple variable for safe space\n",
    "print(x,y,z)"
   ]
  },
  {
   "cell_type": "code",
   "execution_count": null,
   "id": "cc1bfaa1-73f0-4e35-a4b9-09e4e0bb05b3",
   "metadata": {},
   "outputs": [],
   "source": [
    "total_sum=10+20+7+3+30\n",
    "print(total_sum)"
   ]
  },
  {
   "cell_type": "code",
   "execution_count": null,
   "id": "b09f24de-5d47-4e9a-8b66-aa0759490f8b",
   "metadata": {},
   "outputs": [],
   "source": [
    "# this is for total_sum you have to make \\\n",
    "total_sum=10+20+7\\\n",
    "            +3+30\n",
    "print(total_sum)"
   ]
  },
  {
   "cell_type": "code",
   "execution_count": null,
   "id": "e1e04b12-cf79-496c-becf-36a31d145cd6",
   "metadata": {},
   "outputs": [],
   "source": [
    "total_sum = (10+20+7+3+30)\n",
    "print(total_sum)"
   ]
  },
  {
   "cell_type": "markdown",
   "id": "517a59f9-9c3f-46ca-9435-f83ab2c9496d",
   "metadata": {},
   "source": [
    "Explicit type Casting "
   ]
  },
  {
   "cell_type": "code",
   "execution_count": null,
   "id": "74439b35-c7f7-448e-ad76-4a44f47b52eb",
   "metadata": {},
   "outputs": [],
   "source": [
    "a = 10\n",
    "b = \"10\"\n",
    "b_new = int(10)\n",
    "print(a+b_new)"
   ]
  },
  {
   "cell_type": "markdown",
   "id": "7974a092-6858-40ef-ae94-b33ed6de46b4",
   "metadata": {},
   "source": [
    "Implicite type casting"
   ]
  },
  {
   "cell_type": "code",
   "execution_count": null,
   "id": "79d29670-068f-42ec-8f86-953e33a5f379",
   "metadata": {},
   "outputs": [],
   "source": [
    "a = 10\n",
    "b= 10.5\n",
    "print(a+b)"
   ]
  },
  {
   "cell_type": "code",
   "execution_count": null,
   "id": "b4dd047a-f0e1-45b2-abc6-63a720decf16",
   "metadata": {},
   "outputs": [],
   "source": [
    "name=\"Muhammad Asad\"\n",
    "print(name[0:8])"
   ]
  },
  {
   "cell_type": "code",
   "execution_count": null,
   "id": "725d40f6-be33-4022-a634-7a390c50cc53",
   "metadata": {},
   "outputs": [],
   "source": [
    "name=\"Muhammad Asad\"\n",
    "print(name[0:])"
   ]
  },
  {
   "cell_type": "code",
   "execution_count": null,
   "id": "2eaa9bcc-c866-4e8d-a58e-284c24b1142b",
   "metadata": {},
   "outputs": [],
   "source": [
    "name=\"Muhammad Asad\"\n",
    "print(name[8:len(name)])"
   ]
  },
  {
   "cell_type": "markdown",
   "id": "70e40271-7faa-49a1-b884-6e36a548b9f4",
   "metadata": {},
   "source": [
    "python string methods"
   ]
  },
  {
   "cell_type": "code",
   "execution_count": null,
   "id": "b8b85e7c-7d6f-42b3-b94d-846ea8815e5f",
   "metadata": {},
   "outputs": [],
   "source": [
    "name=\"Muhammad Asad\"\n",
    "print(name.capitalize())"
   ]
  },
  {
   "cell_type": "code",
   "execution_count": null,
   "id": "b0973a00-9bf7-46ae-b7bb-14e785ae288f",
   "metadata": {},
   "outputs": [],
   "source": [
    "name=\"Muhammad Asad\"\n",
    "print(name.title())"
   ]
  },
  {
   "cell_type": "code",
   "execution_count": null,
   "id": "35a9bbd8-4445-4a7b-acbf-610f7883a73d",
   "metadata": {},
   "outputs": [],
   "source": [
    "name=\"Muhammad Asad\"\n",
    "print(name.replace('Muhammad', 'Mohd'))"
   ]
  },
  {
   "cell_type": "code",
   "execution_count": null,
   "id": "23c8bbb1-0446-48db-bf19-bbe6166372d4",
   "metadata": {},
   "outputs": [],
   "source": [
    "name=\"Muhammad Asad Mohd Ali\"\n",
    "print(name.split(\" \"))"
   ]
  },
  {
   "cell_type": "markdown",
   "id": "b1156a70-8ddb-4ced-9b85-4b66a5eafb6b",
   "metadata": {},
   "source": [
    "we do checkmarks in real scenario we don't need to read whole data "
   ]
  },
  {
   "cell_type": "code",
   "execution_count": null,
   "id": "7eaffe2e-388d-49c4-a92c-d0b3defac287",
   "metadata": {},
   "outputs": [],
   "source": [
    "file=(\"raw_data.csv\")\n",
    "if file.endswith('.csv'):\n",
    "    print(\"csv file\")"
   ]
  },
  {
   "cell_type": "code",
   "execution_count": null,
   "id": "6cb45a04-8a3c-4c61-8703-4d34d10c3073",
   "metadata": {},
   "outputs": [],
   "source": [
    "statement=\"Hello Asad. What are you doing.\\\n",
    "            Hey Asad, I am talking to you \"\n",
    "print(statement.count('Asad'))"
   ]
  },
  {
   "cell_type": "code",
   "execution_count": null,
   "id": "64fa92aa-80db-428c-acb9-30af2e27310f",
   "metadata": {},
   "outputs": [],
   "source": [
    "demo_str = \"Hello\"\n",
    "\n",
    "demo_var = \"10\"\n",
    "\n",
    "print(demo_str.isnumeric())\n",
    "print(demo_var.isnumeric()) #hey! please note that point .isnumeric work with \"10\" it does'nt work with int wala 10"
   ]
  },
  {
   "cell_type": "code",
   "execution_count": null,
   "id": "29ca40c9-f874-490a-9d24-c02e882bbdbf",
   "metadata": {},
   "outputs": [],
   "source": [
    "\n",
    "demo_var = \"10abc\"\n",
    "\n",
    "print(demo_var.isal()) #hey! please note that point .isnumeric work with \"10\" it does'nt work with int wala 10"
   ]
  },
  {
   "cell_type": "code",
   "execution_count": null,
   "id": "f9a0f695-3bf4-40bd-a5d8-69bd7872d6ae",
   "metadata": {},
   "outputs": [],
   "source": [
    "x=11\n",
    "\n",
    "if(x == 10):\n",
    "    print(\"x is 10\")\n",
    "elif(x > 100):\n",
    "    print(\"x is too high\")\n",
    "else:\n",
    "    print(\"x is not 10\")\n",
    "    "
   ]
  },
  {
   "cell_type": "code",
   "execution_count": null,
   "id": "dc5b4afb-ca77-4360-820f-2926c3c48e7f",
   "metadata": {},
   "outputs": [],
   "source": [
    "x=201\n",
    "if (x == 10):\n",
    "    print(\"x is 10\")\n",
    "elif(x>100):\n",
    "    if((x>100) & (x<200)):\n",
    "        print(\"between 100 and 200\")\n",
    "    else:\n",
    "        print(\"x greater than a 200\")\n",
    "else:\n",
    "    print(\"x is not 10\")"
   ]
  },
  {
   "cell_type": "code",
   "execution_count": null,
   "id": "7ed5105c-f185-401d-8874-5cf6a1acdef3",
   "metadata": {},
   "outputs": [],
   "source": [
    "my_list=['orders', 'customers', 'products']\n",
    "print(my_list[0])\n",
    "print(my_list[1])\n",
    "print(my_list[2])\n"
   ]
  },
  {
   "cell_type": "markdown",
   "id": "46150b87-5f42-4aa6-9208-c8a060d31355",
   "metadata": {},
   "source": [
    "but Data engineer use loop 80% for solve like this problem"
   ]
  },
  {
   "cell_type": "code",
   "execution_count": null,
   "id": "987b51db-56a6-41fd-9092-48409647ec57",
   "metadata": {},
   "outputs": [],
   "source": [
    "table_list=['orders', 'customers', 'products']\n",
    "for i in table_list:\n",
    "    print(i)"
   ]
  },
  {
   "cell_type": "code",
   "execution_count": null,
   "id": "9eaa7bd7-8fa4-4426-a02e-94b45a6461da",
   "metadata": {},
   "outputs": [],
   "source": [
    "table_list=['orders', 'customers', 'products']\n",
    "for i in table_list:\n",
    "    print(i)\n",
    "    for x in i:\n",
    "        print(x)"
   ]
  },
  {
   "cell_type": "code",
   "execution_count": null,
   "id": "f513d77a-8334-402c-af87-fc6737999169",
   "metadata": {},
   "outputs": [],
   "source": [
    "table_list=['orders', 'customers', 'products']\n",
    "for i in table_list:\n",
    "    if(i.lower() == \"orders\"):\n",
    "        print(\"orders table\")\n",
    "    else:\n",
    "        print(\"no table order\")"
   ]
  },
  {
   "cell_type": "markdown",
   "id": "aab0defe-f49e-44a6-bb9a-2ef8ec4bb773",
   "metadata": {},
   "source": [
    "if i have thousends of data if i want to grab/check perticular data then we need break \n",
    "we will visit each item table on iteration as table got we will use break "
   ]
  },
  {
   "cell_type": "code",
   "execution_count": null,
   "id": "0dd94ee9-1351-445b-b9d0-8b8affb17fc8",
   "metadata": {},
   "outputs": [],
   "source": [
    "table_list=[\"price\",'orders', 'customers', 'products']\n",
    "for i in table_list:\n",
    "    if(i.lower() == \"orders\"):\n",
    "        print(i)\n",
    "        break      # it doesn't break line it will break whole code\n",
    "        print(i)  \n",
    "        "
   ]
  },
  {
   "cell_type": "markdown",
   "id": "00c950c9-533d-4c9d-8042-2724fa790d42",
   "metadata": {},
   "source": [
    "continue will skip the orders it will not stop it just do skip"
   ]
  },
  {
   "cell_type": "code",
   "execution_count": null,
   "id": "a447b8c4-d342-4ad0-afce-867731faa5d8",
   "metadata": {},
   "outputs": [],
   "source": [
    "table_list=[\"price\",'orders', 'customers', 'products']\n",
    "for i in table_list:\n",
    "    if(i.lower() == \"orders\"):\n",
    "        continue      \n",
    "    print(i)  \n",
    "        "
   ]
  },
  {
   "cell_type": "markdown",
   "id": "265bb9fa-d802-49e1-a388-9fe4a6e4b857",
   "metadata": {},
   "source": [
    "List"
   ]
  },
  {
   "cell_type": "code",
   "execution_count": null,
   "id": "c69239c9-0380-4db4-8cc9-bd1eb9f1b6ca",
   "metadata": {},
   "outputs": [],
   "source": [
    "my_list = [1,2,\"Mohd\", \"Asad\",[1,2,3]]  #01234 -5 -4 -3 -2 -1\n",
    "print(my_list[-3:])\n",
    "print(my_list[len(my_list)-3 : len(my_list)]) # 2: till end"
   ]
  },
  {
   "cell_type": "code",
   "execution_count": null,
   "id": "ccd6a391-0d4d-4774-95d7-54840cae0ed4",
   "metadata": {},
   "outputs": [],
   "source": [
    "my_list = [1,2,\"Mohd\", \"Asad\",[1,2,3],4,5,6,7]\n",
    "print(my_list[::2])"
   ]
  },
  {
   "cell_type": "code",
   "execution_count": null,
   "id": "5126efaf-123d-4829-9c63-cd47d6e1e1ec",
   "metadata": {},
   "outputs": [],
   "source": [
    "my_list = [1,2,\"Mohd\", \"Asad\",[1,2,3],4,5,6,7]\n",
    "my_list.append(\"Hero\")\n",
    "print(my_list)"
   ]
  },
  {
   "cell_type": "code",
   "execution_count": null,
   "id": "e66efffa-97b2-4dc9-8972-d8eafa0fff3e",
   "metadata": {},
   "outputs": [],
   "source": [
    "# if i want to append any specific location or index\n",
    "my_list.insert(1,\"Hero\")\n",
    "print(my_list)"
   ]
  },
  {
   "cell_type": "code",
   "execution_count": null,
   "id": "a6cd46e9-7374-4c4d-ae1d-d70054dad2bd",
   "metadata": {},
   "outputs": [],
   "source": [
    "# if i want remove \"Hero6\"\n",
    "my_list.pop()\n",
    "print(my_list)"
   ]
  },
  {
   "cell_type": "code",
   "execution_count": null,
   "id": "00aeead1-f6c9-4ab4-86df-13619d38b72a",
   "metadata": {},
   "outputs": [],
   "source": [
    "# when you want to reverse list permanently u can use reverse()\n",
    "\n",
    "my_list.reverse()\n",
    "print(my_list)"
   ]
  },
  {
   "cell_type": "code",
   "execution_count": null,
   "id": "ac9452c6-0543-42df-93d2-5f43e3eaa9cd",
   "metadata": {},
   "outputs": [],
   "source": [
    "# when you want to reverse list temperory for operation u can use loop\n",
    "for i in my_list:\n",
    "    print(i)\n"
   ]
  },
  {
   "cell_type": "code",
   "execution_count": null,
   "id": "bd41f662-72f5-4aa6-a1fa-b895cbccbc7e",
   "metadata": {},
   "outputs": [],
   "source": [
    "my_list = [1,2,3,4,5,6,7]\n",
    "print(my_list[::-1])"
   ]
  },
  {
   "cell_type": "code",
   "execution_count": null,
   "id": "bcd136b8-a907-4c11-9992-c6847a4d6d72",
   "metadata": {},
   "outputs": [],
   "source": [
    "my_list = [1,2,3,4,5,6,7]\n",
    "\n",
    "new_list = []\n",
    "for i in my_list:\n",
    "    new_list.append(i*i)\n",
    "print(new_list)    "
   ]
  },
  {
   "cell_type": "markdown",
   "id": "329b59e7-0bbd-483a-ba25-f9de8f29fe2e",
   "metadata": {},
   "source": [
    "List Comprehenshion\n"
   ]
  },
  {
   "cell_type": "code",
   "execution_count": null,
   "id": "6db38e9a-d130-4369-ab34-82020078a642",
   "metadata": {},
   "outputs": [],
   "source": [
    "my_list = [1,2,3,4,5,6,7]\n",
    "\n",
    "new_list = [i*i for i in my_list if(i%2) == 0 if(i!=6)]\n",
    "print(new_list)"
   ]
  },
  {
   "cell_type": "markdown",
   "id": "5fa0f6d0-4271-4c78-85e3-9215445fde2f",
   "metadata": {},
   "source": [
    "Dictionary Data structure "
   ]
  },
  {
   "cell_type": "code",
   "execution_count": null,
   "id": "4f4af34f-c03d-4554-9b73-9bcd49eb84ed",
   "metadata": {},
   "outputs": [],
   "source": [
    "my_dict={\"x\":1, \"y\":2, \"z\":3}\n",
    "\n",
    "my_dict[\"x\"]=10\n",
    "print(my_dict)"
   ]
  },
  {
   "cell_type": "code",
   "execution_count": null,
   "id": "ebd75a11-202e-4f1b-afda-6bc879e0df40",
   "metadata": {},
   "outputs": [],
   "source": [
    "my_dict.pop(\"z\")"
   ]
  },
  {
   "cell_type": "code",
   "execution_count": null,
   "id": "6b7f6ac9-59af-4563-9bb3-eecba8e8137f",
   "metadata": {},
   "outputs": [],
   "source": [
    "print(my_dict.keys())"
   ]
  },
  {
   "cell_type": "code",
   "execution_count": null,
   "id": "f6d7457d-ea0c-44f3-b3b9-e1c539a927d3",
   "metadata": {},
   "outputs": [],
   "source": [
    "print(my_dict.values())"
   ]
  },
  {
   "cell_type": "code",
   "execution_count": null,
   "id": "b594ff30-058b-4f6f-abd7-40d87129f579",
   "metadata": {},
   "outputs": [],
   "source": [
    "print(my_dict.items())"
   ]
  },
  {
   "cell_type": "code",
   "execution_count": null,
   "id": "e171311e-09c8-4928-af0a-38ddcbdff1b1",
   "metadata": {},
   "outputs": [],
   "source": [
    "my_dict={\"x\":1, \"y\":2, \"z\":3 ,\"demo\":{\"a\":1, \"b\":2, \"c\":3}}\n",
    "print(my_dict[\"demo\"][\"b\"])"
   ]
  },
  {
   "cell_type": "markdown",
   "id": "84b64e92-0cdc-4ae5-883b-39a53eaef8d0",
   "metadata": {},
   "source": [
    "set data structure "
   ]
  },
  {
   "cell_type": "code",
   "execution_count": null,
   "id": "13304532-aa84-4ff8-a505-0911952d3022",
   "metadata": {},
   "outputs": [],
   "source": [
    "s1={1,2,3,4,5,6,7,7,7,7}\n",
    "s2={88,9,0,1,2,3,4,5,6,7}\n",
    "\n",
    "print(type(s1))\n",
    "print(s1.union(s2))\n",
    "print(s1.intersection(s2))\n",
    "s1.remove(6)\n",
    "print(s1)\n",
    "s2.add(6)\n",
    "print(s2)"
   ]
  },
  {
   "cell_type": "code",
   "execution_count": null,
   "id": "488c7938-da84-4035-a497-fb2c90443cd6",
   "metadata": {},
   "outputs": [],
   "source": [
    "my_tuple=(1,2,3,4,5,6,7)\n",
    "\n",
    "my_tuplist=list(my_tuple)\n",
    "my_tuplist.append(19)\n",
    "print(my_tuplist, type(my_tuplist), type(my_tuple))\n",
    "my_tuple = tuple(my_tuplist)\n",
    "print(my_tuple)"
   ]
  },
  {
   "cell_type": "markdown",
   "id": "d0d7c87b-1cc3-4886-9042-f7b6daa772fd",
   "metadata": {},
   "source": [
    "Functions"
   ]
  },
  {
   "cell_type": "code",
   "execution_count": 2,
   "id": "7d693b49-6689-4a6b-9f5f-12c36e2727a3",
   "metadata": {},
   "outputs": [
    {
     "data": {
      "text/plain": [
       "'px is lower'"
      ]
     },
     "execution_count": 2,
     "metadata": {},
     "output_type": "execute_result"
    }
   ],
   "source": [
    "def my_func(px):\n",
    "    if(px>10):\n",
    "        return px\n",
    "    else:\n",
    "        return \"px is lower\"\n",
    "my_func(10)        "
   ]
  },
  {
   "cell_type": "code",
   "execution_count": 4,
   "id": "b93c00b5-9a4f-448a-ad40-e371759d4cd8",
   "metadata": {},
   "outputs": [
    {
     "data": {
      "text/plain": [
       "11"
      ]
     },
     "execution_count": 4,
     "metadata": {},
     "output_type": "execute_result"
    }
   ],
   "source": [
    "def my_func(px,py):\n",
    "    if(px>py):\n",
    "        return px\n",
    "    else:\n",
    "        return py\n",
    "my_func(10,11)        "
   ]
  },
  {
   "cell_type": "code",
   "execution_count": 5,
   "id": "f8fb0863-d7f9-42ac-87f5-96effed3cd8e",
   "metadata": {},
   "outputs": [
    {
     "data": {
      "text/plain": [
       "-1"
      ]
     },
     "execution_count": 5,
     "metadata": {},
     "output_type": "execute_result"
    }
   ],
   "source": [
    "def my_func(px,py=30):\n",
    "    if(px>py):\n",
    "        return px+py\n",
    "    else:\n",
    "        return px-py\n",
    "my_func(10,11)        "
   ]
  },
  {
   "cell_type": "code",
   "execution_count": 17,
   "id": "17efe5bb-f07a-4818-b3b2-eb6345abf581",
   "metadata": {},
   "outputs": [
    {
     "name": "stdout",
     "output_type": "stream",
     "text": [
      "<class 'function'> <class 'tuple'>\n"
     ]
    },
    {
     "data": {
      "text/plain": [
       "(10, 11, 12, 13)"
      ]
     },
     "execution_count": 17,
     "metadata": {},
     "output_type": "execute_result"
    }
   ],
   "source": [
    "def my_func(*px):\n",
    "    print(type(my_func),type(px))\n",
    "    return px\n",
    "\n",
    "    \n",
    "my_func(10,11,12,13) \n"
   ]
  },
  {
   "cell_type": "code",
   "execution_count": 19,
   "id": "9e7962bb-a3eb-402f-8390-e06adacc5e2f",
   "metadata": {},
   "outputs": [
    {
     "name": "stdout",
     "output_type": "stream",
     "text": [
      "<class 'function'> <class 'dict'>\n",
      "dict_keys(['x', 'y', 'z', 'aa'])\n"
     ]
    },
    {
     "data": {
      "text/plain": [
       "{'x': 10, 'y': 11, 'z': 12, 'aa': 13}"
      ]
     },
     "execution_count": 19,
     "metadata": {},
     "output_type": "execute_result"
    }
   ],
   "source": [
    "def my_func(**px):\n",
    "    print(type(my_func),type(px))\n",
    "    print(px.keys())\n",
    "    return px\n",
    "\n",
    "    \n",
    "my_func(x=10,y=11,z=12,aa=13) \n"
   ]
  },
  {
   "cell_type": "code",
   "execution_count": 20,
   "id": "2cd54cf5-c4a5-4660-ac03-6d2b3524b6b9",
   "metadata": {},
   "outputs": [
    {
     "name": "stdout",
     "output_type": "stream",
     "text": [
      "30\n"
     ]
    }
   ],
   "source": [
    "# one way doing this addition \n",
    "def add(x,y):\n",
    "    return x+y\n",
    "var = add(10,20)\n",
    "print(var)"
   ]
  },
  {
   "cell_type": "code",
   "execution_count": 22,
   "id": "5a6154f7-a022-403d-b3eb-7744838ed3f0",
   "metadata": {},
   "outputs": [
    {
     "name": "stdout",
     "output_type": "stream",
     "text": [
      "21\n",
      "21\n"
     ]
    }
   ],
   "source": [
    "#another way using lambda function if you don't want code reusability\n",
    "\n",
    "add = lambda x,y:x+y\n",
    "var = add(10,11)\n",
    "print(var)\n",
    "print(add(10,11))"
   ]
  },
  {
   "cell_type": "markdown",
   "id": "38b9787b-c0a6-46fb-87ca-9748760f9f47",
   "metadata": {},
   "source": [
    "Map filter Reduce "
   ]
  },
  {
   "cell_type": "code",
   "execution_count": 23,
   "id": "bfebd230-bf2d-4ed4-aa0e-e8fcead64a9b",
   "metadata": {},
   "outputs": [
    {
     "data": {
      "text/plain": [
       "[1, 4, 9, 16, 25, 36, 49]"
      ]
     },
     "execution_count": 23,
     "metadata": {},
     "output_type": "execute_result"
    }
   ],
   "source": [
    "# we create a fuction just accept the list we will see function not only for accept the list we will access element of list\n",
    "\n",
    "def square(x):\n",
    "    ret_list=[i*i for i in x]\n",
    "    print ret_list\n",
    "my_list=[1,2,3,4,5,6,7]    \n",
    "square(my_list)    "
   ]
  },
  {
   "cell_type": "code",
   "execution_count": 5,
   "id": "d4d82f2c-8a8d-406a-b35a-77955ae40f7f",
   "metadata": {},
   "outputs": [
    {
     "name": "stdout",
     "output_type": "stream",
     "text": [
      "[None, 4, None, 16, None]\n"
     ]
    }
   ],
   "source": [
    "#here we can pass individual number and list also \n",
    "# mostly we use filter \n",
    "my_list=[1,2,3,4,5]\n",
    "\n",
    "def square(x):\n",
    "    if(x%2 == 0):\n",
    "        return x*x\n",
    "result = list(map(square, my_list))\n",
    "print(result)\n",
    " "
   ]
  },
  {
   "cell_type": "code",
   "execution_count": 6,
   "id": "edc43b8a-f9b2-4d33-9fbc-b50cf74a31c6",
   "metadata": {},
   "outputs": [
    {
     "name": "stdout",
     "output_type": "stream",
     "text": [
      "[2, 4]\n"
     ]
    }
   ],
   "source": [
    "#here we can pass individual number and list also\n",
    "my_list=[1,2,3,4,5]\n",
    "\n",
    "def square(x):\n",
    "    if(x%2 == 0):\n",
    "        return x*x\n",
    "result = list(filter(square, my_list))\n",
    "print(result)\n",
    " "
   ]
  },
  {
   "cell_type": "code",
   "execution_count": 9,
   "id": "62dbe5b5-d8ef-46b9-aa08-c91820b35f1c",
   "metadata": {},
   "outputs": [
    {
     "name": "stdout",
     "output_type": "stream",
     "text": [
      "15\n"
     ]
    }
   ],
   "source": [
    "from functools import reduce\n",
    "\n",
    "my_list=[1,2,3,4,5]\n",
    "\n",
    "def add(x,y):\n",
    "    return x+y\n",
    "result = reduce(add, my_list)   \n",
    "print(result)"
   ]
  },
  {
   "cell_type": "markdown",
   "id": "abd4bee4-72f1-4887-b361-6c3b99f3ede3",
   "metadata": {},
   "source": [
    "Exceptional Handling"
   ]
  },
  {
   "cell_type": "code",
   "execution_count": 1,
   "id": "1576151d-fa39-4ea8-a5b5-f2a1041b5172",
   "metadata": {},
   "outputs": [
    {
     "name": "stdout",
     "output_type": "stream",
     "text": [
      "'>' not supported between instances of 'str' and 'int'\n",
      "my next line of code continue without interruption\n"
     ]
    }
   ],
   "source": [
    "x=\"10\"\n",
    "try:\n",
    "    if(x>10):\n",
    "        print(x)\n",
    "    else:\n",
    "        print(\"Bla Bla\")\n",
    "except Exception as e:\n",
    "    print(e)\n",
    "\n",
    "print(\"my next line of code continue without interruption\")    "
   ]
  },
  {
   "cell_type": "code",
   "execution_count": 3,
   "id": "a26cbf85-fc74-4dee-8c1e-96df817344c1",
   "metadata": {},
   "outputs": [
    {
     "name": "stdout",
     "output_type": "stream",
     "text": [
      "Hello! my firstname is Mohd, and lastname Asad\n"
     ]
    }
   ],
   "source": [
    "# formatting string\n",
    "first_name=\"Mohd\"\n",
    "last_name=\"Asad\"\n",
    "\n",
    "my_string=f\"Hello! my firstname is {first_name}, and lastname {last_name}\"\n",
    "\n",
    "print(my_string)\n"
   ]
  },
  {
   "cell_type": "code",
   "execution_count": 4,
   "id": "7fd39253",
   "metadata": {},
   "outputs": [
    {
     "name": "stdout",
     "output_type": "stream",
     "text": [
      "hey! you got this error- '>' not supported between instances of 'str' and 'int'\n",
      "my next line of code continue without interruption\n"
     ]
    }
   ],
   "source": [
    "x=\"10\"\n",
    "try:\n",
    "    if(x>10):\n",
    "        print(x)\n",
    "    else:\n",
    "        print(\"Bla Bla\")\n",
    "except Exception as e:\n",
    "    print(f\"hey! you got this error- {e}\")\n",
    "\n",
    "print(\"my next line of code continue without interruption\")    "
   ]
  },
  {
   "cell_type": "markdown",
   "id": "0153055e-9188-42ae-9014-a981c36b8ec1",
   "metadata": {},
   "source": [
    "please focus on two thing when pyhton sees return keyword means job done goto backtrack  finally cmd always run"
   ]
  },
  {
   "cell_type": "code",
   "execution_count": 12,
   "id": "b584639c-cee2-48e2-adcf-1bf473211a8e",
   "metadata": {},
   "outputs": [
    {
     "name": "stdout",
     "output_type": "stream",
     "text": [
      "just for check hey! i am finally i am always run\n"
     ]
    }
   ],
   "source": [
    "def my_func(x):\n",
    "    try:\n",
    "        if(x%2 == 0):\n",
    "            return 1\n",
    "    except Exception as e:      \n",
    "            return e\n",
    "    finally:\n",
    "        print(\"just for check hey! i am finally i am always run\")\n",
    "        \n",
    "my_func(1)"
   ]
  },
  {
   "cell_type": "code",
   "execution_count": 15,
   "id": "e744b136-f596-4d3e-9dcc-3984cbd4b53a",
   "metadata": {},
   "outputs": [
    {
     "name": "stdout",
     "output_type": "stream",
     "text": [
      "5\n"
     ]
    }
   ],
   "source": [
    "x=10\n",
    "#this one is global\n",
    "def to_check_priority_of_variable():\n",
    "    x=5 # this is local it takes priorirty\n",
    "    print(x)\n",
    "\n",
    "to_check_priority_of_variable()    "
   ]
  },
  {
   "cell_type": "code",
   "execution_count": null,
   "id": "7b43bebe-a489-49fa-aecb-42403e81a07c",
   "metadata": {},
   "outputs": [],
   "source": [
    "we can raise error like TypeError ValueError Exception"
   ]
  },
  {
   "cell_type": "code",
   "execution_count": 19,
   "id": "94b71528-33ee-419d-a6fa-75c88535785e",
   "metadata": {},
   "outputs": [
    {
     "ename": "TypeError",
     "evalue": "Only integers are allowed",
     "output_type": "error",
     "traceback": [
      "\u001b[31m---------------------------------------------------------------------------\u001b[39m",
      "\u001b[31mTypeError\u001b[39m                                 Traceback (most recent call last)",
      "\u001b[36mCell\u001b[39m\u001b[36m \u001b[39m\u001b[32mIn[19]\u001b[39m\u001b[32m, line 4\u001b[39m\n\u001b[32m      1\u001b[39m x = \u001b[33m\"\u001b[39m\u001b[33mhello\u001b[39m\u001b[33m\"\u001b[39m\n\u001b[32m      3\u001b[39m \u001b[38;5;28;01mif\u001b[39;00m \u001b[38;5;129;01mnot\u001b[39;00m \u001b[38;5;28mtype\u001b[39m(x) \u001b[38;5;129;01mis\u001b[39;00m \u001b[38;5;28mint\u001b[39m:\n\u001b[32m----> \u001b[39m\u001b[32m4\u001b[39m     \u001b[38;5;28;01mraise\u001b[39;00m \u001b[38;5;167;01mTypeError\u001b[39;00m(\u001b[33m\"\u001b[39m\u001b[33mOnly integers are allowed\u001b[39m\u001b[33m\"\u001b[39m)\n",
      "\u001b[31mTypeError\u001b[39m: Only integers are allowed"
     ]
    }
   ],
   "source": [
    "x = \"hello\"\n",
    "\n",
    "if not type(x) is int:\n",
    "    raise TypeError(\"Only integers are allowed\")\n",
    "    "
   ]
  },
  {
   "cell_type": "code",
   "execution_count": 20,
   "id": "c5ebba13-10e6-4c4a-a6b4-97a1947b80e9",
   "metadata": {},
   "outputs": [
    {
     "ename": "ValueError",
     "evalue": "Value < 1 is not allowed",
     "output_type": "error",
     "traceback": [
      "\u001b[31m---------------------------------------------------------------------------\u001b[39m",
      "\u001b[31mValueError\u001b[39m                                Traceback (most recent call last)",
      "\u001b[36mCell\u001b[39m\u001b[36m \u001b[39m\u001b[32mIn[20]\u001b[39m\u001b[32m, line 4\u001b[39m\n\u001b[32m      1\u001b[39m x=\u001b[32m0\u001b[39m\n\u001b[32m      3\u001b[39m \u001b[38;5;28;01mif\u001b[39;00m(x<\u001b[32m1\u001b[39m):\n\u001b[32m----> \u001b[39m\u001b[32m4\u001b[39m     \u001b[38;5;28;01mraise\u001b[39;00m \u001b[38;5;167;01mValueError\u001b[39;00m(\u001b[33m\"\u001b[39m\u001b[33mValue < 1 is not allowed\u001b[39m\u001b[33m\"\u001b[39m)\n",
      "\u001b[31mValueError\u001b[39m: Value < 1 is not allowed"
     ]
    }
   ],
   "source": [
    "x=0\n",
    "\n",
    "if(x<1):\n",
    "    raise ValueError(\"Value < 1 is not allowed\")\n"
   ]
  },
  {
   "cell_type": "markdown",
   "id": "f20348d7-31c8-4dff-8b07-d525189aab02",
   "metadata": {},
   "source": [
    "enumerate is very importent"
   ]
  },
  {
   "cell_type": "code",
   "execution_count": 21,
   "id": "8d7f52c8-9177-47d8-9da2-359938948299",
   "metadata": {},
   "outputs": [
    {
     "name": "stdout",
     "output_type": "stream",
     "text": [
      "100\n",
      "200\n",
      "300\n",
      "400\n",
      "500\n",
      "600\n",
      "700\n"
     ]
    }
   ],
   "source": [
    "my_list=[100, 200, 300, 400, 500, 600, 700]\n",
    "\n",
    "for i in my_list:\n",
    "    print(i)"
   ]
  },
  {
   "cell_type": "code",
   "execution_count": 22,
   "id": "5d50ea49",
   "metadata": {},
   "outputs": [
    {
     "name": "stdout",
     "output_type": "stream",
     "text": [
      "(0, 100)\n",
      "(1, 200)\n",
      "(2, 300)\n",
      "(3, 400)\n",
      "(4, 500)\n",
      "(5, 600)\n",
      "(6, 700)\n"
     ]
    }
   ],
   "source": [
    "my_list=[100, 200, 300, 400, 500, 600, 700]\n",
    "\n",
    "for i in enumerate(my_list):\n",
    "    print(i)"
   ]
  },
  {
   "cell_type": "code",
   "execution_count": 23,
   "id": "3efd7c6b",
   "metadata": {},
   "outputs": [
    {
     "name": "stdout",
     "output_type": "stream",
     "text": [
      "0\n",
      "1\n",
      "2\n",
      "3\n",
      "4\n",
      "5\n",
      "6\n"
     ]
    }
   ],
   "source": [
    "my_list=[100, 200, 300, 400, 500, 600, 700]\n",
    "\n",
    "for i,x in enumerate(my_list):\n",
    "    print(i)"
   ]
  },
  {
   "cell_type": "code",
   "execution_count": 24,
   "id": "1ed906ff",
   "metadata": {},
   "outputs": [
    {
     "name": "stdout",
     "output_type": "stream",
     "text": [
      "100\n",
      "200\n",
      "300\n",
      "400\n",
      "500\n",
      "600\n",
      "700\n"
     ]
    }
   ],
   "source": [
    "my_list=[100, 200, 300, 400, 500, 600, 700]\n",
    "\n",
    "for i,x in enumerate(my_list):\n",
    "    print(x)"
   ]
  },
  {
   "cell_type": "code",
   "execution_count": null,
   "id": "fbcf62ad-f880-46d6-b76c-b207661fd950",
   "metadata": {},
   "outputs": [],
   "source": []
  }
 ],
 "metadata": {
  "kernelspec": {
   "display_name": "Python 3 (ipykernel)",
   "language": "python",
   "name": "python3"
  },
  "language_info": {
   "codemirror_mode": {
    "name": "ipython",
    "version": 3
   },
   "file_extension": ".py",
   "mimetype": "text/x-python",
   "name": "python",
   "nbconvert_exporter": "python",
   "pygments_lexer": "ipython3",
   "version": "3.11.4"
  }
 },
 "nbformat": 4,
 "nbformat_minor": 5
}
